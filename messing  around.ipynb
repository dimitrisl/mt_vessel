{
 "cells": [
  {
   "cell_type": "markdown",
   "id": "8a6504df",
   "metadata": {},
   "source": [
    "## Business problem"
   ]
  },
  {
   "cell_type": "markdown",
   "id": "1b9d70b8",
   "metadata": {},
   "source": [
    "Port terminals constantly strive to improve the efficiency of their operations through a careful\n",
    "management of their berth facilities, machinery and personnel. \n",
    "\n",
    "\n",
    "\n",
    "The most important variables when planning terminal operations is knowing which vessels will arrive at the terminal and when.\n",
    "\n",
    "\n",
    "MarineTraffic aims at being the best visibility providers by providing up to date vessel tracking data (using AIS), as well as additional derived information such as the estimated time of arrival (ETA) of a vessel to a port of interest.\n",
    "\n",
    "\n",
    "AIS messages contain information on the port that the vessel is traveling to as well as the estimated time of arrival.\n",
    "\n",
    "However, since ports may consist of more than one terminal, the exact terminal that the\n",
    "vessel will visit is not known in advance making it difficult for MarineTraffic to assign future arrivals to terminals which, in turn, limits the ability to measure terminal congestion and calculate more accurate terminal arrival times.\n",
    "\n",
    "\n",
    "\n",
    "A model which predicts the terminal a vessel will travel to has the potential to help all parties involved in a port call to plan their operations more effectively"
   ]
  },
  {
   "cell_type": "markdown",
   "id": "4d7b62ca",
   "metadata": {},
   "source": [
    "# Data Description"
   ]
  },
  {
   "cell_type": "markdown",
   "id": "a27dc5d4",
   "metadata": {},
   "source": [
    "A dataset has been extracted containing container calls at terminals that took place during the past 3\n",
    "years for the Port of **Hamburg and Port of Los Angeles**. The dataset contains the following fields"
   ]
  },
  {
   "cell_type": "markdown",
   "id": "25d61f2b",
   "metadata": {},
   "source": [
    "A dataset has been extracted containing container calls at terminals that took place during the past 3\n",
    "years for the Port of Hamburg and Port of Los Angeles. The dataset contains the following fields;\n",
    "\n",
    "\n",
    "* **last_port**: Port where the *last* terminal call by vessel is recorded.\n",
    "\n",
    "\n",
    "\n",
    "* **last_terminal**: The immediately previous *terminal* call of the vessel.\n",
    "\n",
    "\n",
    "* **last_terminal_doc_timestamp**: Timestamp of previous terminal call.\n",
    "\n",
    "\n",
    "* **current_port**: Port where the current terminal call by vessel is recorded.\n",
    "\n",
    "\n",
    "* **current_terminal**: Current terminal call of the vessel.\n",
    "\n",
    "\n",
    "* **shipname**: Name of the vessel.\n",
    "\n",
    "\n",
    "* **dock_timestamp**: Timestamp of current terminal call.\n",
    "\n",
    "\n",
    "* **GRT**: Vessel capacity (gross tonnage unit).\n",
    "\n",
    "\n",
    "* **TEU**: Vessel capacity (twenty-foot equivalent Unit).\n",
    "\n",
    "\n",
    "* **length**: Vessel length.\n",
    "\n",
    "\n",
    "* **width**: Vessel width."
   ]
  },
  {
   "cell_type": "markdown",
   "id": "13c7a156",
   "metadata": {},
   "source": [
    "# Goals and Deliverable\n"
   ]
  },
  {
   "cell_type": "markdown",
   "id": "f409a947",
   "metadata": {},
   "source": [
    "The goal of this task is to implement & evaluate the accuracy of a solution that predicts the terminal\n",
    "that a vessel will call.\n",
    "**The product team claims that the history of terminals visited by a vessel in the past is a critical factor\n",
    "that should be incorporated into the model**.\n",
    "\n",
    "Some important steps that your solution would be expected to address and describe are the following:\n",
    "* What features have you finally selected and engineered for your modeling approach? What led you to these choices? Why & how have you processed them?\n",
    "* Which features seem to be the most important & how did you evaluate their importance?\n",
    "* Do your findings agree with the product team’s insights discussed above? Before developing a ML model, how would you evaluate the importance/predictive power of one of the productidentified features as an independent variable?\n",
    "* What type of prediction/training model have you chosen and why?\n",
    "* How well does your predictive solution perform in terms of predicting the terminal a vessel will call?\n",
    "* What different metrics/graphs can you use in order to understand when & why the algorithm fails/succeeds?\n",
    "* What would be your baseline (i.e. a “naive” approach) to compare against?"
   ]
  },
  {
   "cell_type": "markdown",
   "id": "ee228f63",
   "metadata": {},
   "source": [
    "# Solution Procedure"
   ]
  },
  {
   "cell_type": "markdown",
   "id": "6bf6c265",
   "metadata": {},
   "source": [
    "### problem understanding & EDA"
   ]
  },
  {
   "cell_type": "markdown",
   "id": "8111499a",
   "metadata": {},
   "source": [
    "In order to understand the problem we have to dive into the data"
   ]
  },
  {
   "cell_type": "code",
   "execution_count": 1,
   "id": "6203351b",
   "metadata": {},
   "outputs": [],
   "source": [
    "import pandas as pd\n",
    "import numpy as np\n",
    "import matplotlib.pyplot as plt\n",
    "from IPython.display import display, HTML\n",
    "from sklearn.linear_model import LogisticRegression\n",
    "from sklearn.preprocessing import RobustScaler\n",
    "from sklearn.svm import SVC\n",
    "from sklearn.metrics import accuracy_score\n",
    "from sklearn.model_selection import train_test_split\n",
    "from sklearn.metrics import f1_score\n",
    "from sklearn.preprocessing import LabelEncoder\n",
    "\n",
    "from sklearn.ensemble import RandomForestClassifier"
   ]
  },
  {
   "cell_type": "code",
   "execution_count": 2,
   "id": "cc3459be",
   "metadata": {},
   "outputs": [],
   "source": [
    "raw_data = pd.read_csv(\"data/mt_terminal_calls.csv\")"
   ]
  },
  {
   "cell_type": "code",
   "execution_count": 3,
   "id": "55e2d7a7",
   "metadata": {},
   "outputs": [
    {
     "data": {
      "text/html": [
       "<div>\n",
       "<style scoped>\n",
       "    .dataframe tbody tr th:only-of-type {\n",
       "        vertical-align: middle;\n",
       "    }\n",
       "\n",
       "    .dataframe tbody tr th {\n",
       "        vertical-align: top;\n",
       "    }\n",
       "\n",
       "    .dataframe thead th {\n",
       "        text-align: right;\n",
       "    }\n",
       "</style>\n",
       "<table border=\"1\" class=\"dataframe\">\n",
       "  <thead>\n",
       "    <tr style=\"text-align: right;\">\n",
       "      <th></th>\n",
       "      <th>last_port</th>\n",
       "      <th>last_terminal</th>\n",
       "      <th>last_terminal_doc_timestamp</th>\n",
       "      <th>current_port</th>\n",
       "      <th>current_terminal</th>\n",
       "      <th>shipname</th>\n",
       "      <th>doc_timestamp</th>\n",
       "      <th>grt</th>\n",
       "      <th>teu</th>\n",
       "      <th>length</th>\n",
       "      <th>width</th>\n",
       "    </tr>\n",
       "  </thead>\n",
       "  <tbody>\n",
       "    <tr>\n",
       "      <th>0</th>\n",
       "      <td>BREMERHAVEN</td>\n",
       "      <td>North Sea Terminal</td>\n",
       "      <td>2020-01-02 16:12:00.000</td>\n",
       "      <td>HAMBURG</td>\n",
       "      <td>Eurogate Container Terminal Hamburg</td>\n",
       "      <td>HEINRICH EHLER</td>\n",
       "      <td>2020-01-03 06:20:00.000</td>\n",
       "      <td>17488</td>\n",
       "      <td>1421</td>\n",
       "      <td>168.11</td>\n",
       "      <td>26.80</td>\n",
       "    </tr>\n",
       "    <tr>\n",
       "      <th>1</th>\n",
       "      <td>TILBURY</td>\n",
       "      <td>London Container Terminal</td>\n",
       "      <td>2020-01-01 21:56:00.000</td>\n",
       "      <td>HAMBURG</td>\n",
       "      <td>C. Steinweg Multipurpose Terminal</td>\n",
       "      <td>HENNEKE RAMBOW</td>\n",
       "      <td>2020-01-03 07:45:00.000</td>\n",
       "      <td>9981</td>\n",
       "      <td>868</td>\n",
       "      <td>134.40</td>\n",
       "      <td>22.74</td>\n",
       "    </tr>\n",
       "    <tr>\n",
       "      <th>2</th>\n",
       "      <td>ROTTERDAM MAASVLAKTE</td>\n",
       "      <td>Rotterdam World Gateway Terminal</td>\n",
       "      <td>2020-01-02 12:06:00.000</td>\n",
       "      <td>HAMBURG</td>\n",
       "      <td>HHLA Container Terminal Burchardkai</td>\n",
       "      <td>CMA CGM TANGER</td>\n",
       "      <td>2020-01-03 20:20:00.000</td>\n",
       "      <td>9966</td>\n",
       "      <td>1118</td>\n",
       "      <td>147.80</td>\n",
       "      <td>23.28</td>\n",
       "    </tr>\n",
       "    <tr>\n",
       "      <th>3</th>\n",
       "      <td>ROTTERDAM WAALHAVEN</td>\n",
       "      <td>RST Waalhaven</td>\n",
       "      <td>2020-01-01 16:05:00.000</td>\n",
       "      <td>HAMBURG</td>\n",
       "      <td>HHLA Container Terminal Burchardkai</td>\n",
       "      <td>NIEVES B</td>\n",
       "      <td>2020-01-03 20:28:00.000</td>\n",
       "      <td>10318</td>\n",
       "      <td>1036</td>\n",
       "      <td>151.72</td>\n",
       "      <td>23.40</td>\n",
       "    </tr>\n",
       "    <tr>\n",
       "      <th>4</th>\n",
       "      <td>GDYNIA</td>\n",
       "      <td>Gdynia Container Terminal</td>\n",
       "      <td>2020-01-01 14:45:00.000</td>\n",
       "      <td>HAMBURG</td>\n",
       "      <td>HHLA Container Terminal Burchardkai</td>\n",
       "      <td>JUDITH</td>\n",
       "      <td>2020-01-04 05:05:00.000</td>\n",
       "      <td>16023</td>\n",
       "      <td>1440</td>\n",
       "      <td>170.02</td>\n",
       "      <td>25.19</td>\n",
       "    </tr>\n",
       "  </tbody>\n",
       "</table>\n",
       "</div>"
      ],
      "text/plain": [
       "              last_port                     last_terminal  \\\n",
       "0           BREMERHAVEN                North Sea Terminal   \n",
       "1               TILBURY         London Container Terminal   \n",
       "2  ROTTERDAM MAASVLAKTE  Rotterdam World Gateway Terminal   \n",
       "3   ROTTERDAM WAALHAVEN                     RST Waalhaven   \n",
       "4                GDYNIA         Gdynia Container Terminal   \n",
       "\n",
       "  last_terminal_doc_timestamp current_port  \\\n",
       "0     2020-01-02 16:12:00.000      HAMBURG   \n",
       "1     2020-01-01 21:56:00.000      HAMBURG   \n",
       "2     2020-01-02 12:06:00.000      HAMBURG   \n",
       "3     2020-01-01 16:05:00.000      HAMBURG   \n",
       "4     2020-01-01 14:45:00.000      HAMBURG   \n",
       "\n",
       "                      current_terminal        shipname  \\\n",
       "0  Eurogate Container Terminal Hamburg  HEINRICH EHLER   \n",
       "1    C. Steinweg Multipurpose Terminal  HENNEKE RAMBOW   \n",
       "2  HHLA Container Terminal Burchardkai  CMA CGM TANGER   \n",
       "3  HHLA Container Terminal Burchardkai        NIEVES B   \n",
       "4  HHLA Container Terminal Burchardkai          JUDITH   \n",
       "\n",
       "             doc_timestamp    grt   teu  length  width  \n",
       "0  2020-01-03 06:20:00.000  17488  1421  168.11  26.80  \n",
       "1  2020-01-03 07:45:00.000   9981   868  134.40  22.74  \n",
       "2  2020-01-03 20:20:00.000   9966  1118  147.80  23.28  \n",
       "3  2020-01-03 20:28:00.000  10318  1036  151.72  23.40  \n",
       "4  2020-01-04 05:05:00.000  16023  1440  170.02  25.19  "
      ]
     },
     "execution_count": 3,
     "metadata": {},
     "output_type": "execute_result"
    }
   ],
   "source": [
    "raw_data.head(5)"
   ]
  },
  {
   "cell_type": "markdown",
   "id": "688aaef8",
   "metadata": {},
   "source": [
    "In order to make sense of the markets team claim of the historical importance of each ship,\n",
    "is to check if any of those ships have actually performed a \"full circle\" from HAMBURG/LA to HAMBURG/LA"
   ]
  },
  {
   "cell_type": "code",
   "execution_count": 4,
   "id": "312a2c83",
   "metadata": {},
   "outputs": [
    {
     "name": "stdout",
     "output_type": "stream",
     "text": [
      "<class 'pandas.core.frame.DataFrame'>\n",
      "RangeIndex: 12054 entries, 0 to 12053\n",
      "Data columns (total 11 columns):\n",
      " #   Column                       Non-Null Count  Dtype  \n",
      "---  ------                       --------------  -----  \n",
      " 0   last_port                    12054 non-null  object \n",
      " 1   last_terminal                12054 non-null  object \n",
      " 2   last_terminal_doc_timestamp  12054 non-null  object \n",
      " 3   current_port                 12054 non-null  object \n",
      " 4   current_terminal             12054 non-null  object \n",
      " 5   shipname                     12054 non-null  object \n",
      " 6   doc_timestamp                12054 non-null  object \n",
      " 7   grt                          12054 non-null  int64  \n",
      " 8   teu                          12054 non-null  int64  \n",
      " 9   length                       12054 non-null  float64\n",
      " 10  width                        12054 non-null  float64\n",
      "dtypes: float64(2), int64(2), object(7)\n",
      "memory usage: 1.0+ MB\n"
     ]
    }
   ],
   "source": [
    "raw_data.info()"
   ]
  },
  {
   "cell_type": "code",
   "execution_count": 5,
   "id": "c320c116",
   "metadata": {},
   "outputs": [],
   "source": [
    "last_ports = raw_data.loc[:, \"last_port\"].unique().tolist()"
   ]
  },
  {
   "cell_type": "code",
   "execution_count": 6,
   "id": "0dfe2d3b",
   "metadata": {},
   "outputs": [],
   "source": [
    "current_port = raw_data.loc[:, \"current_port\"].unique().tolist()"
   ]
  },
  {
   "cell_type": "code",
   "execution_count": 7,
   "id": "8c082dd7",
   "metadata": {},
   "outputs": [
    {
     "name": "stdout",
     "output_type": "stream",
     "text": [
      "2\n"
     ]
    }
   ],
   "source": [
    "print(f\"{len(current_port)}\")"
   ]
  },
  {
   "cell_type": "code",
   "execution_count": 8,
   "id": "84bbbcd2",
   "metadata": {},
   "outputs": [
    {
     "name": "stdout",
     "output_type": "stream",
     "text": [
      "165\n"
     ]
    }
   ],
   "source": [
    "print(f\"{len(last_ports)}\")"
   ]
  },
  {
   "cell_type": "code",
   "execution_count": 9,
   "id": "fa3f95db",
   "metadata": {},
   "outputs": [
    {
     "data": {
      "text/plain": [
       "set()"
      ]
     },
     "execution_count": 9,
     "metadata": {},
     "output_type": "execute_result"
    }
   ],
   "source": [
    "set(current_port).intersection(last_ports)"
   ]
  },
  {
   "cell_type": "markdown",
   "id": "c9753ee4",
   "metadata": {},
   "source": [
    "the empty set here signifies that there are no roundtrips of the ships."
   ]
  },
  {
   "cell_type": "markdown",
   "id": "97b6c73c",
   "metadata": {},
   "source": [
    "It is rather safe to assume that no \"last terminals\" exist in the the \"current terminals\" and vice versa"
   ]
  },
  {
   "cell_type": "markdown",
   "id": "16e33aaa",
   "metadata": {},
   "source": [
    "\n",
    "##### The product team claims that the history of terminals visited by a vessel in the past is a critical factor that should be incorporated into the model."
   ]
  },
  {
   "cell_type": "markdown",
   "id": "c7afba93",
   "metadata": {},
   "source": [
    "This claim would make a lot of sense if we could actually use"
   ]
  },
  {
   "cell_type": "code",
   "execution_count": null,
   "id": "d59c15e8",
   "metadata": {},
   "outputs": [],
   "source": []
  },
  {
   "cell_type": "code",
   "execution_count": null,
   "id": "1d15191b",
   "metadata": {},
   "outputs": [],
   "source": []
  },
  {
   "cell_type": "code",
   "execution_count": null,
   "id": "ac09747b",
   "metadata": {},
   "outputs": [],
   "source": []
  },
  {
   "cell_type": "code",
   "execution_count": null,
   "id": "1798ecfa",
   "metadata": {},
   "outputs": [],
   "source": [
    "grouped_by_ship = raw_data.groupby(by=\"shipname\")"
   ]
  },
  {
   "cell_type": "code",
   "execution_count": null,
   "id": "0e1970ad",
   "metadata": {},
   "outputs": [],
   "source": []
  },
  {
   "cell_type": "markdown",
   "id": "d4ba50da",
   "metadata": {},
   "source": [
    "### lets investigate the timeline of some ships"
   ]
  },
  {
   "cell_type": "code",
   "execution_count": null,
   "id": "5066cd65",
   "metadata": {},
   "outputs": [],
   "source": [
    "print(f\"the unique ships in this dataset are {len(raw_data.shipname.unique())}\")"
   ]
  },
  {
   "cell_type": "code",
   "execution_count": null,
   "id": "53ecaa20",
   "metadata": {},
   "outputs": [],
   "source": [
    "ships_gone_both = []"
   ]
  },
  {
   "cell_type": "code",
   "execution_count": null,
   "id": "5005ea46",
   "metadata": {
    "scrolled": true
   },
   "outputs": [],
   "source": [
    "for ship in raw_data.shipname.unique():\n",
    "    dest = len(raw_data.loc[raw_data[\"shipname\"]==ship,\"current_port\"].unique())\n",
    "    if dest !=1:\n",
    "        ships_gone_both.append(ship)"
   ]
  },
  {
   "cell_type": "code",
   "execution_count": null,
   "id": "12b4893f",
   "metadata": {
    "scrolled": true
   },
   "outputs": [],
   "source": [
    "print(f\"{len(ships_gone_both)} have gone to both ports.\")"
   ]
  },
  {
   "cell_type": "code",
   "execution_count": null,
   "id": "1f6a9fc6",
   "metadata": {
    "scrolled": true
   },
   "outputs": [],
   "source": [
    "user_defined = 5\n",
    "for ship_no,(name,group) in enumerate(raw_data.groupby(\"shipname\")):\n",
    "    print(f\"ship: {name}\")\n",
    "    display(group.sort_values(by=\"last_terminal_doc_timestamp\"))\n",
    "    if ship_no > user_defined -1:\n",
    "        break"
   ]
  },
  {
   "cell_type": "markdown",
   "id": "4e75daab",
   "metadata": {},
   "source": [
    "It is evident that those ships"
   ]
  },
  {
   "cell_type": "code",
   "execution_count": null,
   "id": "dd40cded",
   "metadata": {},
   "outputs": [],
   "source": [
    "terminal_ham = raw_data.loc[raw_data[\"current_port\"]==\"HAMBURG\", \"current_terminal\"].unique().tolist()"
   ]
  },
  {
   "cell_type": "code",
   "execution_count": null,
   "id": "4684de93",
   "metadata": {},
   "outputs": [],
   "source": [
    "terminal_la = raw_data.loc[raw_data[\"current_port\"]==\"LOS ANGELES\", \"current_terminal\"].unique().tolist()"
   ]
  },
  {
   "cell_type": "code",
   "execution_count": null,
   "id": "51d38842",
   "metadata": {},
   "outputs": [],
   "source": [
    "# Essentially these here are our labels."
   ]
  },
  {
   "cell_type": "code",
   "execution_count": null,
   "id": "14b58d8c",
   "metadata": {},
   "outputs": [],
   "source": [
    "set(terminal_ham).intersection(set(terminal_la)),set(terminal_la).intersection(set(terminal_ham))"
   ]
  },
  {
   "cell_type": "code",
   "execution_count": null,
   "id": "91141be5",
   "metadata": {},
   "outputs": [],
   "source": [
    "print(\"possible final terminals\", len(terminal_ham)+len(terminal_la))"
   ]
  },
  {
   "cell_type": "code",
   "execution_count": null,
   "id": "02f14271",
   "metadata": {},
   "outputs": [],
   "source": [
    "raw_data.columns"
   ]
  },
  {
   "cell_type": "code",
   "execution_count": null,
   "id": "4a431212",
   "metadata": {},
   "outputs": [],
   "source": [
    "raw_data[\"port_terminal\"] = raw_data.apply(lambda x: f\"{x['current_port']}_{x['current_terminal']}\",axis=1)"
   ]
  },
  {
   "cell_type": "code",
   "execution_count": null,
   "id": "b4ceaead",
   "metadata": {},
   "outputs": [],
   "source": [
    "print(raw_data[\"port_terminal\"].unique().shape[0])"
   ]
  },
  {
   "cell_type": "code",
   "execution_count": null,
   "id": "74d2f061",
   "metadata": {},
   "outputs": [],
   "source": [
    "raw_data.apply(lambda x: f\"{x['last_port']}_{x['last_terminal']}\",axis=1).unique().shape"
   ]
  },
  {
   "cell_type": "code",
   "execution_count": null,
   "id": "42e9d1f8",
   "metadata": {},
   "outputs": [],
   "source": [
    "# if we keep in mind the port and the last terminal in mind we will have a severe case of sparse matrix\n",
    "# since we're going to have to create one hot representation for that feature."
   ]
  },
  {
   "cell_type": "code",
   "execution_count": null,
   "id": "02389164",
   "metadata": {},
   "outputs": [],
   "source": [
    "# first attempt"
   ]
  },
  {
   "cell_type": "markdown",
   "id": "e59220a3",
   "metadata": {},
   "source": [
    "What features have you finally selected and engineered for your modeling approach? What led you to these choices? Why & how have you processed them?"
   ]
  },
  {
   "cell_type": "code",
   "execution_count": null,
   "id": "1df82b21",
   "metadata": {},
   "outputs": [],
   "source": [
    "raw_data"
   ]
  },
  {
   "cell_type": "code",
   "execution_count": null,
   "id": "7b87444a",
   "metadata": {},
   "outputs": [],
   "source": []
  },
  {
   "cell_type": "code",
   "execution_count": null,
   "id": "25442761",
   "metadata": {},
   "outputs": [],
   "source": []
  },
  {
   "cell_type": "code",
   "execution_count": null,
   "id": "402b8aeb",
   "metadata": {},
   "outputs": [],
   "source": []
  },
  {
   "cell_type": "code",
   "execution_count": null,
   "id": "11a3e316",
   "metadata": {},
   "outputs": [],
   "source": []
  },
  {
   "cell_type": "code",
   "execution_count": null,
   "id": "c98622be",
   "metadata": {},
   "outputs": [],
   "source": [
    "raw_data.columns"
   ]
  },
  {
   "cell_type": "code",
   "execution_count": null,
   "id": "3d623579",
   "metadata": {},
   "outputs": [],
   "source": [
    "kept_cols =['last_terminal_doc_timestamp', 'current_port', 'current_terminal', 'shipname', 'doc_timestamp', 'grt','teu', 'length', 'width', 'port_terminal']"
   ]
  },
  {
   "cell_type": "code",
   "execution_count": null,
   "id": "61f6377d",
   "metadata": {},
   "outputs": [],
   "source": [
    "# distance could potentially be a much greater feature than everything else?"
   ]
  },
  {
   "cell_type": "code",
   "execution_count": null,
   "id": "800f3d72",
   "metadata": {},
   "outputs": [],
   "source": [
    "kept_cols.append(\"diff\")"
   ]
  },
  {
   "cell_type": "code",
   "execution_count": null,
   "id": "efaf11ea",
   "metadata": {},
   "outputs": [],
   "source": [
    "raw_data[\"diff\"] = (pd.to_datetime(raw_data.loc[:, \"doc_timestamp\"]) - pd.to_datetime(raw_data.loc[:, \"last_terminal_doc_timestamp\"]))"
   ]
  },
  {
   "cell_type": "code",
   "execution_count": null,
   "id": "b0399da0",
   "metadata": {},
   "outputs": [],
   "source": [
    "raw_data = raw_data.loc[:, kept_cols]"
   ]
  },
  {
   "cell_type": "code",
   "execution_count": null,
   "id": "9eee037d",
   "metadata": {},
   "outputs": [],
   "source": [
    "raw_data = raw_data.loc[:, [\"grt\",\"teu\",\"length\", \"width\", \"diff\", \"port_terminal\"]]"
   ]
  },
  {
   "cell_type": "code",
   "execution_count": null,
   "id": "427a9bb3",
   "metadata": {},
   "outputs": [],
   "source": [
    "raw_data.describe()"
   ]
  },
  {
   "cell_type": "code",
   "execution_count": null,
   "id": "9aa540ba",
   "metadata": {},
   "outputs": [],
   "source": [
    "raw_data[\"diff\"] = raw_data.apply(lambda x: x['diff'].seconds,axis=1)"
   ]
  },
  {
   "cell_type": "code",
   "execution_count": null,
   "id": "968097be",
   "metadata": {},
   "outputs": [],
   "source": [
    "raw_data"
   ]
  },
  {
   "cell_type": "markdown",
   "id": "c42030e8",
   "metadata": {},
   "source": [
    "# first simple baseline"
   ]
  },
  {
   "cell_type": "code",
   "execution_count": null,
   "id": "6c32558c",
   "metadata": {},
   "outputs": [],
   "source": [
    "encoder = LabelEncoder()\n",
    "encoder.fit(raw_data.loc[:,[\"port_terminal\"]].values.reshape(-1,1))"
   ]
  },
  {
   "cell_type": "code",
   "execution_count": null,
   "id": "858e81e1",
   "metadata": {},
   "outputs": [],
   "source": [
    "# since we actually do know the destination port, and those two ports do have different\n",
    "# number of"
   ]
  },
  {
   "cell_type": "code",
   "execution_count": null,
   "id": "0d060ac7",
   "metadata": {},
   "outputs": [],
   "source": [
    "model = LogisticRegression()"
   ]
  },
  {
   "cell_type": "code",
   "execution_count": null,
   "id": "3348fbe2",
   "metadata": {},
   "outputs": [],
   "source": [
    "X_train, X_test, y_train, y_test = train_test_split(raw_data.loc[:, raw_data.columns!=\"port_terminal\"], raw_data.loc[:,[\"port_terminal\"]], test_size=0.2, random_state=42)"
   ]
  },
  {
   "cell_type": "code",
   "execution_count": null,
   "id": "e8f6b01a",
   "metadata": {},
   "outputs": [],
   "source": [
    "y_train = encoder.transform(y_train)\n",
    "# y_train = np.argmax(y_train, axis=1)\n",
    "y_train = pd.DataFrame(y_train,columns=[\"label\"])\n",
    "y_test = encoder.transform(y_test)\n",
    "# y_test = np.argmax(y_test, axis=1)\n",
    "y_test = pd.DataFrame(y_test,columns=[\"label\"])"
   ]
  },
  {
   "cell_type": "code",
   "execution_count": null,
   "id": "3c52d0d0",
   "metadata": {},
   "outputs": [],
   "source": [
    "model.fit(X_train,y_train)"
   ]
  },
  {
   "cell_type": "code",
   "execution_count": null,
   "id": "20b89b14",
   "metadata": {},
   "outputs": [],
   "source": [
    "y_pred = model.predict(X_test)"
   ]
  },
  {
   "cell_type": "code",
   "execution_count": null,
   "id": "f88c6cd1",
   "metadata": {},
   "outputs": [],
   "source": [
    "print(f1_score(y_test, y_pred, average=\"micro\"))"
   ]
  },
  {
   "cell_type": "code",
   "execution_count": null,
   "id": "90608c2d",
   "metadata": {},
   "outputs": [],
   "source": [
    "print(f1_score(y_test, y_pred, average=\"macro\"))"
   ]
  },
  {
   "cell_type": "code",
   "execution_count": null,
   "id": "86200d4e",
   "metadata": {},
   "outputs": [],
   "source": [
    "accuracy_score(y_test, y_pred)"
   ]
  },
  {
   "cell_type": "code",
   "execution_count": null,
   "id": "d1fa1c23",
   "metadata": {},
   "outputs": [],
   "source": [
    "model = SVC()\n",
    "model.fit(X_train, y_train.values.ravel())\n",
    "\n",
    "y_pred = model.predict(X_test)\n",
    "\n",
    "print(f1_score(y_test, y_pred, average=\"micro\"))\n",
    "print(f1_score(y_test, y_pred, average=\"macro\"))"
   ]
  },
  {
   "cell_type": "code",
   "execution_count": null,
   "id": "9d26a543",
   "metadata": {},
   "outputs": [],
   "source": [
    "model = RandomForestClassifier()"
   ]
  },
  {
   "cell_type": "code",
   "execution_count": null,
   "id": "44bd0172",
   "metadata": {},
   "outputs": [],
   "source": [
    "model.fit(X_train,y_train)\n",
    "y_pred = model.predict(X_test)"
   ]
  },
  {
   "cell_type": "code",
   "execution_count": null,
   "id": "c56c0f96",
   "metadata": {},
   "outputs": [],
   "source": [
    "print(f1_score(y_test, y_pred, average=\"micro\"))"
   ]
  },
  {
   "cell_type": "code",
   "execution_count": null,
   "id": "511dc95c",
   "metadata": {},
   "outputs": [],
   "source": [
    "print(f1_score(y_test, y_pred, average=\"macro\"))"
   ]
  },
  {
   "cell_type": "code",
   "execution_count": null,
   "id": "7410affe",
   "metadata": {},
   "outputs": [],
   "source": [
    "train_scaler = RobustScaler()"
   ]
  },
  {
   "cell_type": "code",
   "execution_count": null,
   "id": "5665e523",
   "metadata": {},
   "outputs": [],
   "source": [
    "X_train = train_scaler.fit_transform(X_train)"
   ]
  },
  {
   "cell_type": "code",
   "execution_count": null,
   "id": "dfdf9c37",
   "metadata": {},
   "outputs": [],
   "source": [
    "X_train"
   ]
  },
  {
   "cell_type": "code",
   "execution_count": null,
   "id": "446217a4",
   "metadata": {},
   "outputs": [],
   "source": [
    "eval_scaler = RobustScaler()"
   ]
  },
  {
   "cell_type": "code",
   "execution_count": null,
   "id": "2260dac8",
   "metadata": {},
   "outputs": [],
   "source": [
    "X_test = eval_scaler.fit_transform(X_test)"
   ]
  },
  {
   "cell_type": "code",
   "execution_count": null,
   "id": "88c58d4f",
   "metadata": {},
   "outputs": [],
   "source": [
    "model = RandomForestClassifier()"
   ]
  },
  {
   "cell_type": "code",
   "execution_count": null,
   "id": "7b4f205c",
   "metadata": {},
   "outputs": [],
   "source": [
    "model.fit(X_train, y_train.values.ravel())\n",
    "\n",
    "y_pred = model.predict(X_test)"
   ]
  },
  {
   "cell_type": "code",
   "execution_count": null,
   "id": "48e56a12",
   "metadata": {},
   "outputs": [],
   "source": [
    "print(f1_score(y_test, y_pred, average=\"micro\"))"
   ]
  },
  {
   "cell_type": "code",
   "execution_count": null,
   "id": "f9e90688",
   "metadata": {},
   "outputs": [],
   "source": [
    "print(f1_score(y_test, y_pred, average=\"macro\"))"
   ]
  },
  {
   "cell_type": "code",
   "execution_count": null,
   "id": "d7715bf8",
   "metadata": {},
   "outputs": [],
   "source": [
    "model = LogisticRegression()\n",
    "model.fit(X_train, y_train.values.ravel())\n",
    "\n",
    "y_pred = model.predict(X_test)\n",
    "\n",
    "print(f1_score(y_test, y_pred, average=\"micro\"))\n",
    "print(f1_score(y_test, y_pred, average=\"macro\"))"
   ]
  },
  {
   "cell_type": "code",
   "execution_count": null,
   "id": "3845dc15",
   "metadata": {},
   "outputs": [],
   "source": []
  },
  {
   "cell_type": "code",
   "execution_count": null,
   "id": "9ef84ee3",
   "metadata": {},
   "outputs": [],
   "source": []
  },
  {
   "cell_type": "code",
   "execution_count": null,
   "id": "86c6eaf4",
   "metadata": {},
   "outputs": [],
   "source": []
  },
  {
   "cell_type": "code",
   "execution_count": null,
   "id": "43e134d4",
   "metadata": {},
   "outputs": [],
   "source": []
  },
  {
   "cell_type": "code",
   "execution_count": null,
   "id": "911d110e",
   "metadata": {},
   "outputs": [],
   "source": []
  },
  {
   "cell_type": "code",
   "execution_count": null,
   "id": "bcb15644",
   "metadata": {},
   "outputs": [],
   "source": []
  },
  {
   "cell_type": "code",
   "execution_count": null,
   "id": "fa914513",
   "metadata": {},
   "outputs": [],
   "source": []
  },
  {
   "cell_type": "markdown",
   "id": "5a6126d2",
   "metadata": {},
   "source": [
    "### Enstablish simple baselines"
   ]
  },
  {
   "cell_type": "markdown",
   "id": "40c08b4d",
   "metadata": {},
   "source": [
    "### Can we do better?"
   ]
  },
  {
   "cell_type": "code",
   "execution_count": null,
   "id": "7ababffb",
   "metadata": {},
   "outputs": [],
   "source": []
  },
  {
   "cell_type": "markdown",
   "id": "4e5d1eb2",
   "metadata": {},
   "source": [
    "# Possible future work"
   ]
  },
  {
   "cell_type": "markdown",
   "id": "afcd684f",
   "metadata": {},
   "source": [
    "* Given the accuracy of your model, what would be the next steps in terms of deploying a solution such that the model’s value to the business is maximised?"
   ]
  },
  {
   "cell_type": "code",
   "execution_count": null,
   "id": "40f50032",
   "metadata": {},
   "outputs": [],
   "source": []
  }
 ],
 "metadata": {
  "kernelspec": {
   "display_name": "Python 3 (ipykernel)",
   "language": "python",
   "name": "python3"
  },
  "language_info": {
   "codemirror_mode": {
    "name": "ipython",
    "version": 3
   },
   "file_extension": ".py",
   "mimetype": "text/x-python",
   "name": "python",
   "nbconvert_exporter": "python",
   "pygments_lexer": "ipython3",
   "version": "3.9.13"
  }
 },
 "nbformat": 4,
 "nbformat_minor": 5
}
