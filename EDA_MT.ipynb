{
 "cells": [
  {
   "cell_type": "code",
   "execution_count": 1,
   "id": "8f977116",
   "metadata": {},
   "outputs": [],
   "source": [
    "import pandas as pd\n",
    "import numpy as np\n",
    "import matplotlib.pyplot as plt"
   ]
  },
  {
   "cell_type": "markdown",
   "id": "e559cf12",
   "metadata": {},
   "source": [
    "## Business problem"
   ]
  },
  {
   "cell_type": "code",
   "execution_count": null,
   "id": "9e10ca02",
   "metadata": {},
   "outputs": [],
   "source": []
  },
  {
   "cell_type": "code",
   "execution_count": null,
   "id": "26e657ed",
   "metadata": {},
   "outputs": [],
   "source": []
  },
  {
   "cell_type": "markdown",
   "id": "9b82ec71",
   "metadata": {},
   "source": [
    "# Data Description"
   ]
  },
  {
   "cell_type": "markdown",
   "id": "2f1d1160",
   "metadata": {},
   "source": [
    "A dataset has been extracted containing container calls at terminals that took place during the past 3\n",
    "years for the Port of Hamburg and Port of Los Angeles. The dataset contains the following fields"
   ]
  },
  {
   "cell_type": "code",
   "execution_count": 3,
   "id": "62cc0da1",
   "metadata": {},
   "outputs": [],
   "source": [
    "raw_data = pd.read_csv(\"data/mt_terminal_calls.csv\")"
   ]
  },
  {
   "cell_type": "markdown",
   "id": "b2d8124c",
   "metadata": {},
   "source": [
    "A dataset has been extracted containing container calls at terminals that took place during the past 3\n",
    "years for the Port of Hamburg and Port of Los Angeles. The dataset contains the following fields\n",
    "* **last_port**: port where the last terminal call by vessel is recorded\n",
    "* **last_terminal**: the immediately previous terminal call of the vessel\n",
    "* **last_terminal_doc_timestamp**: timestamp of previous terminal call\n",
    "* **current_port**: port where the current terminal call by vessel is recorded\n",
    "* **current_terminal**: current terminal call of the vessel\n",
    "* **shipname**: name of the vessel\n",
    "* **dock_timestamp**: timestamp of current terminal call\n",
    "* **GRT**: vessel capacity (gross tonnage unit)\n",
    "* **TEU**: vessel capacity (twenty-foot equivalent Unit)\n",
    "* **length**: vessel length\n",
    "* **width**: vessel width"
   ]
  },
  {
   "cell_type": "code",
   "execution_count": 5,
   "id": "c5211337",
   "metadata": {},
   "outputs": [
    {
     "data": {
      "text/html": [
       "<div>\n",
       "<style scoped>\n",
       "    .dataframe tbody tr th:only-of-type {\n",
       "        vertical-align: middle;\n",
       "    }\n",
       "\n",
       "    .dataframe tbody tr th {\n",
       "        vertical-align: top;\n",
       "    }\n",
       "\n",
       "    .dataframe thead th {\n",
       "        text-align: right;\n",
       "    }\n",
       "</style>\n",
       "<table border=\"1\" class=\"dataframe\">\n",
       "  <thead>\n",
       "    <tr style=\"text-align: right;\">\n",
       "      <th></th>\n",
       "      <th>last_port</th>\n",
       "      <th>last_terminal</th>\n",
       "      <th>last_terminal_doc_timestamp</th>\n",
       "      <th>current_port</th>\n",
       "      <th>current_terminal</th>\n",
       "      <th>shipname</th>\n",
       "      <th>doc_timestamp</th>\n",
       "      <th>grt</th>\n",
       "      <th>teu</th>\n",
       "      <th>length</th>\n",
       "      <th>width</th>\n",
       "    </tr>\n",
       "  </thead>\n",
       "  <tbody>\n",
       "    <tr>\n",
       "      <th>0</th>\n",
       "      <td>BREMERHAVEN</td>\n",
       "      <td>North Sea Terminal</td>\n",
       "      <td>2020-01-02 16:12:00.000</td>\n",
       "      <td>HAMBURG</td>\n",
       "      <td>Eurogate Container Terminal Hamburg</td>\n",
       "      <td>HEINRICH EHLER</td>\n",
       "      <td>2020-01-03 06:20:00.000</td>\n",
       "      <td>17488</td>\n",
       "      <td>1421</td>\n",
       "      <td>168.11</td>\n",
       "      <td>26.80</td>\n",
       "    </tr>\n",
       "    <tr>\n",
       "      <th>1</th>\n",
       "      <td>TILBURY</td>\n",
       "      <td>London Container Terminal</td>\n",
       "      <td>2020-01-01 21:56:00.000</td>\n",
       "      <td>HAMBURG</td>\n",
       "      <td>C. Steinweg Multipurpose Terminal</td>\n",
       "      <td>HENNEKE RAMBOW</td>\n",
       "      <td>2020-01-03 07:45:00.000</td>\n",
       "      <td>9981</td>\n",
       "      <td>868</td>\n",
       "      <td>134.40</td>\n",
       "      <td>22.74</td>\n",
       "    </tr>\n",
       "    <tr>\n",
       "      <th>2</th>\n",
       "      <td>ROTTERDAM MAASVLAKTE</td>\n",
       "      <td>Rotterdam World Gateway Terminal</td>\n",
       "      <td>2020-01-02 12:06:00.000</td>\n",
       "      <td>HAMBURG</td>\n",
       "      <td>HHLA Container Terminal Burchardkai</td>\n",
       "      <td>CMA CGM TANGER</td>\n",
       "      <td>2020-01-03 20:20:00.000</td>\n",
       "      <td>9966</td>\n",
       "      <td>1118</td>\n",
       "      <td>147.80</td>\n",
       "      <td>23.28</td>\n",
       "    </tr>\n",
       "    <tr>\n",
       "      <th>3</th>\n",
       "      <td>ROTTERDAM WAALHAVEN</td>\n",
       "      <td>RST Waalhaven</td>\n",
       "      <td>2020-01-01 16:05:00.000</td>\n",
       "      <td>HAMBURG</td>\n",
       "      <td>HHLA Container Terminal Burchardkai</td>\n",
       "      <td>NIEVES B</td>\n",
       "      <td>2020-01-03 20:28:00.000</td>\n",
       "      <td>10318</td>\n",
       "      <td>1036</td>\n",
       "      <td>151.72</td>\n",
       "      <td>23.40</td>\n",
       "    </tr>\n",
       "    <tr>\n",
       "      <th>4</th>\n",
       "      <td>GDYNIA</td>\n",
       "      <td>Gdynia Container Terminal</td>\n",
       "      <td>2020-01-01 14:45:00.000</td>\n",
       "      <td>HAMBURG</td>\n",
       "      <td>HHLA Container Terminal Burchardkai</td>\n",
       "      <td>JUDITH</td>\n",
       "      <td>2020-01-04 05:05:00.000</td>\n",
       "      <td>16023</td>\n",
       "      <td>1440</td>\n",
       "      <td>170.02</td>\n",
       "      <td>25.19</td>\n",
       "    </tr>\n",
       "  </tbody>\n",
       "</table>\n",
       "</div>"
      ],
      "text/plain": [
       "              last_port                     last_terminal  \\\n",
       "0           BREMERHAVEN                North Sea Terminal   \n",
       "1               TILBURY         London Container Terminal   \n",
       "2  ROTTERDAM MAASVLAKTE  Rotterdam World Gateway Terminal   \n",
       "3   ROTTERDAM WAALHAVEN                     RST Waalhaven   \n",
       "4                GDYNIA         Gdynia Container Terminal   \n",
       "\n",
       "  last_terminal_doc_timestamp current_port  \\\n",
       "0     2020-01-02 16:12:00.000      HAMBURG   \n",
       "1     2020-01-01 21:56:00.000      HAMBURG   \n",
       "2     2020-01-02 12:06:00.000      HAMBURG   \n",
       "3     2020-01-01 16:05:00.000      HAMBURG   \n",
       "4     2020-01-01 14:45:00.000      HAMBURG   \n",
       "\n",
       "                      current_terminal        shipname  \\\n",
       "0  Eurogate Container Terminal Hamburg  HEINRICH EHLER   \n",
       "1    C. Steinweg Multipurpose Terminal  HENNEKE RAMBOW   \n",
       "2  HHLA Container Terminal Burchardkai  CMA CGM TANGER   \n",
       "3  HHLA Container Terminal Burchardkai        NIEVES B   \n",
       "4  HHLA Container Terminal Burchardkai          JUDITH   \n",
       "\n",
       "             doc_timestamp    grt   teu  length  width  \n",
       "0  2020-01-03 06:20:00.000  17488  1421  168.11  26.80  \n",
       "1  2020-01-03 07:45:00.000   9981   868  134.40  22.74  \n",
       "2  2020-01-03 20:20:00.000   9966  1118  147.80  23.28  \n",
       "3  2020-01-03 20:28:00.000  10318  1036  151.72  23.40  \n",
       "4  2020-01-04 05:05:00.000  16023  1440  170.02  25.19  "
      ]
     },
     "execution_count": 5,
     "metadata": {},
     "output_type": "execute_result"
    }
   ],
   "source": [
    "raw_data.head(5)"
   ]
  },
  {
   "cell_type": "markdown",
   "id": "7490897b",
   "metadata": {},
   "source": [
    "# Goals and Deliverable\n"
   ]
  },
  {
   "cell_type": "markdown",
   "id": "a2ba704c",
   "metadata": {},
   "source": [
    "The goal of this task is to implement & evaluate the accuracy of a solution that predicts the terminal\n",
    "that a vessel will call.\n",
    "The product team claims that the history of terminals visited by a vessel in the past is a critical factor\n",
    "that should be incorporated into the model.\n",
    "Some important steps that your solution would be expected to address and describe are the following:\n",
    "* What features have you finally selected and engineered for your modeling approach? What led you to these choices? Why & how have you processed them?\n",
    "* Which features seem to be the most important & how did you evaluate their importance?\n",
    "* Do your findings agree with the product team’s insights discussed above? Before developing a ML model, how would you evaluate the importance/predictive power of one of the productidentified features as an independent variable?\n",
    "* What type of prediction/training model have you chosen and why?\n",
    "* How well does your predictive solution perform in terms of predicting the terminal a vessel will call?\n",
    "* What different metrics/graphs can you use in order to understand when & why the algorithm fails/succeeds?\n",
    "* What would be your baseline (i.e. a “naive” approach) to compare against?"
   ]
  },
  {
   "cell_type": "code",
   "execution_count": null,
   "id": "1fe67533",
   "metadata": {},
   "outputs": [],
   "source": []
  }
 ],
 "metadata": {
  "kernelspec": {
   "display_name": "Python 3 (ipykernel)",
   "language": "python",
   "name": "python3"
  },
  "language_info": {
   "codemirror_mode": {
    "name": "ipython",
    "version": 3
   },
   "file_extension": ".py",
   "mimetype": "text/x-python",
   "name": "python",
   "nbconvert_exporter": "python",
   "pygments_lexer": "ipython3",
   "version": "3.10.6"
  }
 },
 "nbformat": 4,
 "nbformat_minor": 5
}
