{
 "cells": [
  {
   "cell_type": "markdown",
   "id": "8a6504df",
   "metadata": {},
   "source": [
    "## Business problem"
   ]
  },
  {
   "cell_type": "markdown",
   "id": "1b9d70b8",
   "metadata": {},
   "source": [
    "Port terminals constantly strive to improve the efficiency of their operations through a careful\n",
    "management of their berth facilities, machinery and personnel. \n",
    "\n",
    "\n",
    "\n",
    "The most important variables when planning terminal operations is knowing which vessels will arrive at the terminal and when.\n",
    "\n",
    "\n",
    "MarineTraffic aims at being the best visibility providers by providing up to date vessel tracking data (using AIS), as well as additional derived information such as the estimated time of arrival (ETA) of a vessel to a port of interest.\n",
    "\n",
    "\n",
    "AIS messages contain information on the port that the vessel is traveling to as well as the estimated time of arrival.\n",
    "\n",
    "However, since ports may consist of more than one terminal, the exact terminal that the\n",
    "vessel will visit is not known in advance making it difficult for MarineTraffic to assign future arrivals to terminals which, in turn, limits the ability to measure terminal congestion and calculate more accurate terminal arrival times.\n",
    "\n",
    "\n",
    "\n",
    "A model which predicts the terminal a vessel will travel to has the potential to help all parties involved in a port call to plan their operations more effectively"
   ]
  },
  {
   "cell_type": "markdown",
   "id": "4d7b62ca",
   "metadata": {},
   "source": [
    "# Data Description"
   ]
  },
  {
   "cell_type": "markdown",
   "id": "a27dc5d4",
   "metadata": {},
   "source": [
    "A dataset has been extracted containing container calls at terminals that took place during the past 3\n",
    "years for the Port of **Hamburg and Port of Los Angeles**. The dataset contains the following fields"
   ]
  },
  {
   "cell_type": "markdown",
   "id": "25d61f2b",
   "metadata": {},
   "source": [
    "A dataset has been extracted containing container calls at terminals that took place during the past 3\n",
    "years for the Port of Hamburg and Port of Los Angeles. The dataset contains the following fields;\n",
    "\n",
    "\n",
    "* **last_port**: Port where the *last* terminal call by vessel is recorded.\n",
    "\n",
    "\n",
    "\n",
    "* **last_terminal**: The immediately previous *terminal* call of the vessel.\n",
    "\n",
    "\n",
    "* **last_terminal_doc_timestamp**: Timestamp of previous terminal call.\n",
    "\n",
    "\n",
    "* **current_port**: Port where the current terminal call by vessel is recorded.\n",
    "\n",
    "\n",
    "* **current_terminal**: Current terminal call of the vessel.\n",
    "\n",
    "\n",
    "* **shipname**: Name of the vessel.\n",
    "\n",
    "\n",
    "* **dock_timestamp**: Timestamp of current terminal call.\n",
    "\n",
    "\n",
    "* **GRT**: Vessel capacity (gross tonnage unit).\n",
    "\n",
    "\n",
    "* **TEU**: Vessel capacity (twenty-foot equivalent Unit).\n",
    "\n",
    "\n",
    "* **length**: Vessel length.\n",
    "\n",
    "\n",
    "* **width**: Vessel width."
   ]
  },
  {
   "cell_type": "markdown",
   "id": "13c7a156",
   "metadata": {},
   "source": [
    "# Goals and Deliverable\n"
   ]
  },
  {
   "cell_type": "markdown",
   "id": "f409a947",
   "metadata": {},
   "source": [
    "The goal of this task is to implement & evaluate the accuracy of a solution that predicts the terminal\n",
    "that a vessel will call.\n",
    "**The product team claims that the history of terminals visited by a vessel in the past is a critical factor\n",
    "that should be incorporated into the model**.\n",
    "\n",
    "Some important steps that your solution would be expected to address and describe are the following:\n",
    "* What features have you finally selected and engineered for your modeling approach? What led you to these choices? Why & how have you processed them?\n",
    "* Which features seem to be the most important & how did you evaluate their importance?\n",
    "* Do your findings agree with the product team’s insights discussed above? Before developing a ML model, how would you evaluate the importance/predictive power of one of the productidentified features as an independent variable?\n",
    "* What type of prediction/training model have you chosen and why?\n",
    "* How well does your predictive solution perform in terms of predicting the terminal a vessel will call?\n",
    "* What different metrics/graphs can you use in order to understand when & why the algorithm fails/succeeds?\n",
    "* What would be your baseline (i.e. a “naive” approach) to compare against?"
   ]
  },
  {
   "cell_type": "markdown",
   "id": "ee228f63",
   "metadata": {},
   "source": [
    "# Solution Procedure"
   ]
  },
  {
   "cell_type": "markdown",
   "id": "6bf6c265",
   "metadata": {},
   "source": [
    "### problem understanding & EDA"
   ]
  },
  {
   "cell_type": "markdown",
   "id": "8111499a",
   "metadata": {},
   "source": [
    "In order to understand the problem we have to dive into the data"
   ]
  },
  {
   "cell_type": "code",
   "execution_count": 1,
   "id": "6203351b",
   "metadata": {},
   "outputs": [],
   "source": [
    "import pandas as pd\n",
    "import numpy as np\n",
    "import matplotlib.pyplot as plt\n",
    "from IPython.display import display, HTML\n",
    "from sklearn.linear_model import LogisticRegression\n",
    "from sklearn.preprocessing import RobustScaler\n",
    "from sklearn.svm import SVC\n",
    "from sklearn.metrics import accuracy_score\n",
    "from sklearn.model_selection import train_test_split\n",
    "from sklearn.metrics import f1_score\n",
    "from sklearn.preprocessing import LabelEncoder\n",
    "\n",
    "from sklearn.ensemble import RandomForestClassifier"
   ]
  },
  {
   "cell_type": "code",
   "execution_count": 2,
   "id": "cc3459be",
   "metadata": {},
   "outputs": [],
   "source": [
    "raw_data = pd.read_csv(\"data/mt_terminal_calls.csv\")"
   ]
  },
  {
   "cell_type": "code",
   "execution_count": 3,
   "id": "55e2d7a7",
   "metadata": {},
   "outputs": [
    {
     "data": {
      "text/html": [
       "<div>\n",
       "<style scoped>\n",
       "    .dataframe tbody tr th:only-of-type {\n",
       "        vertical-align: middle;\n",
       "    }\n",
       "\n",
       "    .dataframe tbody tr th {\n",
       "        vertical-align: top;\n",
       "    }\n",
       "\n",
       "    .dataframe thead th {\n",
       "        text-align: right;\n",
       "    }\n",
       "</style>\n",
       "<table border=\"1\" class=\"dataframe\">\n",
       "  <thead>\n",
       "    <tr style=\"text-align: right;\">\n",
       "      <th></th>\n",
       "      <th>last_port</th>\n",
       "      <th>last_terminal</th>\n",
       "      <th>last_terminal_doc_timestamp</th>\n",
       "      <th>current_port</th>\n",
       "      <th>current_terminal</th>\n",
       "      <th>shipname</th>\n",
       "      <th>doc_timestamp</th>\n",
       "      <th>grt</th>\n",
       "      <th>teu</th>\n",
       "      <th>length</th>\n",
       "      <th>width</th>\n",
       "    </tr>\n",
       "  </thead>\n",
       "  <tbody>\n",
       "    <tr>\n",
       "      <th>0</th>\n",
       "      <td>BREMERHAVEN</td>\n",
       "      <td>North Sea Terminal</td>\n",
       "      <td>2020-01-02 16:12:00.000</td>\n",
       "      <td>HAMBURG</td>\n",
       "      <td>Eurogate Container Terminal Hamburg</td>\n",
       "      <td>HEINRICH EHLER</td>\n",
       "      <td>2020-01-03 06:20:00.000</td>\n",
       "      <td>17488</td>\n",
       "      <td>1421</td>\n",
       "      <td>168.11</td>\n",
       "      <td>26.80</td>\n",
       "    </tr>\n",
       "    <tr>\n",
       "      <th>1</th>\n",
       "      <td>TILBURY</td>\n",
       "      <td>London Container Terminal</td>\n",
       "      <td>2020-01-01 21:56:00.000</td>\n",
       "      <td>HAMBURG</td>\n",
       "      <td>C. Steinweg Multipurpose Terminal</td>\n",
       "      <td>HENNEKE RAMBOW</td>\n",
       "      <td>2020-01-03 07:45:00.000</td>\n",
       "      <td>9981</td>\n",
       "      <td>868</td>\n",
       "      <td>134.40</td>\n",
       "      <td>22.74</td>\n",
       "    </tr>\n",
       "  </tbody>\n",
       "</table>\n",
       "</div>"
      ],
      "text/plain": [
       "     last_port              last_terminal last_terminal_doc_timestamp  \\\n",
       "0  BREMERHAVEN         North Sea Terminal     2020-01-02 16:12:00.000   \n",
       "1      TILBURY  London Container Terminal     2020-01-01 21:56:00.000   \n",
       "\n",
       "  current_port                     current_terminal        shipname  \\\n",
       "0      HAMBURG  Eurogate Container Terminal Hamburg  HEINRICH EHLER   \n",
       "1      HAMBURG    C. Steinweg Multipurpose Terminal  HENNEKE RAMBOW   \n",
       "\n",
       "             doc_timestamp    grt   teu  length  width  \n",
       "0  2020-01-03 06:20:00.000  17488  1421  168.11  26.80  \n",
       "1  2020-01-03 07:45:00.000   9981   868  134.40  22.74  "
      ]
     },
     "execution_count": 3,
     "metadata": {},
     "output_type": "execute_result"
    }
   ],
   "source": [
    "raw_data.head(2)"
   ]
  },
  {
   "cell_type": "markdown",
   "id": "688aaef8",
   "metadata": {},
   "source": [
    "In order to make sense of the markets team claim of the historical importance of each ship,\n",
    "is to check if any of those ships have actually performed a \"full circle\" from HAMBURG/LA to HAMBURG/LA"
   ]
  },
  {
   "cell_type": "code",
   "execution_count": 4,
   "id": "312a2c83",
   "metadata": {},
   "outputs": [
    {
     "name": "stdout",
     "output_type": "stream",
     "text": [
      "<class 'pandas.core.frame.DataFrame'>\n",
      "RangeIndex: 12054 entries, 0 to 12053\n",
      "Data columns (total 11 columns):\n",
      " #   Column                       Non-Null Count  Dtype  \n",
      "---  ------                       --------------  -----  \n",
      " 0   last_port                    12054 non-null  object \n",
      " 1   last_terminal                12054 non-null  object \n",
      " 2   last_terminal_doc_timestamp  12054 non-null  object \n",
      " 3   current_port                 12054 non-null  object \n",
      " 4   current_terminal             12054 non-null  object \n",
      " 5   shipname                     12054 non-null  object \n",
      " 6   doc_timestamp                12054 non-null  object \n",
      " 7   grt                          12054 non-null  int64  \n",
      " 8   teu                          12054 non-null  int64  \n",
      " 9   length                       12054 non-null  float64\n",
      " 10  width                        12054 non-null  float64\n",
      "dtypes: float64(2), int64(2), object(7)\n",
      "memory usage: 1.0+ MB\n"
     ]
    }
   ],
   "source": [
    "raw_data.info()"
   ]
  },
  {
   "cell_type": "code",
   "execution_count": 5,
   "id": "c320c116",
   "metadata": {},
   "outputs": [],
   "source": [
    "last_ports = raw_data.loc[:, \"last_port\"].unique().tolist()"
   ]
  },
  {
   "cell_type": "code",
   "execution_count": 6,
   "id": "0dfe2d3b",
   "metadata": {},
   "outputs": [],
   "source": [
    "current_port = raw_data.loc[:, \"current_port\"].unique().tolist()"
   ]
  },
  {
   "cell_type": "code",
   "execution_count": 7,
   "id": "8c082dd7",
   "metadata": {},
   "outputs": [
    {
     "name": "stdout",
     "output_type": "stream",
     "text": [
      "2\n"
     ]
    }
   ],
   "source": [
    "print(f\"{len(current_port)}\")"
   ]
  },
  {
   "cell_type": "code",
   "execution_count": 8,
   "id": "84bbbcd2",
   "metadata": {},
   "outputs": [
    {
     "name": "stdout",
     "output_type": "stream",
     "text": [
      "165\n"
     ]
    }
   ],
   "source": [
    "print(f\"{len(last_ports)}\")"
   ]
  },
  {
   "cell_type": "code",
   "execution_count": 9,
   "id": "fa3f95db",
   "metadata": {},
   "outputs": [
    {
     "data": {
      "text/plain": [
       "set()"
      ]
     },
     "execution_count": 9,
     "metadata": {},
     "output_type": "execute_result"
    }
   ],
   "source": [
    "set(current_port).intersection(last_ports)"
   ]
  },
  {
   "cell_type": "markdown",
   "id": "c9753ee4",
   "metadata": {},
   "source": [
    "the empty set here signifies that there are no roundtrips of the ships.\n",
    "\n",
    "It is rather safe to assume that no \"last terminals\" exist in the the \"current terminals\" and vice versa\n",
    "\n"
   ]
  },
  {
   "cell_type": "code",
   "execution_count": null,
   "id": "3cf98df8",
   "metadata": {},
   "outputs": [],
   "source": []
  },
  {
   "cell_type": "code",
   "execution_count": null,
   "id": "41a6cdb7",
   "metadata": {},
   "outputs": [],
   "source": []
  }
 ],
 "metadata": {
  "kernelspec": {
   "display_name": "Python 3 (ipykernel)",
   "language": "python",
   "name": "python3"
  },
  "language_info": {
   "codemirror_mode": {
    "name": "ipython",
    "version": 3
   },
   "file_extension": ".py",
   "mimetype": "text/x-python",
   "name": "python",
   "nbconvert_exporter": "python",
   "pygments_lexer": "ipython3",
   "version": "3.9.13"
  }
 },
 "nbformat": 4,
 "nbformat_minor": 5
}
