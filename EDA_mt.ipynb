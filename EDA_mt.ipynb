{
 "cells": [
  {
   "cell_type": "markdown",
   "id": "8a6504df",
   "metadata": {},
   "source": [
    "## Business problem"
   ]
  },
  {
   "cell_type": "markdown",
   "id": "1b9d70b8",
   "metadata": {},
   "source": [
    "Port terminals constantly strive to improve the efficiency of their operations through a careful\n",
    "management of their berth facilities, machinery and personnel. \n",
    "\n",
    "\n",
    "\n",
    "The most important variables when planning terminal operations is knowing which vessels will arrive at the terminal and when.\n",
    "\n",
    "\n",
    "MarineTraffic aims at being the best visibility providers by providing up to date vessel tracking data (using AIS), as well as additional derived information such as the estimated time of arrival (ETA) of a vessel to a port of interest.\n",
    "\n",
    "\n",
    "AIS messages contain information on the port that the vessel is traveling to as well as the estimated time of arrival.\n",
    "\n",
    "However, since ports may consist of more than one terminal, the exact terminal that the\n",
    "vessel will visit is not known in advance making it difficult for MarineTraffic to assign future arrivals to terminals which, in turn, limits the ability to measure terminal congestion and calculate more accurate terminal arrival times.\n",
    "\n",
    "\n",
    "\n",
    "A model which predicts the terminal a vessel will travel to has the potential to help all parties involved in a port call to plan their operations more effectively"
   ]
  },
  {
   "cell_type": "markdown",
   "id": "4d7b62ca",
   "metadata": {},
   "source": [
    "# Data Description"
   ]
  },
  {
   "cell_type": "markdown",
   "id": "a27dc5d4",
   "metadata": {},
   "source": [
    "A dataset has been extracted containing container calls at terminals that took place during the past 3\n",
    "years for the Port of **Hamburg and Port of Los Angeles**. The dataset contains the following fields"
   ]
  },
  {
   "cell_type": "markdown",
   "id": "25d61f2b",
   "metadata": {},
   "source": [
    "A dataset has been extracted containing container calls at terminals that took place during the past 3\n",
    "years for the Port of Hamburg and Port of Los Angeles. The dataset contains the following fields;\n",
    "\n",
    "\n",
    "* **last_port**: Port where the *last* terminal call by vessel is recorded.\n",
    "\n",
    "\n",
    "\n",
    "* **last_terminal**: The immediately previous *terminal* call of the vessel.\n",
    "\n",
    "\n",
    "* **last_terminal_doc_timestamp**: Timestamp of previous terminal call.\n",
    "\n",
    "\n",
    "* **current_port**: Port where the current terminal call by vessel is recorded.\n",
    "\n",
    "\n",
    "* **current_terminal**: Current terminal call of the vessel.\n",
    "\n",
    "\n",
    "* **shipname**: Name of the vessel.\n",
    "\n",
    "\n",
    "* **dock_timestamp**: Timestamp of current terminal call.\n",
    "\n",
    "\n",
    "* **GRT**: Vessel capacity (gross tonnage unit).\n",
    "\n",
    "\n",
    "* **TEU**: Vessel capacity (twenty-foot equivalent Unit).\n",
    "\n",
    "\n",
    "* **length**: Vessel length.\n",
    "\n",
    "\n",
    "* **width**: Vessel width."
   ]
  },
  {
   "cell_type": "markdown",
   "id": "13c7a156",
   "metadata": {},
   "source": [
    "# Goals and Deliverable\n"
   ]
  },
  {
   "cell_type": "markdown",
   "id": "f409a947",
   "metadata": {},
   "source": [
    "The goal of this task is to implement & evaluate the accuracy of a solution that predicts the terminal\n",
    "that a vessel will call.\n",
    "**The product team claims that the history of terminals visited by a vessel in the past is a critical factor\n",
    "that should be incorporated into the model**.\n",
    "\n",
    "Some important steps that your solution would be expected to address and describe are the following:\n",
    "* What features have you finally selected and engineered for your modeling approach? What led you to these choices? Why & how have you processed them?\n",
    "* Which features seem to be the most important & how did you evaluate their importance?\n",
    "* Do your findings agree with the product team’s insights discussed above? Before developing a ML model, how would you evaluate the importance/predictive power of one of the productidentified features as an independent variable?\n",
    "* What type of prediction/training model have you chosen and why?\n",
    "* How well does your predictive solution perform in terms of predicting the terminal a vessel will call?\n",
    "* What different metrics/graphs can you use in order to understand when & why the algorithm fails/succeeds?\n",
    "* What would be your baseline (i.e. a “naive” approach) to compare against?"
   ]
  },
  {
   "cell_type": "markdown",
   "id": "ee228f63",
   "metadata": {},
   "source": [
    "# Solution Procedure"
   ]
  },
  {
   "cell_type": "markdown",
   "id": "6bf6c265",
   "metadata": {},
   "source": [
    "### problem understanding & EDA"
   ]
  },
  {
   "cell_type": "markdown",
   "id": "8111499a",
   "metadata": {},
   "source": [
    "In order to understand the problem we have to dive into the data"
   ]
  },
  {
   "cell_type": "code",
   "execution_count": 1,
   "id": "6203351b",
   "metadata": {},
   "outputs": [],
   "source": [
    "import pandas as pd\n",
    "import numpy as np\n",
    "from pprint import pprint\n",
    "import matplotlib.pyplot as plt\n",
    "from IPython.display import display, HTML\n",
    "from sklearn.linear_model import LogisticRegression\n",
    "from sklearn.preprocessing import RobustScaler\n",
    "from sklearn.svm import SVC\n",
    "from sklearn.metrics import accuracy_score\n",
    "from sklearn.model_selection import train_test_split\n",
    "from sklearn.preprocessing import LabelEncoder\n",
    "from sklearn.metrics import f1_score, classification_report\n",
    "from collections import Counter\n",
    "from sklearn.ensemble import RandomForestClassifier\n",
    "from sklearn.metrics import confusion_matrix\n",
    "import seaborn as sns\n",
    "from itertools import combinations\n",
    "from sklearn.preprocessing import OrdinalEncoder\n",
    "from sklearn.cluster import KMeans\n",
    "from sklearn.preprocessing import PolynomialFeatures\n",
    "import warnings\n",
    "from tqdm import tqdm\n",
    "from scikitplot.estimators import plot_learning_curve\n",
    "from sklearn.model_selection import TimeSeriesSplit\n",
    "warnings.filterwarnings('ignore')"
   ]
  },
  {
   "cell_type": "code",
   "execution_count": 2,
   "id": "138cbf95",
   "metadata": {},
   "outputs": [],
   "source": [
    "def heatmap(y_test, y_pred, label_no=11):\n",
    "    cm = confusion_matrix(y_test, y_pred)\n",
    "\n",
    "    # Normalize the confusion matrix\n",
    "    cm_norm = cm.astype('float') / cm.sum(axis=1)[:, np.newaxis]\n",
    "\n",
    "    # Define the labels for the x and y axes\n",
    "    labels = list(range(label_no))\n",
    "\n",
    "    # Create the heatmap\n",
    "    sns.heatmap(cm_norm, annot=cm, cmap='Blues', xticklabels=labels, yticklabels=labels)\n",
    "\n",
    "    # Add labels and title\n",
    "    plt.xlabel('Predicted label')\n",
    "    plt.ylabel('True label')\n",
    "    plt.title('Classification Heatmap')"
   ]
  },
  {
   "cell_type": "code",
   "execution_count": 3,
   "id": "cc3459be",
   "metadata": {},
   "outputs": [],
   "source": [
    "raw_data = pd.read_csv(\"data/mt_terminal_calls.csv\")"
   ]
  },
  {
   "cell_type": "code",
   "execution_count": 4,
   "id": "55e2d7a7",
   "metadata": {},
   "outputs": [
    {
     "data": {
      "text/html": [
       "<div>\n",
       "<style scoped>\n",
       "    .dataframe tbody tr th:only-of-type {\n",
       "        vertical-align: middle;\n",
       "    }\n",
       "\n",
       "    .dataframe tbody tr th {\n",
       "        vertical-align: top;\n",
       "    }\n",
       "\n",
       "    .dataframe thead th {\n",
       "        text-align: right;\n",
       "    }\n",
       "</style>\n",
       "<table border=\"1\" class=\"dataframe\">\n",
       "  <thead>\n",
       "    <tr style=\"text-align: right;\">\n",
       "      <th></th>\n",
       "      <th>last_port</th>\n",
       "      <th>last_terminal</th>\n",
       "      <th>last_terminal_doc_timestamp</th>\n",
       "      <th>current_port</th>\n",
       "      <th>current_terminal</th>\n",
       "      <th>shipname</th>\n",
       "      <th>doc_timestamp</th>\n",
       "      <th>grt</th>\n",
       "      <th>teu</th>\n",
       "      <th>length</th>\n",
       "      <th>width</th>\n",
       "    </tr>\n",
       "  </thead>\n",
       "  <tbody>\n",
       "    <tr>\n",
       "      <th>0</th>\n",
       "      <td>BREMERHAVEN</td>\n",
       "      <td>North Sea Terminal</td>\n",
       "      <td>2020-01-02 16:12:00.000</td>\n",
       "      <td>HAMBURG</td>\n",
       "      <td>Eurogate Container Terminal Hamburg</td>\n",
       "      <td>HEINRICH EHLER</td>\n",
       "      <td>2020-01-03 06:20:00.000</td>\n",
       "      <td>17488</td>\n",
       "      <td>1421</td>\n",
       "      <td>168.11</td>\n",
       "      <td>26.80</td>\n",
       "    </tr>\n",
       "    <tr>\n",
       "      <th>1</th>\n",
       "      <td>TILBURY</td>\n",
       "      <td>London Container Terminal</td>\n",
       "      <td>2020-01-01 21:56:00.000</td>\n",
       "      <td>HAMBURG</td>\n",
       "      <td>C. Steinweg Multipurpose Terminal</td>\n",
       "      <td>HENNEKE RAMBOW</td>\n",
       "      <td>2020-01-03 07:45:00.000</td>\n",
       "      <td>9981</td>\n",
       "      <td>868</td>\n",
       "      <td>134.40</td>\n",
       "      <td>22.74</td>\n",
       "    </tr>\n",
       "  </tbody>\n",
       "</table>\n",
       "</div>"
      ],
      "text/plain": [
       "     last_port              last_terminal last_terminal_doc_timestamp  \\\n",
       "0  BREMERHAVEN         North Sea Terminal     2020-01-02 16:12:00.000   \n",
       "1      TILBURY  London Container Terminal     2020-01-01 21:56:00.000   \n",
       "\n",
       "  current_port                     current_terminal        shipname  \\\n",
       "0      HAMBURG  Eurogate Container Terminal Hamburg  HEINRICH EHLER   \n",
       "1      HAMBURG    C. Steinweg Multipurpose Terminal  HENNEKE RAMBOW   \n",
       "\n",
       "             doc_timestamp    grt   teu  length  width  \n",
       "0  2020-01-03 06:20:00.000  17488  1421  168.11  26.80  \n",
       "1  2020-01-03 07:45:00.000   9981   868  134.40  22.74  "
      ]
     },
     "execution_count": 4,
     "metadata": {},
     "output_type": "execute_result"
    }
   ],
   "source": [
    "raw_data.head(2)"
   ]
  },
  {
   "cell_type": "code",
   "execution_count": 5,
   "id": "312a2c83",
   "metadata": {},
   "outputs": [
    {
     "name": "stdout",
     "output_type": "stream",
     "text": [
      "<class 'pandas.core.frame.DataFrame'>\n",
      "RangeIndex: 12054 entries, 0 to 12053\n",
      "Data columns (total 11 columns):\n",
      " #   Column                       Non-Null Count  Dtype  \n",
      "---  ------                       --------------  -----  \n",
      " 0   last_port                    12054 non-null  object \n",
      " 1   last_terminal                12054 non-null  object \n",
      " 2   last_terminal_doc_timestamp  12054 non-null  object \n",
      " 3   current_port                 12054 non-null  object \n",
      " 4   current_terminal             12054 non-null  object \n",
      " 5   shipname                     12054 non-null  object \n",
      " 6   doc_timestamp                12054 non-null  object \n",
      " 7   grt                          12054 non-null  int64  \n",
      " 8   teu                          12054 non-null  int64  \n",
      " 9   length                       12054 non-null  float64\n",
      " 10  width                        12054 non-null  float64\n",
      "dtypes: float64(2), int64(2), object(7)\n",
      "memory usage: 1.0+ MB\n"
     ]
    }
   ],
   "source": [
    "raw_data.info()"
   ]
  },
  {
   "cell_type": "markdown",
   "id": "c435f9cc",
   "metadata": {},
   "source": [
    "##### lets analyse the ports a bit\n"
   ]
  },
  {
   "cell_type": "code",
   "execution_count": 6,
   "id": "da38c94c",
   "metadata": {},
   "outputs": [
    {
     "name": "stdout",
     "output_type": "stream",
     "text": [
      "ships to HAMBURG : 9411\n",
      "ships to LA : 2643\n"
     ]
    }
   ],
   "source": [
    "print(f'ships to HAMBURG : {raw_data.loc[raw_data[\"current_port\"]==\"HAMBURG\",:].shape[0]}')\n",
    "print(f'ships to LA : {raw_data.loc[raw_data[\"current_port\"]!=\"HAMBURG\",:].shape[0]}')"
   ]
  },
  {
   "cell_type": "markdown",
   "id": "4cbeb48b",
   "metadata": {},
   "source": [
    "I will create a new feature: a ratio of GRT/(length*width)"
   ]
  },
  {
   "cell_type": "code",
   "execution_count": 7,
   "id": "bb0a0d55",
   "metadata": {},
   "outputs": [],
   "source": [
    "raw_data[\"doc_timestamp\"] = pd.to_datetime(raw_data.loc[:, \"doc_timestamp\"])\n",
    "raw_data[\"last_terminal_doc_timestamp\"] = pd.to_datetime(raw_data.loc[:, \"last_terminal_doc_timestamp\"])\n"
   ]
  },
  {
   "cell_type": "code",
   "execution_count": 8,
   "id": "77dc8131",
   "metadata": {},
   "outputs": [],
   "source": [
    "raw_data[\"diff\"] = raw_data.loc[:, \"doc_timestamp\"] - raw_data.loc[:, \"last_terminal_doc_timestamp\"]\n",
    "raw_data[\"diff\"] = raw_data.apply(lambda x: x['diff'].seconds,axis=1)"
   ]
  },
  {
   "cell_type": "markdown",
   "id": "c0fe3b2e",
   "metadata": {},
   "source": [
    "Some extra features"
   ]
  },
  {
   "cell_type": "code",
   "execution_count": 9,
   "id": "2dabdfeb",
   "metadata": {},
   "outputs": [],
   "source": [
    "raw_data[\"ratio\"] = raw_data.loc[:, \"grt\"]/(raw_data.loc[:,\"width\"]*raw_data.loc[:,\"length\"])\n",
    "raw_data[\"foot_ratio\"] = raw_data.loc[:, \"teu\"]/(raw_data.loc[:,\"width\"]*raw_data.loc[:,\"length\"])\n",
    "\n",
    "raw_data[\"size\"] = raw_data.loc[:,\"width\"]*raw_data.loc[:,\"length\"]"
   ]
  },
  {
   "cell_type": "markdown",
   "id": "24d63737",
   "metadata": {},
   "source": [
    "ratio feature distribution"
   ]
  },
  {
   "cell_type": "code",
   "execution_count": 10,
   "id": "fe561d20",
   "metadata": {},
   "outputs": [
    {
     "data": {
      "text/plain": [
       "<Axes: >"
      ]
     },
     "execution_count": 10,
     "metadata": {},
     "output_type": "execute_result"
    },
    {
     "data": {
      "image/png": "[encoded data removed]",
      "text/plain": [
       "<Figure size 640x480 with 1 Axes>"
      ]
     },
     "metadata": {},
     "output_type": "display_data"
    }
   ],
   "source": [
    "raw_data.loc[raw_data[\"current_port\"]==\"HAMBURG\",\"ratio\"].hist(bins=20)"
   ]
  },
  {
   "cell_type": "code",
   "execution_count": 11,
   "id": "c34a636b",
   "metadata": {},
   "outputs": [
    {
     "data": {
      "text/plain": [
       "<Axes: >"
      ]
     },
     "execution_count": 11,
     "metadata": {},
     "output_type": "execute_result"
    },
    {
     "data": {
      "image/png": "[encoded data removed]",
      "text/plain": [
       "<Figure size 640x480 with 1 Axes>"
      ]
     },
     "metadata": {},
     "output_type": "display_data"
    }
   ],
   "source": [
    "raw_data.loc[raw_data[\"current_port\"]!=\"HAMBURG\",\"ratio\"].hist(bins=20)"
   ]
  },
  {
   "cell_type": "code",
   "execution_count": 12,
   "id": "83b64904",
   "metadata": {},
   "outputs": [
    {
     "data": {
      "text/plain": [
       "<Axes: >"
      ]
     },
     "execution_count": 12,
     "metadata": {},
     "output_type": "execute_result"
    },
    {
     "data": {
      "image/png": "[encoded data removed]",
      "text/plain": [
       "<Figure size 640x480 with 1 Axes>"
      ]
     },
     "metadata": {},
     "output_type": "display_data"
    }
   ],
   "source": [
    "raw_data.loc[:,\"ratio\"].hist(bins=20)"
   ]
  },
  {
   "cell_type": "markdown",
   "id": "faeba8c7",
   "metadata": {},
   "source": [
    "size feature distribution"
   ]
  },
  {
   "cell_type": "code",
   "execution_count": 13,
   "id": "900f7546",
   "metadata": {},
   "outputs": [
    {
     "data": {
      "text/plain": [
       "<Axes: >"
      ]
     },
     "execution_count": 13,
     "metadata": {},
     "output_type": "execute_result"
    },
    {
     "data": {
      "image/png": "[encoded data removed]",
      "text/plain": [
       "<Figure size 640x480 with 1 Axes>"
      ]
     },
     "metadata": {},
     "output_type": "display_data"
    }
   ],
   "source": [
    "raw_data.loc[raw_data[\"current_port\"]!=\"HAMBURG\",\"size\"].hist(bins=20)"
   ]
  },
  {
   "cell_type": "code",
   "execution_count": 14,
   "id": "01e17932",
   "metadata": {},
   "outputs": [
    {
     "data": {
      "text/html": [
       "<div>\n",
       "<style scoped>\n",
       "    .dataframe tbody tr th:only-of-type {\n",
       "        vertical-align: middle;\n",
       "    }\n",
       "\n",
       "    .dataframe tbody tr th {\n",
       "        vertical-align: top;\n",
       "    }\n",
       "\n",
       "    .dataframe thead th {\n",
       "        text-align: right;\n",
       "    }\n",
       "</style>\n",
       "<table border=\"1\" class=\"dataframe\">\n",
       "  <thead>\n",
       "    <tr style=\"text-align: right;\">\n",
       "      <th></th>\n",
       "      <th>size</th>\n",
       "    </tr>\n",
       "  </thead>\n",
       "  <tbody>\n",
       "    <tr>\n",
       "      <th>count</th>\n",
       "      <td>2643.000000</td>\n",
       "    </tr>\n",
       "    <tr>\n",
       "      <th>mean</th>\n",
       "      <td>12663.735663</td>\n",
       "    </tr>\n",
       "    <tr>\n",
       "      <th>std</th>\n",
       "      <td>3895.825909</td>\n",
       "    </tr>\n",
       "    <tr>\n",
       "      <th>min</th>\n",
       "      <td>4037.449600</td>\n",
       "    </tr>\n",
       "    <tr>\n",
       "      <th>25%</th>\n",
       "      <td>9470.020000</td>\n",
       "    </tr>\n",
       "    <tr>\n",
       "      <th>50%</th>\n",
       "      <td>14260.960000</td>\n",
       "    </tr>\n",
       "    <tr>\n",
       "      <th>75%</th>\n",
       "      <td>15489.600000</td>\n",
       "    </tr>\n",
       "    <tr>\n",
       "      <th>max</th>\n",
       "      <td>24609.846000</td>\n",
       "    </tr>\n",
       "  </tbody>\n",
       "</table>\n",
       "</div>"
      ],
      "text/plain": [
       "               size\n",
       "count   2643.000000\n",
       "mean   12663.735663\n",
       "std     3895.825909\n",
       "min     4037.449600\n",
       "25%     9470.020000\n",
       "50%    14260.960000\n",
       "75%    15489.600000\n",
       "max    24609.846000"
      ]
     },
     "execution_count": 14,
     "metadata": {},
     "output_type": "execute_result"
    }
   ],
   "source": [
    "raw_data.loc[raw_data[\"current_port\"]!=\"HAMBURG\",[\"size\"]].describe()"
   ]
  },
  {
   "cell_type": "code",
   "execution_count": 15,
   "id": "381fcd7c",
   "metadata": {},
   "outputs": [
    {
     "data": {
      "text/plain": [
       "<Axes: >"
      ]
     },
     "execution_count": 15,
     "metadata": {},
     "output_type": "execute_result"
    },
    {
     "data": {
      "image/png": "[encoded data removed]",
      "text/plain": [
       "<Figure size 640x480 with 1 Axes>"
      ]
     },
     "metadata": {},
     "output_type": "display_data"
    }
   ],
   "source": [
    "raw_data.loc[:,\"size\"].hist(bins=20)"
   ]
  },
  {
   "cell_type": "markdown",
   "id": "9f3b7f58",
   "metadata": {},
   "source": [
    "clearly much different distribution per port"
   ]
  },
  {
   "cell_type": "code",
   "execution_count": 16,
   "id": "80b87849",
   "metadata": {},
   "outputs": [],
   "source": [
    "terminal_ham = raw_data.loc[raw_data[\"current_port\"]==\"HAMBURG\", \"current_terminal\"].unique().tolist()\n",
    "terminal_la = raw_data.loc[raw_data[\"current_port\"]==\"LOS ANGELES\", \"current_terminal\"].unique().tolist()"
   ]
  },
  {
   "cell_type": "code",
   "execution_count": 17,
   "id": "8248eafa",
   "metadata": {},
   "outputs": [],
   "source": [
    "def id2port(x, th, tl):\n",
    "    if x[\"current_port\"] == \"HAMBURG\":\n",
    "        idx = th[x[\"current_terminal\"]]\n",
    "    else:\n",
    "        idx = tl[x[\"current_terminal\"]]\n",
    "    return idx"
   ]
  },
  {
   "cell_type": "code",
   "execution_count": 18,
   "id": "91395796",
   "metadata": {},
   "outputs": [
    {
     "data": {
      "image/png": "[encoded data removed]",
      "text/plain": [
       "<Figure size 600x600 with 3 Axes>"
      ]
     },
     "metadata": {},
     "output_type": "display_data"
    }
   ],
   "source": [
    "terminal_ham = {i:idx for idx, i in enumerate(terminal_ham)}\n",
    "terminal_la = {i:idx for idx, i in enumerate(terminal_la)}\n",
    "raw_data[\"id_on_port\"] =  raw_data.apply(id2port, args=(terminal_ham, terminal_la), axis=1)\n",
    "la_distribution = raw_data.loc[raw_data[\"current_port\"]!=\"HAMBURG\", [\"width\",\"length\",\"size\",\"id_on_port\"]]\n",
    "# Create hexbin plot with Seaborn\n",
    "sns.jointplot(data=la_distribution, x=\"width\",y=\"length\",hue=\"id_on_port\",)\n",
    "\n",
    "# Show the plot\n",
    "plt.show()"
   ]
  },
  {
   "cell_type": "code",
   "execution_count": 19,
   "id": "b0d14cd2",
   "metadata": {},
   "outputs": [
    {
     "data": {
      "image/png": "[encoded data removed]",
      "text/plain": [
       "<Figure size 600x600 with 3 Axes>"
      ]
     },
     "metadata": {},
     "output_type": "display_data"
    }
   ],
   "source": [
    "hamburg_distibution = raw_data.loc[raw_data[\"current_port\"]==\"HAMBURG\", [\"width\",\"length\",\"size\",\"id_on_port\"]]\n",
    "# Create hexbin plot with Seaborn\n",
    "sns.jointplot(data=hamburg_distibution, x=\"width\",y=\"length\",hue=\"id_on_port\",  color=\"#4CB391\")\n",
    "\n",
    "# Show the plot\n",
    "plt.show()"
   ]
  },
  {
   "cell_type": "code",
   "execution_count": 20,
   "id": "ac7f6d64",
   "metadata": {},
   "outputs": [
    {
     "name": "stdout",
     "output_type": "stream",
     "text": [
      "Index(['grt', 'teu', 'length', 'width', 'diff', 'ratio', 'foot_ratio', 'size',\n",
      "       'id_on_port'],\n",
      "      dtype='object')\n"
     ]
    }
   ],
   "source": [
    "nu_cols = raw_data.select_dtypes(include=['float64','int64']).columns\n",
    "print(nu_cols)"
   ]
  },
  {
   "cell_type": "code",
   "execution_count": 21,
   "id": "2ab01245",
   "metadata": {},
   "outputs": [],
   "source": [
    "# sns.pairplot(raw_data.loc[raw_data[\"current_port\"]==\"HAMBURG\", nu_cols],hue=\"id_on_port\", palette=\"Set2\")"
   ]
  },
  {
   "cell_type": "code",
   "execution_count": 22,
   "id": "28912170",
   "metadata": {
    "scrolled": false
   },
   "outputs": [],
   "source": [
    "# sns.pairplot(raw_data.loc[raw_data[\"current_port\"]!=\"HAMBURG\", nu_cols],hue=\"id_on_port\", palette=\"Set3\")"
   ]
  },
  {
   "cell_type": "markdown",
   "id": "3fb89aa4",
   "metadata": {},
   "source": [
    "# Construct baseline"
   ]
  },
  {
   "cell_type": "markdown",
   "id": "705e6a11",
   "metadata": {},
   "source": [
    "#### use previous terminal as a prediction for the next"
   ]
  },
  {
   "cell_type": "code",
   "execution_count": 23,
   "id": "bcb10252",
   "metadata": {},
   "outputs": [],
   "source": [
    "gather_results = dict()\n",
    "gather_data = dict()"
   ]
  },
  {
   "cell_type": "code",
   "execution_count": 24,
   "id": "faf288e1",
   "metadata": {},
   "outputs": [],
   "source": [
    "grouped_by_ship = raw_data.groupby([\"shipname\",\"current_port\"])\n",
    "restructure = []\n",
    "matches = 0\n",
    "for ship_no,(name,group) in enumerate(grouped_by_ship):\n",
    "    restructure.append(group.sort_values(by=\"last_terminal_doc_timestamp\"))\n",
    "    restructure[-1].loc[:, \"concat\"] = restructure[-1].loc[:,\"id_on_port\"].astype(str) +\"__\" + restructure[-1].loc[:,\"current_port\"]\n",
    "    restructure[-1].loc[:, \"concat_s\"] = restructure[-1].loc[:, \"concat\"].shift()\n",
    "    tmp = restructure[-1].dropna()\n",
    "    if tmp.dropna().shape[0]:\n",
    "        matches += tmp.dropna().loc[restructure[-1][\"concat\"]==restructure[-1][\"concat_s\"], :].shape[0]\n",
    "        "
   ]
  },
  {
   "cell_type": "code",
   "execution_count": 25,
   "id": "a38e86e9",
   "metadata": {},
   "outputs": [
    {
     "data": {
      "text/plain": [
       "(7491, 12054)"
      ]
     },
     "execution_count": 25,
     "metadata": {},
     "output_type": "execute_result"
    }
   ],
   "source": [
    "matches, raw_data.shape[0]"
   ]
  },
  {
   "cell_type": "code",
   "execution_count": 26,
   "id": "48e0d2dd",
   "metadata": {},
   "outputs": [
    {
     "data": {
      "text/plain": [
       "0.6214534594325535"
      ]
     },
     "execution_count": 26,
     "metadata": {},
     "output_type": "execute_result"
    }
   ],
   "source": [
    "matches/raw_data.shape[0] # this here is essentially the accuracy metric on the whole dataset."
   ]
  },
  {
   "cell_type": "markdown",
   "id": "5c94449d",
   "metadata": {},
   "source": [
    "#### explanation of the main metrics that we will use since this problem is multi class classification problem."
   ]
  },
  {
   "cell_type": "markdown",
   "id": "89c86851",
   "metadata": {},
   "source": [
    "Micro F1 and Macro F1 scores are two commonly used metrics to evaluate the performance of a multi-class classification model.\n",
    "\n",
    "**Micro F1** score considers all the predictions and ground truth values from all classes, and gives an equal weight to each sample. This means that the overall F1 score is calculated by taking into account the total true positives, false positives, and false negatives across all classes. Micro F1 is useful when you want to put equal emphasis on each individual sample in the evaluation.\n",
    "\n",
    "**Macro F1** score, on the other hand, calculates the F1 score for each class and takes the unweighted mean of the F1 scores. In this case, each class is given equal importance, regardless of the number of samples in each class. Macro F1 is useful when you care about the overall performance of the model across all classes, rather than the performance on individual samples."
   ]
  },
  {
   "cell_type": "code",
   "execution_count": 27,
   "id": "fdacc6aa",
   "metadata": {},
   "outputs": [
    {
     "name": "stdout",
     "output_type": "stream",
     "text": [
      "(12054, 18)\n"
     ]
    }
   ],
   "source": [
    "restructure = pd.concat(restructure)\n",
    "print(restructure.shape)"
   ]
  },
  {
   "cell_type": "code",
   "execution_count": 28,
   "id": "5ef3966d",
   "metadata": {},
   "outputs": [
    {
     "name": "stdout",
     "output_type": "stream",
     "text": [
      "[(1, '10__HAMBURG'),\n",
      " (1, '7__LOS ANGELES'),\n",
      " (1, '9__HAMBURG'),\n",
      " (9, '8__HAMBURG'),\n",
      " (28, '7__HAMBURG'),\n",
      " (40, '6__HAMBURG'),\n",
      " (157, '4__HAMBURG'),\n",
      " (225, '2__LOS ANGELES'),\n",
      " (266, '1__HAMBURG'),\n",
      " (271, '4__LOS ANGELES'),\n",
      " (323, '6__LOS ANGELES'),\n",
      " (355, '5__LOS ANGELES'),\n",
      " (469, '3__LOS ANGELES'),\n",
      " (485, '1__LOS ANGELES'),\n",
      " (514, '0__LOS ANGELES'),\n",
      " (1183, '5__HAMBURG'),\n",
      " (2313, '2__HAMBURG'),\n",
      " (2574, '0__HAMBURG'),\n",
      " (2839, '3__HAMBURG')]\n",
      "HAMBURG\n",
      "[(1, '10__HAMBURG'),\n",
      " (1, '9__HAMBURG'),\n",
      " (9, '8__HAMBURG'),\n",
      " (28, '7__HAMBURG'),\n",
      " (40, '6__HAMBURG'),\n",
      " (157, '4__HAMBURG'),\n",
      " (266, '1__HAMBURG'),\n",
      " (1183, '5__HAMBURG'),\n",
      " (2313, '2__HAMBURG'),\n",
      " (2574, '0__HAMBURG'),\n",
      " (2839, '3__HAMBURG')]\n",
      "LA\n",
      "[(1, '7__LOS ANGELES'),\n",
      " (225, '2__LOS ANGELES'),\n",
      " (271, '4__LOS ANGELES'),\n",
      " (323, '6__LOS ANGELES'),\n",
      " (355, '5__LOS ANGELES'),\n",
      " (469, '3__LOS ANGELES'),\n",
      " (485, '1__LOS ANGELES'),\n",
      " (514, '0__LOS ANGELES')]\n"
     ]
    }
   ],
   "source": [
    "population = Counter(restructure[\"concat\"])\n",
    "pprint(sorted([(value,key) for key, value in population.items()]))\n",
    "print(\"HAMBURG\")\n",
    "pprint(sorted([(value,key) for key, value in population.items() if \"HAM\" in key]))\n",
    "print(\"LA\")\n",
    "pprint(sorted([(value,key) for key, value in population.items() if \"HAM\" not in key]))"
   ]
  },
  {
   "cell_type": "markdown",
   "id": "97d8dc25",
   "metadata": {},
   "source": [
    "In our case we have a clear majority classifier especially on 4 of the HAMBURG ports, but our main objective is not to\n",
    "place the ships equally in the port but rather predict their true destination. Hence we will give very slightly more weight to micro f1."
   ]
  },
  {
   "cell_type": "code",
   "execution_count": 29,
   "id": "000031b2",
   "metadata": {},
   "outputs": [
    {
     "name": "stdout",
     "output_type": "stream",
     "text": [
      "12054\n",
      "macro f1 0.47968322957434123\n",
      "micro f1 0.6214534594325535\n"
     ]
    }
   ],
   "source": [
    "print(restructure.shape[0])\n",
    "restructure.loc[restructure[\"concat_s\"].isna(), \"concat_s\"] = \"no history\"\n",
    "print(\"macro f1\",f1_score(restructure[\"concat\"], restructure[\"concat_s\"],average='macro'))\n",
    "print(\"micro f1\", f1_score(restructure[\"concat\"], restructure[\"concat_s\"],average='micro'))"
   ]
  },
  {
   "cell_type": "markdown",
   "id": "b903be11",
   "metadata": {},
   "source": [
    "#### Next steps to reach the final solution\n",
    "\n",
    "1. Verify/reject the markets team theory that historical data of the ship work.\n",
    "\n",
    "2. Create more features by using polynomial ones in order to help catch a non linear relationship between the features and the actual label\n",
    "\n",
    "3. In the procedure of solving the problem i will use essentially 11 possible labels max( 8 LA terminals + 11 HAMBURG terminals) and i will show all the increments before i reach my final result.\n",
    "My final test will be on 19 labels.\n",
    "\n",
    "4. Reduce the set of labels by introducing the \"port\" feature as a binary feature (since we have a priori knowledge). This way we could simplify the problem, and in the case of a missclassification it could easily be rectified with postprocessing"
   ]
  },
  {
   "cell_type": "markdown",
   "id": "0b0b16c9",
   "metadata": {},
   "source": [
    "### we need to create the feature that keeps the history track of the ship"
   ]
  },
  {
   "cell_type": "code",
   "execution_count": 30,
   "id": "343fec55",
   "metadata": {},
   "outputs": [
    {
     "data": {
      "text/html": [
       "<div>\n",
       "<style scoped>\n",
       "    .dataframe tbody tr th:only-of-type {\n",
       "        vertical-align: middle;\n",
       "    }\n",
       "\n",
       "    .dataframe tbody tr th {\n",
       "        vertical-align: top;\n",
       "    }\n",
       "\n",
       "    .dataframe thead th {\n",
       "        text-align: right;\n",
       "    }\n",
       "</style>\n",
       "<table border=\"1\" class=\"dataframe\">\n",
       "  <thead>\n",
       "    <tr style=\"text-align: right;\">\n",
       "      <th></th>\n",
       "      <th>last_port</th>\n",
       "      <th>last_terminal</th>\n",
       "      <th>last_terminal_doc_timestamp</th>\n",
       "      <th>current_port</th>\n",
       "      <th>current_terminal</th>\n",
       "      <th>shipname</th>\n",
       "      <th>doc_timestamp</th>\n",
       "      <th>grt</th>\n",
       "      <th>teu</th>\n",
       "      <th>length</th>\n",
       "      <th>width</th>\n",
       "      <th>diff</th>\n",
       "      <th>ratio</th>\n",
       "      <th>foot_ratio</th>\n",
       "      <th>size</th>\n",
       "      <th>id_on_port</th>\n",
       "      <th>concat</th>\n",
       "      <th>concat_s</th>\n",
       "    </tr>\n",
       "  </thead>\n",
       "  <tbody>\n",
       "    <tr>\n",
       "      <th>7497</th>\n",
       "      <td>SHANGHAI</td>\n",
       "      <td>Shanghai Mingdong Container Terminal</td>\n",
       "      <td>2021-09-08 06:13:00</td>\n",
       "      <td>LOS ANGELES</td>\n",
       "      <td>Everport Services  Terminal</td>\n",
       "      <td>A DAISEN</td>\n",
       "      <td>2021-10-07 11:55:00</td>\n",
       "      <td>18326</td>\n",
       "      <td>1740</td>\n",
       "      <td>175.46</td>\n",
       "      <td>27.69</td>\n",
       "      <td>20520</td>\n",
       "      <td>3.771956</td>\n",
       "      <td>0.358136</td>\n",
       "      <td>4858.4874</td>\n",
       "      <td>4</td>\n",
       "      <td>4__LOS ANGELES</td>\n",
       "      <td>no history</td>\n",
       "    </tr>\n",
       "    <tr>\n",
       "      <th>9058</th>\n",
       "      <td>QINGDAO</td>\n",
       "      <td>QQCT</td>\n",
       "      <td>2022-01-12 07:56:00</td>\n",
       "      <td>LOS ANGELES</td>\n",
       "      <td>TraPac Terminal</td>\n",
       "      <td>A DAISEN</td>\n",
       "      <td>2022-02-17 11:00:00</td>\n",
       "      <td>18326</td>\n",
       "      <td>1740</td>\n",
       "      <td>175.46</td>\n",
       "      <td>27.69</td>\n",
       "      <td>11040</td>\n",
       "      <td>3.771956</td>\n",
       "      <td>0.358136</td>\n",
       "      <td>4858.4874</td>\n",
       "      <td>5</td>\n",
       "      <td>5__LOS ANGELES</td>\n",
       "      <td>4__LOS ANGELES</td>\n",
       "    </tr>\n",
       "  </tbody>\n",
       "</table>\n",
       "</div>"
      ],
      "text/plain": [
       "     last_port                         last_terminal  \\\n",
       "7497  SHANGHAI  Shanghai Mingdong Container Terminal   \n",
       "9058   QINGDAO                                  QQCT   \n",
       "\n",
       "     last_terminal_doc_timestamp current_port             current_terminal  \\\n",
       "7497         2021-09-08 06:13:00  LOS ANGELES  Everport Services  Terminal   \n",
       "9058         2022-01-12 07:56:00  LOS ANGELES              TraPac Terminal   \n",
       "\n",
       "      shipname       doc_timestamp    grt   teu  length  width   diff  \\\n",
       "7497  A DAISEN 2021-10-07 11:55:00  18326  1740  175.46  27.69  20520   \n",
       "9058  A DAISEN 2022-02-17 11:00:00  18326  1740  175.46  27.69  11040   \n",
       "\n",
       "         ratio  foot_ratio       size  id_on_port          concat  \\\n",
       "7497  3.771956    0.358136  4858.4874           4  4__LOS ANGELES   \n",
       "9058  3.771956    0.358136  4858.4874           5  5__LOS ANGELES   \n",
       "\n",
       "            concat_s  \n",
       "7497      no history  \n",
       "9058  4__LOS ANGELES  "
      ]
     },
     "execution_count": 30,
     "metadata": {},
     "output_type": "execute_result"
    }
   ],
   "source": [
    "restructure.head(2)"
   ]
  },
  {
   "cell_type": "code",
   "execution_count": 31,
   "id": "8cbcc64d",
   "metadata": {},
   "outputs": [],
   "source": [
    "restructure[\"doc_timestamp\"] = pd.to_datetime(restructure.loc[:, \"doc_timestamp\"])\n",
    "restructure[\"last_terminal_doc_timestamp\"] = pd.to_datetime(restructure.loc[:, \"last_terminal_doc_timestamp\"])"
   ]
  },
  {
   "cell_type": "code",
   "execution_count": 32,
   "id": "7c73cc38",
   "metadata": {},
   "outputs": [],
   "source": [
    "grouped_by_ship = restructure.groupby([\"shipname\"])\n",
    "# here *we don't* need to groupby the port as well, we just need the historical data.\n",
    "make_history = []\n",
    "matches = 0\n",
    "for ship_no,(name,group) in enumerate(grouped_by_ship):\n",
    "    group = group.sort_values(by=\"last_terminal_doc_timestamp\")    \n",
    "    increment = list()\n",
    "    historical_data = group.loc[:, \"concat\"].to_list()\n",
    "    trajectory = list()\n",
    "    number_of_trips = list(range(len(historical_data)))\n",
    "    for item in historical_data:\n",
    "        if not len(increment):\n",
    "            trajectory.append([\"no history\"])\n",
    "        else:\n",
    "            trajectory.append([])\n",
    "            trajectory[-1].extend(increment)\n",
    "        increment.append(item)\n",
    "    group[\"history\"] = trajectory\n",
    "    group[\"no_trips\"] = number_of_trips\n",
    "    trips_on_the_current_port = [1 if y[-1] in x[-1] else 0 for x,y in zip(trajectory, list(group[\"current_port\"]))]\n",
    "    tptp = [1 if y[-1] in x[-1] else 0 for x,y in zip(trajectory, list(group[\"current_port\"]))]\n",
    "#     group[\"trips_on_this_port\"] = [sum(tptp[:idx]) for idx, i in enumerate(tptp,1)]\n",
    "    \n",
    "    sm = list()\n",
    "    for i in trajectory:\n",
    "        if \"no history\" in i[-1] and len(i)==1:\n",
    "            sm.append(0)\n",
    "        elif \"no history\" not in i:\n",
    "            sm.append(len(set(i)))\n",
    "    group[\"different_terminals\"] = sm\n",
    "    group[\"last_visit\"] = [\"no history\" if \"history\" in i[-1] else i[-1] for i in trajectory]\n",
    "    group[\"last_port_visit\"] = group[\"concat_s\"].copy()\n",
    "    group[\"parallel\"] = historical_data\n",
    "    make_history.append(group)\n",
    "\n",
    "\n",
    "make_history = pd.concat(make_history)\n",
    "encoder = LabelEncoder()\n",
    "make_history[\"parallel\"] = encoder.fit_transform(make_history[\"parallel\"])"
   ]
  },
  {
   "cell_type": "code",
   "execution_count": 33,
   "id": "f1660d84",
   "metadata": {},
   "outputs": [
    {
     "data": {
      "text/html": [
       "<div>\n",
       "<style scoped>\n",
       "    .dataframe tbody tr th:only-of-type {\n",
       "        vertical-align: middle;\n",
       "    }\n",
       "\n",
       "    .dataframe tbody tr th {\n",
       "        vertical-align: top;\n",
       "    }\n",
       "\n",
       "    .dataframe thead th {\n",
       "        text-align: right;\n",
       "    }\n",
       "</style>\n",
       "<table border=\"1\" class=\"dataframe\">\n",
       "  <thead>\n",
       "    <tr style=\"text-align: right;\">\n",
       "      <th></th>\n",
       "      <th>last_port</th>\n",
       "      <th>last_terminal</th>\n",
       "      <th>last_terminal_doc_timestamp</th>\n",
       "      <th>current_port</th>\n",
       "      <th>current_terminal</th>\n",
       "      <th>shipname</th>\n",
       "      <th>doc_timestamp</th>\n",
       "      <th>grt</th>\n",
       "      <th>teu</th>\n",
       "      <th>length</th>\n",
       "      <th>...</th>\n",
       "      <th>size</th>\n",
       "      <th>id_on_port</th>\n",
       "      <th>concat</th>\n",
       "      <th>concat_s</th>\n",
       "      <th>history</th>\n",
       "      <th>no_trips</th>\n",
       "      <th>different_terminals</th>\n",
       "      <th>last_visit</th>\n",
       "      <th>last_port_visit</th>\n",
       "      <th>parallel</th>\n",
       "    </tr>\n",
       "  </thead>\n",
       "  <tbody>\n",
       "    <tr>\n",
       "      <th>7497</th>\n",
       "      <td>SHANGHAI</td>\n",
       "      <td>Shanghai Mingdong Container Terminal</td>\n",
       "      <td>2021-09-08 06:13:00</td>\n",
       "      <td>LOS ANGELES</td>\n",
       "      <td>Everport Services  Terminal</td>\n",
       "      <td>A DAISEN</td>\n",
       "      <td>2021-10-07 11:55:00</td>\n",
       "      <td>18326</td>\n",
       "      <td>1740</td>\n",
       "      <td>175.46</td>\n",
       "      <td>...</td>\n",
       "      <td>4858.4874</td>\n",
       "      <td>4</td>\n",
       "      <td>4__LOS ANGELES</td>\n",
       "      <td>no history</td>\n",
       "      <td>[no history]</td>\n",
       "      <td>0</td>\n",
       "      <td>0</td>\n",
       "      <td>no history</td>\n",
       "      <td>no history</td>\n",
       "      <td>10</td>\n",
       "    </tr>\n",
       "    <tr>\n",
       "      <th>9058</th>\n",
       "      <td>QINGDAO</td>\n",
       "      <td>QQCT</td>\n",
       "      <td>2022-01-12 07:56:00</td>\n",
       "      <td>LOS ANGELES</td>\n",
       "      <td>TraPac Terminal</td>\n",
       "      <td>A DAISEN</td>\n",
       "      <td>2022-02-17 11:00:00</td>\n",
       "      <td>18326</td>\n",
       "      <td>1740</td>\n",
       "      <td>175.46</td>\n",
       "      <td>...</td>\n",
       "      <td>4858.4874</td>\n",
       "      <td>5</td>\n",
       "      <td>5__LOS ANGELES</td>\n",
       "      <td>4__LOS ANGELES</td>\n",
       "      <td>[4__LOS ANGELES]</td>\n",
       "      <td>1</td>\n",
       "      <td>1</td>\n",
       "      <td>4__LOS ANGELES</td>\n",
       "      <td>4__LOS ANGELES</td>\n",
       "      <td>12</td>\n",
       "    </tr>\n",
       "  </tbody>\n",
       "</table>\n",
       "<p>2 rows × 24 columns</p>\n",
       "</div>"
      ],
      "text/plain": [
       "     last_port                         last_terminal  \\\n",
       "7497  SHANGHAI  Shanghai Mingdong Container Terminal   \n",
       "9058   QINGDAO                                  QQCT   \n",
       "\n",
       "     last_terminal_doc_timestamp current_port             current_terminal  \\\n",
       "7497         2021-09-08 06:13:00  LOS ANGELES  Everport Services  Terminal   \n",
       "9058         2022-01-12 07:56:00  LOS ANGELES              TraPac Terminal   \n",
       "\n",
       "      shipname       doc_timestamp    grt   teu  length  ...       size  \\\n",
       "7497  A DAISEN 2021-10-07 11:55:00  18326  1740  175.46  ...  4858.4874   \n",
       "9058  A DAISEN 2022-02-17 11:00:00  18326  1740  175.46  ...  4858.4874   \n",
       "\n",
       "      id_on_port          concat        concat_s           history  no_trips  \\\n",
       "7497           4  4__LOS ANGELES      no history      [no history]         0   \n",
       "9058           5  5__LOS ANGELES  4__LOS ANGELES  [4__LOS ANGELES]         1   \n",
       "\n",
       "     different_terminals      last_visit last_port_visit  parallel  \n",
       "7497                   0      no history      no history        10  \n",
       "9058                   1  4__LOS ANGELES  4__LOS ANGELES        12  \n",
       "\n",
       "[2 rows x 24 columns]"
      ]
     },
     "execution_count": 33,
     "metadata": {},
     "output_type": "execute_result"
    }
   ],
   "source": [
    "make_history.head(2)"
   ]
  },
  {
   "cell_type": "markdown",
   "id": "b023c690",
   "metadata": {},
   "source": [
    "now we effectively/easily use this dataset or a subset of it (we don't need ALL the features anymore) and tackle this as a timeseries problem."
   ]
  },
  {
   "cell_type": "markdown",
   "id": "12d4fbe5",
   "metadata": {},
   "source": [
    "as we said before it is important to have the port as a feature since we're expected to know the port the ship is going"
   ]
  },
  {
   "cell_type": "code",
   "execution_count": 34,
   "id": "99a2a9bd",
   "metadata": {},
   "outputs": [],
   "source": [
    "make_history[\"current_port\"] = make_history.apply(lambda x: 0 if \"HAM\" in x[\"current_port\"] else 1,axis=1)"
   ]
  },
  {
   "cell_type": "markdown",
   "id": "038a6456",
   "metadata": {},
   "source": [
    "the last ports and the last terminals don't actually matter. What actually matters is the difference between the current port call and the previous port call."
   ]
  },
  {
   "cell_type": "code",
   "execution_count": 35,
   "id": "55274347",
   "metadata": {},
   "outputs": [],
   "source": [
    "backup_history = make_history.copy()\n",
    "enc = OrdinalEncoder()\n",
    "make_history.loc[:, [\"shipname\"]] = enc.fit_transform(make_history.loc[:, [\"shipname\"]])"
   ]
  },
  {
   "cell_type": "code",
   "execution_count": 36,
   "id": "e62fb4a8",
   "metadata": {},
   "outputs": [],
   "source": [
    "one_hot = pd.get_dummies(make_history.loc[:, \"last_visit\"])\n",
    "one_hot_columns = list(one_hot.columns)\n",
    "\n",
    "one_hot_2 = pd.get_dummies(make_history.loc[:, \"last_port_visit\"])\n",
    "one_hot_2 = one_hot_2.add_suffix(\"oh2\")\n",
    "one_hot_columns_2 = list(one_hot_2.columns)\n",
    "\n",
    "\n",
    "extra_columns = one_hot_columns +  one_hot_columns_2\n",
    "\n",
    "make_history = pd.concat([make_history, one_hot, one_hot_2],axis=1)"
   ]
  },
  {
   "cell_type": "markdown",
   "id": "5f530f81",
   "metadata": {},
   "source": [
    "\n",
    "this WILL NOT BE USED AS A FEATURE but rather as a medium to be able to process the data a bit easier"
   ]
  },
  {
   "cell_type": "markdown",
   "id": "7e955928",
   "metadata": {},
   "source": [
    "the shipname cannot be possibly used as a feature because\n",
    "it will create curse of dimentonality since we can only use one hot\n",
    "representations. Unless of course we could use ship embeddings (which would)\n",
    "take a bigger dataset."
   ]
  },
  {
   "cell_type": "code",
   "execution_count": 37,
   "id": "1db3f8a0",
   "metadata": {},
   "outputs": [
    {
     "data": {
      "text/plain": [
       "array(['no history', '4__LOS ANGELES', '5__LOS ANGELES', '0__HAMBURG',\n",
       "       '7__HAMBURG', '2__HAMBURG', '5__HAMBURG', '3__HAMBURG',\n",
       "       '6__HAMBURG', '1__HAMBURG', '3__LOS ANGELES', '6__LOS ANGELES',\n",
       "       '2__LOS ANGELES', '0__LOS ANGELES', '8__HAMBURG', '1__LOS ANGELES',\n",
       "       '4__HAMBURG', '10__HAMBURG', '7__LOS ANGELES'], dtype=object)"
      ]
     },
     "execution_count": 37,
     "metadata": {},
     "output_type": "execute_result"
    }
   ],
   "source": [
    "make_history.loc[:, \"last_visit\"].unique()"
   ]
  },
  {
   "cell_type": "code",
   "execution_count": 38,
   "id": "6953c5dc",
   "metadata": {},
   "outputs": [
    {
     "data": {
      "text/html": [
       "<div>\n",
       "<style scoped>\n",
       "    .dataframe tbody tr th:only-of-type {\n",
       "        vertical-align: middle;\n",
       "    }\n",
       "\n",
       "    .dataframe tbody tr th {\n",
       "        vertical-align: top;\n",
       "    }\n",
       "\n",
       "    .dataframe thead th {\n",
       "        text-align: right;\n",
       "    }\n",
       "</style>\n",
       "<table border=\"1\" class=\"dataframe\">\n",
       "  <thead>\n",
       "    <tr style=\"text-align: right;\">\n",
       "      <th></th>\n",
       "      <th>last_port</th>\n",
       "      <th>last_terminal</th>\n",
       "      <th>last_terminal_doc_timestamp</th>\n",
       "      <th>current_port</th>\n",
       "      <th>current_terminal</th>\n",
       "      <th>shipname</th>\n",
       "      <th>doc_timestamp</th>\n",
       "      <th>grt</th>\n",
       "      <th>teu</th>\n",
       "      <th>length</th>\n",
       "      <th>...</th>\n",
       "      <th>4__HAMBURGoh2</th>\n",
       "      <th>4__LOS ANGELESoh2</th>\n",
       "      <th>5__HAMBURGoh2</th>\n",
       "      <th>5__LOS ANGELESoh2</th>\n",
       "      <th>6__HAMBURGoh2</th>\n",
       "      <th>6__LOS ANGELESoh2</th>\n",
       "      <th>7__HAMBURGoh2</th>\n",
       "      <th>7__LOS ANGELESoh2</th>\n",
       "      <th>8__HAMBURGoh2</th>\n",
       "      <th>no historyoh2</th>\n",
       "    </tr>\n",
       "  </thead>\n",
       "  <tbody>\n",
       "    <tr>\n",
       "      <th>7497</th>\n",
       "      <td>SHANGHAI</td>\n",
       "      <td>Shanghai Mingdong Container Terminal</td>\n",
       "      <td>2021-09-08 06:13:00</td>\n",
       "      <td>1</td>\n",
       "      <td>Everport Services  Terminal</td>\n",
       "      <td>0.0</td>\n",
       "      <td>2021-10-07 11:55:00</td>\n",
       "      <td>18326</td>\n",
       "      <td>1740</td>\n",
       "      <td>175.46</td>\n",
       "      <td>...</td>\n",
       "      <td>0</td>\n",
       "      <td>0</td>\n",
       "      <td>0</td>\n",
       "      <td>0</td>\n",
       "      <td>0</td>\n",
       "      <td>0</td>\n",
       "      <td>0</td>\n",
       "      <td>0</td>\n",
       "      <td>0</td>\n",
       "      <td>1</td>\n",
       "    </tr>\n",
       "    <tr>\n",
       "      <th>9058</th>\n",
       "      <td>QINGDAO</td>\n",
       "      <td>QQCT</td>\n",
       "      <td>2022-01-12 07:56:00</td>\n",
       "      <td>1</td>\n",
       "      <td>TraPac Terminal</td>\n",
       "      <td>0.0</td>\n",
       "      <td>2022-02-17 11:00:00</td>\n",
       "      <td>18326</td>\n",
       "      <td>1740</td>\n",
       "      <td>175.46</td>\n",
       "      <td>...</td>\n",
       "      <td>0</td>\n",
       "      <td>1</td>\n",
       "      <td>0</td>\n",
       "      <td>0</td>\n",
       "      <td>0</td>\n",
       "      <td>0</td>\n",
       "      <td>0</td>\n",
       "      <td>0</td>\n",
       "      <td>0</td>\n",
       "      <td>0</td>\n",
       "    </tr>\n",
       "  </tbody>\n",
       "</table>\n",
       "<p>2 rows × 62 columns</p>\n",
       "</div>"
      ],
      "text/plain": [
       "     last_port                         last_terminal  \\\n",
       "7497  SHANGHAI  Shanghai Mingdong Container Terminal   \n",
       "9058   QINGDAO                                  QQCT   \n",
       "\n",
       "     last_terminal_doc_timestamp  current_port             current_terminal  \\\n",
       "7497         2021-09-08 06:13:00             1  Everport Services  Terminal   \n",
       "9058         2022-01-12 07:56:00             1              TraPac Terminal   \n",
       "\n",
       "      shipname       doc_timestamp    grt   teu  length  ...  4__HAMBURGoh2  \\\n",
       "7497       0.0 2021-10-07 11:55:00  18326  1740  175.46  ...              0   \n",
       "9058       0.0 2022-02-17 11:00:00  18326  1740  175.46  ...              0   \n",
       "\n",
       "      4__LOS ANGELESoh2  5__HAMBURGoh2  5__LOS ANGELESoh2  6__HAMBURGoh2  \\\n",
       "7497                  0              0                  0              0   \n",
       "9058                  1              0                  0              0   \n",
       "\n",
       "      6__LOS ANGELESoh2 7__HAMBURGoh2 7__LOS ANGELESoh2 8__HAMBURGoh2  \\\n",
       "7497                  0             0                 0             0   \n",
       "9058                  0             0                 0             0   \n",
       "\n",
       "      no historyoh2  \n",
       "7497              1  \n",
       "9058              0  \n",
       "\n",
       "[2 rows x 62 columns]"
      ]
     },
     "execution_count": 38,
     "metadata": {},
     "output_type": "execute_result"
    }
   ],
   "source": [
    "make_history.head(2)"
   ]
  },
  {
   "cell_type": "code",
   "execution_count": 39,
   "id": "f9aaf677",
   "metadata": {},
   "outputs": [],
   "source": [
    "make_history = make_history.sort_values(by=\"doc_timestamp\")"
   ]
  },
  {
   "cell_type": "code",
   "execution_count": 40,
   "id": "c11188d0",
   "metadata": {},
   "outputs": [],
   "source": [
    "make_history[\"quarter\"] = make_history.loc[:, \"doc_timestamp\"].dt.quarter\n",
    "make_history[\"day of week\"] = make_history.loc[:, \"doc_timestamp\"].dt.dayofweek"
   ]
  },
  {
   "cell_type": "code",
   "execution_count": 41,
   "id": "98c756bf",
   "metadata": {},
   "outputs": [],
   "source": [
    "X_train_main, X_test_main, y_train, y_test= train_test_split(make_history.loc[:,make_history.columns!=\"id_on_port\"], make_history.loc[:,[\"id_on_port\"]], test_size=0.2, shuffle=False)\n",
    "\n",
    "                                                             \n",
    "y_train_main = y_train.copy()\n",
    "y_test_main = y_test.copy()"
   ]
  },
  {
   "cell_type": "markdown",
   "id": "6e420e79",
   "metadata": {},
   "source": [
    "X_train_main and X_test_main is a superset of all the features so we can run with any subset. The whole dataset is splitted in a way to solve as a timeseries problem per ship (even if we don't use the ship as a feature)"
   ]
  },
  {
   "cell_type": "code",
   "execution_count": 42,
   "id": "9ce822b2",
   "metadata": {},
   "outputs": [
    {
     "name": "stdout",
     "output_type": "stream",
     "text": [
      " features used: ['no_trips', 'current_port', 'grt', 'teu', 'length', 'width', 'diff', 'ratio', 'size', 'different_terminals', 'foot_ratio']\n"
     ]
    }
   ],
   "source": [
    "ft = ['no_trips','current_port', 'grt', 'teu', 'length', 'width', 'diff', 'ratio', 'size', 'different_terminals','foot_ratio']\n",
    "print(f\" features used: {ft}\")\n",
    "\n",
    "X_train = X_train_main.loc[:, ft].copy()\n",
    "X_test = X_test_main.loc[:, ft].copy()"
   ]
  },
  {
   "cell_type": "code",
   "execution_count": 43,
   "id": "d9b11354",
   "metadata": {},
   "outputs": [
    {
     "data": {
      "text/html": [
       "<div>\n",
       "<style scoped>\n",
       "    .dataframe tbody tr th:only-of-type {\n",
       "        vertical-align: middle;\n",
       "    }\n",
       "\n",
       "    .dataframe tbody tr th {\n",
       "        vertical-align: top;\n",
       "    }\n",
       "\n",
       "    .dataframe thead th {\n",
       "        text-align: right;\n",
       "    }\n",
       "</style>\n",
       "<table border=\"1\" class=\"dataframe\">\n",
       "  <thead>\n",
       "    <tr style=\"text-align: right;\">\n",
       "      <th></th>\n",
       "      <th>no_trips</th>\n",
       "      <th>current_port</th>\n",
       "      <th>grt</th>\n",
       "      <th>teu</th>\n",
       "      <th>length</th>\n",
       "      <th>width</th>\n",
       "      <th>diff</th>\n",
       "      <th>ratio</th>\n",
       "      <th>size</th>\n",
       "      <th>different_terminals</th>\n",
       "      <th>foot_ratio</th>\n",
       "    </tr>\n",
       "  </thead>\n",
       "  <tbody>\n",
       "    <tr>\n",
       "      <th>count</th>\n",
       "      <td>9643.000000</td>\n",
       "      <td>9643.000000</td>\n",
       "      <td>9643.000000</td>\n",
       "      <td>9643.000000</td>\n",
       "      <td>9643.000000</td>\n",
       "      <td>9643.000000</td>\n",
       "      <td>9643.000000</td>\n",
       "      <td>9643.000000</td>\n",
       "      <td>9643.000000</td>\n",
       "      <td>9643.000000</td>\n",
       "      <td>9643.000000</td>\n",
       "    </tr>\n",
       "    <tr>\n",
       "      <th>mean</th>\n",
       "      <td>13.181582</td>\n",
       "      <td>0.221612</td>\n",
       "      <td>60344.435342</td>\n",
       "      <td>5496.633828</td>\n",
       "      <td>244.016730</td>\n",
       "      <td>34.687520</td>\n",
       "      <td>44429.362232</td>\n",
       "      <td>5.154590</td>\n",
       "      <td>9463.432512</td>\n",
       "      <td>1.935601</td>\n",
       "      <td>0.466751</td>\n",
       "    </tr>\n",
       "    <tr>\n",
       "      <th>std</th>\n",
       "      <td>18.602684</td>\n",
       "      <td>0.415353</td>\n",
       "      <td>57189.271803</td>\n",
       "      <td>5378.645649</td>\n",
       "      <td>89.819422</td>\n",
       "      <td>11.581588</td>\n",
       "      <td>25123.569085</td>\n",
       "      <td>1.899528</td>\n",
       "      <td>6238.275144</td>\n",
       "      <td>1.519663</td>\n",
       "      <td>0.180117</td>\n",
       "    </tr>\n",
       "    <tr>\n",
       "      <th>min</th>\n",
       "      <td>0.000000</td>\n",
       "      <td>0.000000</td>\n",
       "      <td>3992.000000</td>\n",
       "      <td>508.000000</td>\n",
       "      <td>99.950000</td>\n",
       "      <td>17.900000</td>\n",
       "      <td>0.000000</td>\n",
       "      <td>2.168469</td>\n",
       "      <td>1819.090000</td>\n",
       "      <td>0.000000</td>\n",
       "      <td>0.205248</td>\n",
       "    </tr>\n",
       "    <tr>\n",
       "      <th>25%</th>\n",
       "      <td>2.000000</td>\n",
       "      <td>0.000000</td>\n",
       "      <td>11550.000000</td>\n",
       "      <td>1036.000000</td>\n",
       "      <td>154.520000</td>\n",
       "      <td>23.530000</td>\n",
       "      <td>22740.000000</td>\n",
       "      <td>3.300595</td>\n",
       "      <td>3710.610200</td>\n",
       "      <td>1.000000</td>\n",
       "      <td>0.292014</td>\n",
       "    </tr>\n",
       "    <tr>\n",
       "      <th>50%</th>\n",
       "      <td>6.000000</td>\n",
       "      <td>0.000000</td>\n",
       "      <td>40146.000000</td>\n",
       "      <td>4000.000000</td>\n",
       "      <td>259.000000</td>\n",
       "      <td>32.200000</td>\n",
       "      <td>46020.000000</td>\n",
       "      <td>4.926964</td>\n",
       "      <td>8404.530000</td>\n",
       "      <td>1.000000</td>\n",
       "      <td>0.457603</td>\n",
       "    </tr>\n",
       "    <tr>\n",
       "      <th>75%</th>\n",
       "      <td>16.000000</td>\n",
       "      <td>0.000000</td>\n",
       "      <td>95680.000000</td>\n",
       "      <td>8566.000000</td>\n",
       "      <td>332.150000</td>\n",
       "      <td>45.600000</td>\n",
       "      <td>65730.000000</td>\n",
       "      <td>6.425343</td>\n",
       "      <td>14470.552800</td>\n",
       "      <td>3.000000</td>\n",
       "      <td>0.577871</td>\n",
       "    </tr>\n",
       "    <tr>\n",
       "      <th>max</th>\n",
       "      <td>115.000000</td>\n",
       "      <td>1.000000</td>\n",
       "      <td>236583.000000</td>\n",
       "      <td>23992.000000</td>\n",
       "      <td>400.000000</td>\n",
       "      <td>62.000000</td>\n",
       "      <td>86340.000000</td>\n",
       "      <td>9.650985</td>\n",
       "      <td>24800.000000</td>\n",
       "      <td>6.000000</td>\n",
       "      <td>0.982377</td>\n",
       "    </tr>\n",
       "  </tbody>\n",
       "</table>\n",
       "</div>"
      ],
      "text/plain": [
       "          no_trips  current_port            grt           teu       length  \\\n",
       "count  9643.000000   9643.000000    9643.000000   9643.000000  9643.000000   \n",
       "mean     13.181582      0.221612   60344.435342   5496.633828   244.016730   \n",
       "std      18.602684      0.415353   57189.271803   5378.645649    89.819422   \n",
       "min       0.000000      0.000000    3992.000000    508.000000    99.950000   \n",
       "25%       2.000000      0.000000   11550.000000   1036.000000   154.520000   \n",
       "50%       6.000000      0.000000   40146.000000   4000.000000   259.000000   \n",
       "75%      16.000000      0.000000   95680.000000   8566.000000   332.150000   \n",
       "max     115.000000      1.000000  236583.000000  23992.000000   400.000000   \n",
       "\n",
       "             width          diff        ratio          size  \\\n",
       "count  9643.000000   9643.000000  9643.000000   9643.000000   \n",
       "mean     34.687520  44429.362232     5.154590   9463.432512   \n",
       "std      11.581588  25123.569085     1.899528   6238.275144   \n",
       "min      17.900000      0.000000     2.168469   1819.090000   \n",
       "25%      23.530000  22740.000000     3.300595   3710.610200   \n",
       "50%      32.200000  46020.000000     4.926964   8404.530000   \n",
       "75%      45.600000  65730.000000     6.425343  14470.552800   \n",
       "max      62.000000  86340.000000     9.650985  24800.000000   \n",
       "\n",
       "       different_terminals   foot_ratio  \n",
       "count          9643.000000  9643.000000  \n",
       "mean              1.935601     0.466751  \n",
       "std               1.519663     0.180117  \n",
       "min               0.000000     0.205248  \n",
       "25%               1.000000     0.292014  \n",
       "50%               1.000000     0.457603  \n",
       "75%               3.000000     0.577871  \n",
       "max               6.000000     0.982377  "
      ]
     },
     "execution_count": 43,
     "metadata": {},
     "output_type": "execute_result"
    }
   ],
   "source": [
    "X_train.loc[:, ft].describe()"
   ]
  },
  {
   "cell_type": "markdown",
   "id": "e1c5449d",
   "metadata": {},
   "source": [
    "### phase 2 of experiments with these features"
   ]
  },
  {
   "cell_type": "markdown",
   "id": "46b198af",
   "metadata": {},
   "source": [
    "# logistic regression"
   ]
  },
  {
   "cell_type": "code",
   "execution_count": 44,
   "id": "8f13e1cc",
   "metadata": {},
   "outputs": [
    {
     "name": "stdout",
     "output_type": "stream",
     "text": [
      "micro 0.30070510161758607\n",
      "macro 0.12653729239477268\n",
      "              precision    recall  f1-score   support\n",
      "\n",
      "           0       0.53      0.26      0.35      1108\n",
      "           1       0.15      0.23      0.18        96\n",
      "           2       0.27      0.36      0.31       370\n",
      "           3       0.40      0.35      0.37       775\n",
      "           4       0.02      0.07      0.03        27\n",
      "           5       0.01      0.09      0.02        35\n",
      "           6       0.00      0.00      0.00         0\n",
      "           7       0.00      0.00      0.00         0\n",
      "           8       0.00      0.00      0.00         0\n",
      "          10       0.00      0.00      0.00         0\n",
      "\n",
      "    accuracy                           0.30      2411\n",
      "   macro avg       0.14      0.14      0.13      2411\n",
      "weighted avg       0.42      0.30      0.34      2411\n",
      "\n"
     ]
    }
   ],
   "source": [
    "model = LogisticRegression(random_state=42)\n",
    "\n",
    "svt = RobustScaler()\n",
    "\n",
    "model.fit(svt.fit_transform(X_train),y_train)\n",
    "\n",
    "svtest = RobustScaler()\n",
    "\n",
    "y_pred = model.predict(svtest.fit_transform(X_test))\n",
    "\n",
    "print(\"micro\", f1_score(y_pred,y_test,average='micro'))\n",
    "print(\"macro\", f1_score(y_pred,y_test,average='macro'))\n",
    "print(classification_report(y_pred.ravel(),y_test.values.ravel()))\n",
    "\n",
    "gather_results[\"lr_ft\"] = ({\"micro f1\":f1_score(y_pred,y_test,average='micro'), \"macro\":f1_score(y_pred,y_test,average='macro')})\n",
    "\n",
    "gather_data[\"lr_ft\"] = {\"X_train\":pd.DataFrame(svt.fit_transform(X_train), columns=X_train.columns),\"y_train\":y_train,\"X_test\":pd.DataFrame(svtest.fit_transform(X_test),columns=X_test.columns),\"y_test\":y_test,\"model\":model, \"y_pred\":y_pred}\n"
   ]
  },
  {
   "cell_type": "markdown",
   "id": "493a2514",
   "metadata": {},
   "source": [
    "# Random Forest Classifier"
   ]
  },
  {
   "cell_type": "code",
   "execution_count": 45,
   "id": "723960ba",
   "metadata": {
    "scrolled": false
   },
   "outputs": [
    {
     "name": "stdout",
     "output_type": "stream",
     "text": [
      "micro 0.6391538780588967\n",
      "macro 0.4558013907275737\n",
      "              precision    recall  f1-score   support\n",
      "\n",
      "           0       0.67      0.65      0.66       575\n",
      "           1       0.77      0.67      0.71       165\n",
      "           2       0.61      0.52      0.56       594\n",
      "           3       0.71      0.73      0.72       673\n",
      "           4       0.63      0.81      0.71        69\n",
      "           5       0.45      0.60      0.51       265\n",
      "           6       0.67      0.70      0.69        70\n",
      "           7       0.00      0.00      0.00         0\n",
      "           8       0.00      0.00      0.00         0\n",
      "          10       0.00      0.00      0.00         0\n",
      "\n",
      "    accuracy                           0.64      2411\n",
      "   macro avg       0.45      0.47      0.46      2411\n",
      "weighted avg       0.65      0.64      0.64      2411\n",
      "\n"
     ]
    },
    {
     "data": {
      "image/png": "[encoded data removed]",
      "text/plain": [
       "<Figure size 640x480 with 2 Axes>"
      ]
     },
     "metadata": {},
     "output_type": "display_data"
    }
   ],
   "source": [
    "model = RandomForestClassifier(random_state=42)\n",
    "\n",
    "model.fit(X_train,y_train)\n",
    "\n",
    "y_pred = model.predict(X_test)\n",
    "\n",
    "print(\"micro\", f1_score(y_pred, y_test.values.ravel(),average='micro'))\n",
    "print(\"macro\", f1_score(y_pred, y_test.values.ravel(),average='macro'))\n",
    "print(classification_report(y_pred.ravel(),y_test.values.ravel()))\n",
    "gather_results[\"rfr_ft\"] = {\"micro f1\":f1_score(y_pred,y_test,average='micro'), \"macro\":f1_score(y_pred,y_test,average='macro')}\n",
    "\n",
    "gather_data[\"rfr_ft\"] = {\"X_train\":X_train,\"y_train\":y_train,\"X_test\":X_test,\"y_test\":y_test,\"model\":model, \"y_pred\":y_pred}\n",
    "\n",
    "heatmap(y_test, y_pred)"
   ]
  },
  {
   "cell_type": "code",
   "execution_count": 46,
   "id": "ba249a9d",
   "metadata": {},
   "outputs": [],
   "source": [
    "check_df = pd.DataFrame(model.feature_importances_.reshape(1,-1), columns=X_train.columns).T\n",
    "check_df.columns = [\"importance\"]"
   ]
  },
  {
   "cell_type": "code",
   "execution_count": 47,
   "id": "175edf0c",
   "metadata": {},
   "outputs": [
    {
     "data": {
      "text/html": [
       "<div>\n",
       "<style scoped>\n",
       "    .dataframe tbody tr th:only-of-type {\n",
       "        vertical-align: middle;\n",
       "    }\n",
       "\n",
       "    .dataframe tbody tr th {\n",
       "        vertical-align: top;\n",
       "    }\n",
       "\n",
       "    .dataframe thead th {\n",
       "        text-align: right;\n",
       "    }\n",
       "</style>\n",
       "<table border=\"1\" class=\"dataframe\">\n",
       "  <thead>\n",
       "    <tr style=\"text-align: right;\">\n",
       "      <th></th>\n",
       "      <th>importance</th>\n",
       "    </tr>\n",
       "  </thead>\n",
       "  <tbody>\n",
       "    <tr>\n",
       "      <th>current_port</th>\n",
       "      <td>0.031988</td>\n",
       "    </tr>\n",
       "    <tr>\n",
       "      <th>different_terminals</th>\n",
       "      <td>0.058318</td>\n",
       "    </tr>\n",
       "    <tr>\n",
       "      <th>width</th>\n",
       "      <td>0.062654</td>\n",
       "    </tr>\n",
       "    <tr>\n",
       "      <th>teu</th>\n",
       "      <td>0.079737</td>\n",
       "    </tr>\n",
       "    <tr>\n",
       "      <th>foot_ratio</th>\n",
       "      <td>0.083193</td>\n",
       "    </tr>\n",
       "    <tr>\n",
       "      <th>length</th>\n",
       "      <td>0.086262</td>\n",
       "    </tr>\n",
       "    <tr>\n",
       "      <th>size</th>\n",
       "      <td>0.087548</td>\n",
       "    </tr>\n",
       "    <tr>\n",
       "      <th>grt</th>\n",
       "      <td>0.087890</td>\n",
       "    </tr>\n",
       "    <tr>\n",
       "      <th>ratio</th>\n",
       "      <td>0.092397</td>\n",
       "    </tr>\n",
       "    <tr>\n",
       "      <th>diff</th>\n",
       "      <td>0.164952</td>\n",
       "    </tr>\n",
       "    <tr>\n",
       "      <th>no_trips</th>\n",
       "      <td>0.165062</td>\n",
       "    </tr>\n",
       "  </tbody>\n",
       "</table>\n",
       "</div>"
      ],
      "text/plain": [
       "                     importance\n",
       "current_port           0.031988\n",
       "different_terminals    0.058318\n",
       "width                  0.062654\n",
       "teu                    0.079737\n",
       "foot_ratio             0.083193\n",
       "length                 0.086262\n",
       "size                   0.087548\n",
       "grt                    0.087890\n",
       "ratio                  0.092397\n",
       "diff                   0.164952\n",
       "no_trips               0.165062"
      ]
     },
     "execution_count": 47,
     "metadata": {},
     "output_type": "execute_result"
    }
   ],
   "source": [
    "check_df.sort_values(by=\"importance\")"
   ]
  },
  {
   "cell_type": "markdown",
   "id": "36ec0e23",
   "metadata": {},
   "source": [
    "# SVC"
   ]
  },
  {
   "cell_type": "code",
   "execution_count": 48,
   "id": "5247021a",
   "metadata": {},
   "outputs": [
    {
     "name": "stdout",
     "output_type": "stream",
     "text": [
      "micro 0.35835752799668186\n",
      "macro 0.17336512252937125\n",
      "              precision    recall  f1-score   support\n",
      "\n",
      "           0       0.47      0.30      0.37       862\n",
      "           1       0.25      0.67      0.37        54\n",
      "           2       0.69      0.34      0.46      1007\n",
      "           3       0.31      0.49      0.38       434\n",
      "           4       0.02      0.14      0.04        14\n",
      "           5       0.00      0.04      0.01        28\n",
      "           6       0.07      0.42      0.12        12\n",
      "           7       0.00      0.00      0.00         0\n",
      "           8       0.00      0.00      0.00         0\n",
      "          10       0.00      0.00      0.00         0\n",
      "\n",
      "    accuracy                           0.36      2411\n",
      "   macro avg       0.18      0.24      0.17      2411\n",
      "weighted avg       0.52      0.36      0.40      2411\n",
      "\n"
     ]
    },
    {
     "data": {
      "image/png": "[encoded data removed]",
      "text/plain": [
       "<Figure size 640x480 with 2 Axes>"
      ]
     },
     "metadata": {},
     "output_type": "display_data"
    }
   ],
   "source": [
    "# SVMs' need scaling before used.\n",
    "model = SVC(random_state=42)\n",
    "\n",
    "\n",
    "svt = RobustScaler()\n",
    "\n",
    "model.fit(svt.fit_transform(X_train),y_train)\n",
    "\n",
    "svtest = RobustScaler()\n",
    "\n",
    "y_pred = model.predict(svtest.fit_transform(X_test))\n",
    "\n",
    "print(\"micro\", f1_score(y_pred.ravel(),y_test.values.ravel(),average='micro'))\n",
    "print(\"macro\", f1_score(y_pred.ravel(),y_test.values.ravel(),average='macro'))\n",
    "print(classification_report(y_pred.ravel(),y_test.values.ravel()))\n",
    "gather_results[\"svm_ft\"] = {\"micro f1\":f1_score(y_pred,y_test,average='micro'), \"macro\":f1_score(y_pred,y_test,average='macro')}\n",
    "\n",
    "\n",
    "gather_data[\"svm_ft\"] = {\"X_train\":pd.DataFrame(svt.fit_transform(X_train), columns=X_train.columns),\"y_train\":y_train,\"X_test\":pd.DataFrame(svtest.fit_transform(X_test), columns=X_test.columns),\"y_test\":y_test,\"model\":model, \"y_pred\":y_pred}\n",
    "\n",
    "heatmap(y_test, y_pred)"
   ]
  },
  {
   "cell_type": "code",
   "execution_count": 49,
   "id": "fee90414",
   "metadata": {},
   "outputs": [],
   "source": [
    "checking_df = pd.concat([X_test,y_test],axis=1)"
   ]
  },
  {
   "cell_type": "code",
   "execution_count": 50,
   "id": "a7cb98e9",
   "metadata": {},
   "outputs": [
    {
     "data": {
      "text/html": [
       "<div>\n",
       "<style scoped>\n",
       "    .dataframe tbody tr th:only-of-type {\n",
       "        vertical-align: middle;\n",
       "    }\n",
       "\n",
       "    .dataframe tbody tr th {\n",
       "        vertical-align: top;\n",
       "    }\n",
       "\n",
       "    .dataframe thead th {\n",
       "        text-align: right;\n",
       "    }\n",
       "</style>\n",
       "<table border=\"1\" class=\"dataframe\">\n",
       "  <thead>\n",
       "    <tr style=\"text-align: right;\">\n",
       "      <th></th>\n",
       "      <th>no_trips</th>\n",
       "      <th>current_port</th>\n",
       "      <th>grt</th>\n",
       "      <th>teu</th>\n",
       "      <th>length</th>\n",
       "      <th>width</th>\n",
       "      <th>diff</th>\n",
       "      <th>ratio</th>\n",
       "      <th>size</th>\n",
       "      <th>different_terminals</th>\n",
       "      <th>foot_ratio</th>\n",
       "      <th>id_on_port</th>\n",
       "    </tr>\n",
       "  </thead>\n",
       "  <tbody>\n",
       "  </tbody>\n",
       "</table>\n",
       "</div>"
      ],
      "text/plain": [
       "Empty DataFrame\n",
       "Columns: [no_trips, current_port, grt, teu, length, width, diff, ratio, size, different_terminals, foot_ratio, id_on_port]\n",
       "Index: []"
      ]
     },
     "execution_count": 50,
     "metadata": {},
     "output_type": "execute_result"
    }
   ],
   "source": [
    "checking_df.loc[(checking_df[\"current_port\"]==1) & (checking_df[\"id_on_port\"]>7),:]"
   ]
  },
  {
   "cell_type": "markdown",
   "id": "c0617629",
   "metadata": {},
   "source": [
    "In the case of misclassification for terminals over the 9th (i.e. for LA) we could correct the prediction by placing them to other 8 terminals.\n",
    "\n",
    "1. This could happen in multiple ways, either by using the knowledge of the prior distribution and place the prediction of over 8th terminal to the most visited terminal of the correct port.\n",
    "2. If we had information about the terminals (aka similiarties of the terminals i would try to correlate the 9 to 11 terminals to one of the other 8.\n",
    "\n",
    "Since this is not the case here, we can't perform any post processing right now\n"
   ]
  },
  {
   "cell_type": "markdown",
   "id": "7ee6d2a1",
   "metadata": {},
   "source": [
    "# compare with baseline on the same validation set."
   ]
  },
  {
   "cell_type": "code",
   "execution_count": 51,
   "id": "2bc589bf",
   "metadata": {},
   "outputs": [
    {
     "name": "stdout",
     "output_type": "stream",
     "text": [
      "2411\n",
      "macro f1 0.5760643611534638\n",
      "micro f1 0.6818747407714641\n",
      "                precision    recall  f1-score   support\n",
      "\n",
      "    0__HAMBURG       0.64      0.70      0.67       415\n",
      "0__LOS ANGELES       0.76      0.88      0.82        89\n",
      "   10__HAMBURG       0.00      0.00      0.00         1\n",
      "    1__HAMBURG       0.88      0.88      0.88        42\n",
      "1__LOS ANGELES       0.81      0.93      0.87        88\n",
      "    2__HAMBURG       0.57      0.60      0.59       444\n",
      "2__LOS ANGELES       0.84      0.91      0.87        34\n",
      "    3__HAMBURG       0.73      0.75      0.74       588\n",
      "3__LOS ANGELES       0.94      1.00      0.97        80\n",
      "    4__HAMBURG       0.89      0.94      0.91        33\n",
      "4__LOS ANGELES       0.81      0.86      0.84        51\n",
      "    5__HAMBURG       0.57      0.58      0.57       281\n",
      "5__LOS ANGELES       0.85      0.83      0.84        70\n",
      "    6__HAMBURG       0.00      0.00      0.00        13\n",
      "6__LOS ANGELES       0.71      0.91      0.80        46\n",
      "    7__HAMBURG       0.00      0.00      0.00         5\n",
      "    8__HAMBURG       0.00      0.00      0.00         2\n",
      "    no history       0.00      0.00      0.00       129\n",
      "\n",
      "      accuracy                           0.68      2411\n",
      "     macro avg       0.56      0.60      0.58      2411\n",
      "  weighted avg       0.64      0.68      0.66      2411\n",
      "\n"
     ]
    }
   ],
   "source": [
    "restructure2 = restructure.loc[restructure.index.isin(X_test.index), :].copy()\n",
    "print(restructure2.shape[0])\n",
    "print(\"macro f1\",f1_score(restructure2[\"concat\"], restructure2[\"concat_s\"],average='macro'))\n",
    "print(\"micro f1\", f1_score(restructure2[\"concat\"], restructure2[\"concat_s\"],average='micro'))\n",
    "\n",
    "gather_results[\"base_vali\"] = {\"micro f1\":f1_score(restructure2[\"concat\"], restructure2[\"concat_s\"],average='micro'), \"macro\":f1_score(restructure2[\"concat\"], restructure2[\"concat_s\"],average='macro')}\n",
    "\n",
    "print(classification_report(restructure2[\"concat_s\"], restructure2[\"concat\"]))"
   ]
  },
  {
   "cell_type": "code",
   "execution_count": 52,
   "id": "afd1d060",
   "metadata": {},
   "outputs": [
    {
     "data": {
      "text/html": [
       "<div>\n",
       "<style scoped>\n",
       "    .dataframe tbody tr th:only-of-type {\n",
       "        vertical-align: middle;\n",
       "    }\n",
       "\n",
       "    .dataframe tbody tr th {\n",
       "        vertical-align: top;\n",
       "    }\n",
       "\n",
       "    .dataframe thead th {\n",
       "        text-align: right;\n",
       "    }\n",
       "</style>\n",
       "<table border=\"1\" class=\"dataframe\">\n",
       "  <thead>\n",
       "    <tr style=\"text-align: right;\">\n",
       "      <th></th>\n",
       "      <th>last_port</th>\n",
       "      <th>last_terminal</th>\n",
       "      <th>last_terminal_doc_timestamp</th>\n",
       "      <th>current_port</th>\n",
       "      <th>current_terminal</th>\n",
       "      <th>shipname</th>\n",
       "      <th>doc_timestamp</th>\n",
       "      <th>grt</th>\n",
       "      <th>teu</th>\n",
       "      <th>length</th>\n",
       "      <th>width</th>\n",
       "      <th>diff</th>\n",
       "      <th>ratio</th>\n",
       "      <th>foot_ratio</th>\n",
       "      <th>size</th>\n",
       "      <th>id_on_port</th>\n",
       "      <th>concat</th>\n",
       "      <th>concat_s</th>\n",
       "    </tr>\n",
       "  </thead>\n",
       "  <tbody>\n",
       "    <tr>\n",
       "      <th>12036</th>\n",
       "      <td>NINGBO</td>\n",
       "      <td>Daxie China Merchants ICT</td>\n",
       "      <td>2022-11-05 05:47:00</td>\n",
       "      <td>LOS ANGELES</td>\n",
       "      <td>TraPac Terminal</td>\n",
       "      <td>A.IDEFIX</td>\n",
       "      <td>2022-11-23 12:04:00</td>\n",
       "      <td>18263</td>\n",
       "      <td>1700</td>\n",
       "      <td>182.00</td>\n",
       "      <td>26.00</td>\n",
       "      <td>22620</td>\n",
       "      <td>3.859467</td>\n",
       "      <td>0.359256</td>\n",
       "      <td>4732.0000</td>\n",
       "      <td>5</td>\n",
       "      <td>5__LOS ANGELES</td>\n",
       "      <td>no history</td>\n",
       "    </tr>\n",
       "    <tr>\n",
       "      <th>10953</th>\n",
       "      <td>FELIXSTOWE</td>\n",
       "      <td>Trinity Container Terminal</td>\n",
       "      <td>2022-08-08 20:01:00</td>\n",
       "      <td>HAMBURG</td>\n",
       "      <td>HHLA Container Terminal Tollerort</td>\n",
       "      <td>AS CONSTANTINA</td>\n",
       "      <td>2022-08-10 20:01:00</td>\n",
       "      <td>27786</td>\n",
       "      <td>2700</td>\n",
       "      <td>221.69</td>\n",
       "      <td>29.86</td>\n",
       "      <td>0</td>\n",
       "      <td>4.197494</td>\n",
       "      <td>0.407876</td>\n",
       "      <td>6619.6634</td>\n",
       "      <td>5</td>\n",
       "      <td>5__HAMBURG</td>\n",
       "      <td>no history</td>\n",
       "    </tr>\n",
       "  </tbody>\n",
       "</table>\n",
       "</div>"
      ],
      "text/plain": [
       "        last_port               last_terminal last_terminal_doc_timestamp  \\\n",
       "12036      NINGBO   Daxie China Merchants ICT         2022-11-05 05:47:00   \n",
       "10953  FELIXSTOWE  Trinity Container Terminal         2022-08-08 20:01:00   \n",
       "\n",
       "      current_port                   current_terminal        shipname  \\\n",
       "12036  LOS ANGELES                    TraPac Terminal        A.IDEFIX   \n",
       "10953      HAMBURG  HHLA Container Terminal Tollerort  AS CONSTANTINA   \n",
       "\n",
       "            doc_timestamp    grt   teu  length  width   diff     ratio  \\\n",
       "12036 2022-11-23 12:04:00  18263  1700  182.00  26.00  22620  3.859467   \n",
       "10953 2022-08-10 20:01:00  27786  2700  221.69  29.86      0  4.197494   \n",
       "\n",
       "       foot_ratio       size  id_on_port          concat    concat_s  \n",
       "12036    0.359256  4732.0000           5  5__LOS ANGELES  no history  \n",
       "10953    0.407876  6619.6634           5      5__HAMBURG  no history  "
      ]
     },
     "execution_count": 52,
     "metadata": {},
     "output_type": "execute_result"
    }
   ],
   "source": [
    "restructure2.loc[restructure2[\"concat_s\"]==\"no history\",:].head(2)"
   ]
  },
  {
   "cell_type": "markdown",
   "id": "f9fc66ad",
   "metadata": {},
   "source": [
    "one of the reasons that we get a better result from the baseline is that we do have a majority classifier on our hands "
   ]
  },
  {
   "cell_type": "markdown",
   "id": "f15081e0",
   "metadata": {},
   "source": [
    "# Evidently we need to explore new features"
   ]
  },
  {
   "cell_type": "markdown",
   "id": "80e73d21",
   "metadata": {},
   "source": [
    "first of all we must definitely should use the last_known terminal\n",
    "hence veifying the hypothesis of the product team."
   ]
  },
  {
   "cell_type": "code",
   "execution_count": 53,
   "id": "9cf5f9e4",
   "metadata": {},
   "outputs": [
    {
     "data": {
      "text/plain": [
       "(9643, 63)"
      ]
     },
     "execution_count": 53,
     "metadata": {},
     "output_type": "execute_result"
    }
   ],
   "source": [
    "X_train_main.shape"
   ]
  },
  {
   "cell_type": "code",
   "execution_count": 54,
   "id": "97eea894",
   "metadata": {},
   "outputs": [
    {
     "data": {
      "text/html": [
       "<div>\n",
       "<style scoped>\n",
       "    .dataframe tbody tr th:only-of-type {\n",
       "        vertical-align: middle;\n",
       "    }\n",
       "\n",
       "    .dataframe tbody tr th {\n",
       "        vertical-align: top;\n",
       "    }\n",
       "\n",
       "    .dataframe thead th {\n",
       "        text-align: right;\n",
       "    }\n",
       "</style>\n",
       "<table border=\"1\" class=\"dataframe\">\n",
       "  <thead>\n",
       "    <tr style=\"text-align: right;\">\n",
       "      <th></th>\n",
       "      <th>last_port</th>\n",
       "      <th>last_terminal</th>\n",
       "      <th>last_terminal_doc_timestamp</th>\n",
       "      <th>current_port</th>\n",
       "      <th>current_terminal</th>\n",
       "      <th>shipname</th>\n",
       "      <th>doc_timestamp</th>\n",
       "      <th>grt</th>\n",
       "      <th>teu</th>\n",
       "      <th>length</th>\n",
       "      <th>...</th>\n",
       "      <th>5__HAMBURGoh2</th>\n",
       "      <th>5__LOS ANGELESoh2</th>\n",
       "      <th>6__HAMBURGoh2</th>\n",
       "      <th>6__LOS ANGELESoh2</th>\n",
       "      <th>7__HAMBURGoh2</th>\n",
       "      <th>7__LOS ANGELESoh2</th>\n",
       "      <th>8__HAMBURGoh2</th>\n",
       "      <th>no historyoh2</th>\n",
       "      <th>quarter</th>\n",
       "      <th>day of week</th>\n",
       "    </tr>\n",
       "  </thead>\n",
       "  <tbody>\n",
       "    <tr>\n",
       "      <th>0</th>\n",
       "      <td>BREMERHAVEN</td>\n",
       "      <td>North Sea Terminal</td>\n",
       "      <td>2020-01-02 16:12:00</td>\n",
       "      <td>0</td>\n",
       "      <td>Eurogate Container Terminal Hamburg</td>\n",
       "      <td>552.0</td>\n",
       "      <td>2020-01-03 06:20:00</td>\n",
       "      <td>17488</td>\n",
       "      <td>1421</td>\n",
       "      <td>168.11</td>\n",
       "      <td>...</td>\n",
       "      <td>0</td>\n",
       "      <td>0</td>\n",
       "      <td>0</td>\n",
       "      <td>0</td>\n",
       "      <td>0</td>\n",
       "      <td>0</td>\n",
       "      <td>0</td>\n",
       "      <td>1</td>\n",
       "      <td>1</td>\n",
       "      <td>4</td>\n",
       "    </tr>\n",
       "    <tr>\n",
       "      <th>1</th>\n",
       "      <td>TILBURY</td>\n",
       "      <td>London Container Terminal</td>\n",
       "      <td>2020-01-01 21:56:00</td>\n",
       "      <td>0</td>\n",
       "      <td>C. Steinweg Multipurpose Terminal</td>\n",
       "      <td>558.0</td>\n",
       "      <td>2020-01-03 07:45:00</td>\n",
       "      <td>9981</td>\n",
       "      <td>868</td>\n",
       "      <td>134.40</td>\n",
       "      <td>...</td>\n",
       "      <td>0</td>\n",
       "      <td>0</td>\n",
       "      <td>0</td>\n",
       "      <td>0</td>\n",
       "      <td>0</td>\n",
       "      <td>0</td>\n",
       "      <td>0</td>\n",
       "      <td>1</td>\n",
       "      <td>1</td>\n",
       "      <td>4</td>\n",
       "    </tr>\n",
       "  </tbody>\n",
       "</table>\n",
       "<p>2 rows × 63 columns</p>\n",
       "</div>"
      ],
      "text/plain": [
       "     last_port              last_terminal last_terminal_doc_timestamp  \\\n",
       "0  BREMERHAVEN         North Sea Terminal         2020-01-02 16:12:00   \n",
       "1      TILBURY  London Container Terminal         2020-01-01 21:56:00   \n",
       "\n",
       "   current_port                     current_terminal  shipname  \\\n",
       "0             0  Eurogate Container Terminal Hamburg     552.0   \n",
       "1             0    C. Steinweg Multipurpose Terminal     558.0   \n",
       "\n",
       "        doc_timestamp    grt   teu  length  ...  5__HAMBURGoh2  \\\n",
       "0 2020-01-03 06:20:00  17488  1421  168.11  ...              0   \n",
       "1 2020-01-03 07:45:00   9981   868  134.40  ...              0   \n",
       "\n",
       "   5__LOS ANGELESoh2  6__HAMBURGoh2  6__LOS ANGELESoh2  7__HAMBURGoh2  \\\n",
       "0                  0              0                  0              0   \n",
       "1                  0              0                  0              0   \n",
       "\n",
       "  7__LOS ANGELESoh2 8__HAMBURGoh2 no historyoh2  quarter  day of week  \n",
       "0                 0             0             1        1            4  \n",
       "1                 0             0             1        1            4  \n",
       "\n",
       "[2 rows x 63 columns]"
      ]
     },
     "execution_count": 54,
     "metadata": {},
     "output_type": "execute_result"
    }
   ],
   "source": [
    "X_train_main.loc[X_train_main[\"last_visit\"]==\"no history\",:].head(2)"
   ]
  },
  {
   "cell_type": "code",
   "execution_count": 55,
   "id": "f7635ec5",
   "metadata": {},
   "outputs": [
    {
     "data": {
      "text/plain": [
       "(1288, 109)"
      ]
     },
     "execution_count": 55,
     "metadata": {},
     "output_type": "execute_result"
    }
   ],
   "source": [
    "X_train_main.loc[X_train_main[\"last_visit\"]==\"no history\",:].shape[0],X_test_main.loc[X_test_main[\"last_visit\"]==\"no history\",:].shape[0]"
   ]
  },
  {
   "cell_type": "markdown",
   "id": "eb9584af",
   "metadata": {},
   "source": [
    "should i use the previous lag i would have to delete 1288 rows out of the dataset since they don't actually have history, instead i have decided to make that a feature."
   ]
  },
  {
   "cell_type": "code",
   "execution_count": 56,
   "id": "458d162b",
   "metadata": {},
   "outputs": [],
   "source": [
    "expanded_cols = ft.copy()\n",
    "expanded_cols.extend(one_hot_columns)\n",
    "expanded_cols.extend(one_hot_columns_2)\n",
    "X_train = X_train_main.loc[:, expanded_cols].copy()\n",
    "X_test = X_test_main.loc[:, expanded_cols].copy()"
   ]
  },
  {
   "cell_type": "markdown",
   "id": "91be0215",
   "metadata": {},
   "source": [
    "### Logistic regression with expanded set of features."
   ]
  },
  {
   "cell_type": "code",
   "execution_count": 57,
   "id": "b870b5bc",
   "metadata": {},
   "outputs": [
    {
     "name": "stdout",
     "output_type": "stream",
     "text": [
      "micro 0.6827042720862713\n",
      "macro 0.4994540306883229\n",
      "              precision    recall  f1-score   support\n",
      "\n",
      "           0       0.74      0.69      0.71       590\n",
      "           1       0.84      0.88      0.86       136\n",
      "           2       0.49      0.58      0.53       432\n",
      "           3       0.77      0.70      0.73       763\n",
      "           4       0.84      0.84      0.84        89\n",
      "           5       0.62      0.62      0.62       352\n",
      "           6       0.58      0.86      0.69        49\n",
      "           7       0.00      0.00      0.00         0\n",
      "           8       0.00      0.00      0.00         0\n",
      "          10       0.00      0.00      0.00         0\n",
      "\n",
      "    accuracy                           0.68      2411\n",
      "   macro avg       0.49      0.52      0.50      2411\n",
      "weighted avg       0.69      0.68      0.69      2411\n",
      "\n"
     ]
    },
    {
     "data": {
      "image/png": "[encoded data removed]",
      "text/plain": [
       "<Figure size 640x480 with 2 Axes>"
      ]
     },
     "metadata": {},
     "output_type": "display_data"
    }
   ],
   "source": [
    "model = LogisticRegression(random_state=42)\n",
    "\n",
    "svt = RobustScaler()\n",
    "\n",
    "model.fit(svt.fit_transform(X_train),y_train)\n",
    "\n",
    "svtest = RobustScaler()\n",
    "\n",
    "y_pred = model.predict(svtest.fit_transform(X_test))\n",
    "\n",
    "print(\"micro\", f1_score(y_pred,y_test,average='micro'))\n",
    "print(\"macro\", f1_score(y_pred,y_test,average='macro'))\n",
    "print(classification_report(y_pred.ravel(),y_test.values.ravel()))\n",
    "\n",
    "gather_results[\"lr_expanded\"] = {\"micro f1\":f1_score(y_pred,y_test,average='micro'), \"macro\":f1_score(y_pred,y_test,average='macro')}\n",
    "\n",
    "gather_data[\"lr_expanded\"] = {\"X_train\":pd.DataFrame(svt.fit_transform(X_train),columns=X_train.columns),\"y_train\":y_train,\"X_test\":pd.DataFrame(svtest.fit_transform(X_test),columns=X_test.columns),\"y_test\":y_test,\"model\":model, \"y_pred\":y_pred}\n",
    "\n",
    "heatmap(y_test, y_pred)"
   ]
  },
  {
   "cell_type": "markdown",
   "id": "78bc2c8b",
   "metadata": {},
   "source": [
    "### RandomForestClassifier with expanded set of features."
   ]
  },
  {
   "cell_type": "code",
   "execution_count": 58,
   "id": "ad080350",
   "metadata": {},
   "outputs": [
    {
     "name": "stdout",
     "output_type": "stream",
     "text": [
      "micro 0.671505599336375\n",
      "macro 0.4759327677780262\n",
      "              precision    recall  f1-score   support\n",
      "\n",
      "           0       0.71      0.70      0.70       559\n",
      "           1       0.83      0.85      0.84       139\n",
      "           2       0.61      0.53      0.57       575\n",
      "           3       0.74      0.73      0.74       699\n",
      "           4       0.53      0.77      0.63        61\n",
      "           5       0.57      0.64      0.60       313\n",
      "           6       0.63      0.75      0.69        61\n",
      "           7       0.00      0.00      0.00         4\n",
      "           8       0.00      0.00      0.00         0\n",
      "          10       0.00      0.00      0.00         0\n",
      "\n",
      "    accuracy                           0.67      2411\n",
      "   macro avg       0.46      0.50      0.48      2411\n",
      "weighted avg       0.67      0.67      0.67      2411\n",
      "\n"
     ]
    },
    {
     "data": {
      "image/png": "[encoded data removed]",
      "text/plain": [
       "<Figure size 640x480 with 2 Axes>"
      ]
     },
     "metadata": {},
     "output_type": "display_data"
    }
   ],
   "source": [
    "model = RandomForestClassifier(random_state=42)\n",
    "\n",
    "model.fit(X_train,y_train)\n",
    "\n",
    "y_pred = model.predict(X_test)\n",
    "\n",
    "print(\"micro\", f1_score(y_pred, y_test.values.ravel(),average='micro'))\n",
    "print(\"macro\", f1_score(y_pred, y_test.values.ravel(),average='macro'))\n",
    "print(classification_report(y_pred.ravel(),y_test.values.ravel()))\n",
    "gather_results[\"rfr_expanded\"] = {\"micro f1\":f1_score(y_pred,y_test,average='micro'), \"macro\":f1_score(y_pred,y_test,average='macro')}\n",
    "\n",
    "gather_data[\"rfr_expanded\"] = {\"X_train\":X_train,\"y_train\":y_train,\"X_test\":X_test,\"y_test\":y_test,\"model\":model, \"y_pred\":y_pred}\n",
    "\n",
    "heatmap(y_test, y_pred)"
   ]
  },
  {
   "cell_type": "code",
   "execution_count": 59,
   "id": "0b4343b6",
   "metadata": {},
   "outputs": [
    {
     "data": {
      "text/plain": [
       "<Axes: title={'center': 'Learning Curve'}, xlabel='Training examples', ylabel='Score'>"
      ]
     },
     "execution_count": 59,
     "metadata": {},
     "output_type": "execute_result"
    },
    {
     "data": {
      "image/png": "[encoded data removed]",
      "text/plain": [
       "<Figure size 640x480 with 1 Axes>"
      ]
     },
     "metadata": {},
     "output_type": "display_data"
    }
   ],
   "source": [
    "md = RandomForestClassifier(random_state=42)\n",
    "tscv = TimeSeriesSplit(n_splits=3, test_size=round(0.1*len(X_train)))\n",
    "\n",
    "plot_learning_curve(md, X=X_train, y=y_train, scoring='f1_micro', cv=tscv, shuffle=False)\n"
   ]
  },
  {
   "cell_type": "markdown",
   "id": "46699ed6",
   "metadata": {},
   "source": [
    "##### it seems that with more training examples the model actually learns."
   ]
  },
  {
   "cell_type": "markdown",
   "id": "b722a8dd",
   "metadata": {},
   "source": [
    "### SVMClassifier with expanded set of features."
   ]
  },
  {
   "cell_type": "code",
   "execution_count": 60,
   "id": "a5b51ec4",
   "metadata": {},
   "outputs": [
    {
     "name": "stdout",
     "output_type": "stream",
     "text": [
      "micro 0.708834508502696\n",
      "macro 0.5167490929756532\n",
      "              precision    recall  f1-score   support\n",
      "\n",
      "           0       0.75      0.68      0.71       604\n",
      "           1       0.83      0.92      0.87       130\n",
      "           2       0.63      0.59      0.61       545\n",
      "           3       0.77      0.77      0.77       687\n",
      "           4       0.84      0.89      0.87        84\n",
      "           5       0.59      0.68      0.63       306\n",
      "           6       0.62      0.82      0.70        55\n",
      "           7       0.00      0.00      0.00         0\n",
      "           8       0.00      0.00      0.00         0\n",
      "          10       0.00      0.00      0.00         0\n",
      "\n",
      "    accuracy                           0.71      2411\n",
      "   macro avg       0.50      0.53      0.52      2411\n",
      "weighted avg       0.71      0.71      0.71      2411\n",
      "\n"
     ]
    },
    {
     "data": {
      "image/png": "[encoded data removed]",
      "text/plain": [
       "<Figure size 640x480 with 2 Axes>"
      ]
     },
     "metadata": {},
     "output_type": "display_data"
    }
   ],
   "source": [
    "# SVMs' need scaling before used.\n",
    "model = SVC(random_state=42)\n",
    "\n",
    "\n",
    "svt = RobustScaler()\n",
    "\n",
    "model.fit(svt.fit_transform(X_train),y_train)\n",
    "\n",
    "svtest = RobustScaler()\n",
    "\n",
    "y_pred = model.predict(svtest.fit_transform(X_test))\n",
    "\n",
    "print(\"micro\", f1_score(y_pred.ravel(),y_test.values.ravel(),average='micro'))\n",
    "print(\"macro\", f1_score(y_pred.ravel(),y_test.values.ravel(),average='macro'))\n",
    "print(classification_report(y_pred.ravel(),y_test.values.ravel()))\n",
    "gather_results[\"svm_expanded\"] = {\"micro f1\":f1_score(y_pred,y_test,average='micro'), \"macro\":f1_score(y_pred,y_test,average='macro')}\n",
    "\n",
    "gather_data[\"svm_expanded\"] = {\"X_train\":pd.DataFrame(svt.fit_transform(X_train),columns=X_train.columns),\"y_train\":y_train,\"X_test\":pd.DataFrame(svtest.fit_transform(X_test), columns=X_test.columns),\"y_test\":y_test,\"model\":model, \"y_pred\":y_pred}\n",
    "\n",
    "heatmap(y_test, y_pred)"
   ]
  },
  {
   "cell_type": "markdown",
   "id": "5afefb87",
   "metadata": {},
   "source": [
    "All of those models could use hyperparameter tuning by using GridSearchCV (with tscv since we have a timeseries). But i thought it would make more sense to produce more features in order to get more insights for the problem.\n",
    "\n",
    "The EDA process is more valuable whereas tuning could be fully automated and it is takes time."
   ]
  },
  {
   "cell_type": "markdown",
   "id": "8f71f2a9",
   "metadata": {},
   "source": [
    "We can expand our feature search a bit more by using Polynomial features (without the bias) and clustering of the features\n",
    "to give us an extra insight for data of our ships\n",
    "\n",
    "\n"
   ]
  },
  {
   "cell_type": "code",
   "execution_count": 61,
   "id": "7795e89e",
   "metadata": {},
   "outputs": [
    {
     "data": {
      "image/png": "[encoded data removed]",
      "text/plain": [
       "<Figure size 640x480 with 1 Axes>"
      ]
     },
     "metadata": {},
     "output_type": "display_data"
    }
   ],
   "source": [
    "# Create a list of inertia values for different k values\n",
    "inertias = []\n",
    "k_values = range(1, 11)\n",
    "for k in k_values:\n",
    "    kmeans = KMeans(n_clusters=k, random_state=42)\n",
    "    kmeans.fit(X_train)\n",
    "    inertias.append(kmeans.inertia_)\n",
    "\n",
    "# Plot the elbow graph\n",
    "plt.plot(k_values, inertias, '-o')\n",
    "plt.xlabel('Number of clusters (k)')\n",
    "plt.ylabel('Inertia')\n",
    "plt.title('Elbow Method for KMeans Clustering')\n",
    "plt.xticks(np.arange(1, 11))\n",
    "plt.show()"
   ]
  },
  {
   "cell_type": "markdown",
   "id": "e7a96bd9",
   "metadata": {},
   "source": [
    "as we can see from the plot the best number of clusters seems to be number 3 (it looks more like an elbow)."
   ]
  },
  {
   "cell_type": "code",
   "execution_count": 62,
   "id": "3856ce14",
   "metadata": {},
   "outputs": [
    {
     "name": "stdout",
     "output_type": "stream",
     "text": [
      "(9643, 63) (9643, 1)\n",
      "micro 0.6681874740771464\n",
      "macro 0.47526668983423265\n",
      "              precision    recall  f1-score   support\n",
      "\n",
      "           0       0.70      0.69      0.69       565\n",
      "           1       0.83      0.84      0.83       141\n",
      "           2       0.60      0.53      0.56       566\n",
      "           3       0.74      0.73      0.73       698\n",
      "           4       0.54      0.76      0.63        63\n",
      "           5       0.56      0.63      0.59       315\n",
      "           6       0.64      0.77      0.70        61\n",
      "           7       0.00      0.00      0.00         2\n",
      "           8       0.00      0.00      0.00         0\n",
      "          10       0.00      0.00      0.00         0\n",
      "\n",
      "    accuracy                           0.67      2411\n",
      "   macro avg       0.46      0.50      0.48      2411\n",
      "weighted avg       0.67      0.67      0.67      2411\n",
      "\n"
     ]
    }
   ],
   "source": [
    "print(X_train_main.shape,y_train_main.shape)\n",
    "\n",
    "kmeans = KMeans(n_clusters=3, random_state=42)\n",
    "res = kmeans.fit_predict(X_train)\n",
    "X_train[\"res\"] = res\n",
    "\n",
    "tmp1 = pd.get_dummies(X_train[\"res\"])\n",
    "tmp1 = tmp1.add_suffix(\"oh2\")\n",
    "\n",
    "X_train = pd.concat([X_train,tmp1],axis=1)\n",
    "del X_train[\"res\"]\n",
    "\n",
    "res = kmeans.predict(X_test)\n",
    "X_test[\"res\"] = res\n",
    "tmp2 = pd.get_dummies(X_test[\"res\"])\n",
    "tmp2 = tmp2.add_suffix(\"oh2\")\n",
    "X_test = pd.concat([X_test,tmp2],axis=1)\n",
    "del X_test[\"res\"]\n",
    "\n",
    "model = RandomForestClassifier(random_state=42)\n",
    "model.fit(X_train,y_train)\n",
    "\n",
    "y_pred = model.predict(X_test)\n",
    "\n",
    "print(\"micro\", f1_score(y_pred, y_test.values.ravel(),average='micro'))\n",
    "print(\"macro\", f1_score(y_pred, y_test.values.ravel(),average='macro'))\n",
    "print(classification_report(y_pred.ravel(),y_test.values.ravel()))\n",
    "gather_results[\"rfr_cluster\"] = {\"micro f1\":f1_score(y_pred,y_test,average='micro'), \"macro\":f1_score(y_pred,y_test,average='macro')}\n",
    "\n",
    "\n",
    "gather_data[\"rfr_cluster\"] = {\"X_train\":X_train,\"y_train\":y_train,\"X_test\":X_test,\"y_test\":y_test,\"model\":model, \"y_pred\":y_pred}\n"
   ]
  },
  {
   "cell_type": "markdown",
   "id": "1fdc2fbc",
   "metadata": {},
   "source": [
    "Same test for polynomial features. The polynomial features help in capturing non linear relationships.\n"
   ]
  },
  {
   "cell_type": "markdown",
   "id": "c06e8c0e",
   "metadata": {},
   "source": [
    "### add Polynomial features + one hot encoding features + clusters"
   ]
  },
  {
   "cell_type": "code",
   "execution_count": 63,
   "id": "3b0f896b",
   "metadata": {},
   "outputs": [
    {
     "name": "stdout",
     "output_type": "stream",
     "text": [
      "features used\n",
      "['no_trips',\n",
      " 'current_port',\n",
      " 'grt',\n",
      " 'teu',\n",
      " 'length',\n",
      " 'width',\n",
      " 'diff',\n",
      " 'ratio',\n",
      " 'size',\n",
      " 'different_terminals',\n",
      " 'foot_ratio',\n",
      " '0__HAMBURG',\n",
      " '0__LOS ANGELES',\n",
      " '10__HAMBURG',\n",
      " '1__HAMBURG',\n",
      " '1__LOS ANGELES',\n",
      " '2__HAMBURG',\n",
      " '2__LOS ANGELES',\n",
      " '3__HAMBURG',\n",
      " '3__LOS ANGELES',\n",
      " '4__HAMBURG',\n",
      " '4__LOS ANGELES',\n",
      " '5__HAMBURG',\n",
      " '5__LOS ANGELES',\n",
      " '6__HAMBURG',\n",
      " '6__LOS ANGELES',\n",
      " '7__HAMBURG',\n",
      " '7__LOS ANGELES',\n",
      " '8__HAMBURG',\n",
      " 'no history',\n",
      " '0__HAMBURGoh2',\n",
      " '0__LOS ANGELESoh2',\n",
      " '10__HAMBURGoh2',\n",
      " '1__HAMBURGoh2',\n",
      " '1__LOS ANGELESoh2',\n",
      " '2__HAMBURGoh2',\n",
      " '2__LOS ANGELESoh2',\n",
      " '3__HAMBURGoh2',\n",
      " '3__LOS ANGELESoh2',\n",
      " '4__HAMBURGoh2',\n",
      " '4__LOS ANGELESoh2',\n",
      " '5__HAMBURGoh2',\n",
      " '5__LOS ANGELESoh2',\n",
      " '6__HAMBURGoh2',\n",
      " '6__LOS ANGELESoh2',\n",
      " '7__HAMBURGoh2',\n",
      " '7__LOS ANGELESoh2',\n",
      " '8__HAMBURGoh2',\n",
      " 'no historyoh2',\n",
      " '0oh2',\n",
      " '1oh2',\n",
      " '2oh2']\n",
      "(9643, 118)\n",
      "micro 0.6752384902530071\n",
      "macro 0.47844390742156706\n",
      "              precision    recall  f1-score   support\n",
      "\n",
      "         0.0       0.69      0.70      0.69       548\n",
      "         1.0       0.82      0.86      0.84       136\n",
      "         2.0       0.64      0.54      0.59       601\n",
      "         3.0       0.75      0.73      0.74       702\n",
      "         4.0       0.53      0.78      0.63        60\n",
      "         5.0       0.56      0.66      0.60       301\n",
      "         6.0       0.64      0.75      0.69        63\n",
      "         7.0       0.00      0.00      0.00         0\n",
      "         8.0       0.00      0.00      0.00         0\n",
      "        10.0       0.00      0.00      0.00         0\n",
      "\n",
      "    accuracy                           0.68      2411\n",
      "   macro avg       0.46      0.50      0.48      2411\n",
      "weighted avg       0.68      0.68      0.68      2411\n",
      "\n"
     ]
    }
   ],
   "source": [
    "print(\"features used\")\n",
    "pprint(list(X_test.columns))\n",
    "degree = 2\n",
    "\n",
    "# Create a PolynomialFeatures object\n",
    "poly = PolynomialFeatures(degree, include_bias=False)\n",
    "\n",
    "# Fit and transform the training data\n",
    "X_train_poly = poly.fit_transform(X_train.loc[:, ft])\n",
    "\n",
    "X_train_poly = pd.concat([pd.DataFrame(X_train_poly).reset_index(drop=True),X_train.loc[:, extra_columns].reset_index(drop=True),tmp1.reset_index(drop=True)],axis=1)\n",
    "X_train_poly.columns = [f\"lala_{i}\" for i in list(X_train_poly.columns)]\n",
    "# Transform the test data using the same polynomial features\n",
    "X_test_poly = poly.transform(X_test.loc[:, ft])\n",
    "X_test_poly = pd.concat([pd.DataFrame(X_test_poly),X_test.loc[:, extra_columns].reset_index(drop=True),tmp2.reset_index(drop=True)],axis=1)\n",
    "X_test_poly.columns = X_train_poly.columns\n",
    "model = RandomForestClassifier(random_state=42)\n",
    "print(X_train_poly.shape)\n",
    "model.fit(X_train_poly,y_train.astype(float))\n",
    "\n",
    "y_pred = model.predict(X_test_poly)\n",
    "\n",
    "print(\"micro\", f1_score(y_pred, y_test.values.ravel(),average='micro'))\n",
    "print(\"macro\", f1_score(y_pred, y_test.values.ravel(),average='macro'))\n",
    "print(classification_report(y_pred.ravel(),y_test.values.ravel()))\n",
    "gather_results[\"rfr_poly_cluster_expanded\"] = {\"micro f1\":f1_score(y_pred,y_test,average='micro'), \"macro\":f1_score(y_pred,y_test,average='macro')}\n",
    "\n",
    "\n",
    "\n",
    "gather_data[\"rfr_poly_cluster_expanded\"] = {\"X_train\":X_train_poly,\"y_train\":y_train,\"X_test\":X_test_poly,\"y_test\":y_test,\"model\":model, \"y_pred\":y_pred}\n"
   ]
  },
  {
   "cell_type": "markdown",
   "id": "9f67d3ff",
   "metadata": {},
   "source": [
    "### add Polynomial features + one hot encoding features\n"
   ]
  },
  {
   "cell_type": "code",
   "execution_count": 64,
   "id": "2f0460cd",
   "metadata": {},
   "outputs": [
    {
     "name": "stdout",
     "output_type": "stream",
     "text": [
      "(9643, 115)\n",
      "micro 0.6756532559104106\n",
      "macro 0.4775936864409531\n",
      "              precision    recall  f1-score   support\n",
      "\n",
      "         0.0       0.69      0.73      0.71       516\n",
      "         1.0       0.82      0.87      0.84       135\n",
      "         2.0       0.64      0.54      0.59       603\n",
      "         3.0       0.75      0.71      0.73       729\n",
      "         4.0       0.51      0.78      0.61        58\n",
      "         5.0       0.57      0.65      0.61       310\n",
      "         6.0       0.63      0.77      0.69        60\n",
      "         7.0       0.00      0.00      0.00         0\n",
      "         8.0       0.00      0.00      0.00         0\n",
      "        10.0       0.00      0.00      0.00         0\n",
      "\n",
      "    accuracy                           0.68      2411\n",
      "   macro avg       0.46      0.50      0.48      2411\n",
      "weighted avg       0.68      0.68      0.68      2411\n",
      "\n"
     ]
    }
   ],
   "source": [
    "degree = 2\n",
    "\n",
    "# Create a PolynomialFeatures object\n",
    "poly = PolynomialFeatures(degree, include_bias=False)\n",
    "\n",
    "# Fit and transform the training data\n",
    "X_train_poly = poly.fit_transform(X_train.loc[:, ft])\n",
    "\n",
    "X_train_poly = pd.concat([pd.DataFrame(X_train_poly).reset_index(drop=True),X_train.loc[:, extra_columns].reset_index(drop=True)],axis=1)\n",
    "X_train_poly.columns = [f\"lala_{i}\" for i in list(X_train_poly.columns)]\n",
    "# Transform the test data using the same polynomial features\n",
    "X_test_poly = poly.transform(X_test.loc[:, ft])\n",
    "X_test_poly = pd.concat([pd.DataFrame(X_test_poly),X_test.loc[:, extra_columns].reset_index(drop=True)],axis=1)\n",
    "X_test_poly.columns = X_train_poly.columns\n",
    "model = RandomForestClassifier(random_state=42)\n",
    "print(X_train_poly.shape)\n",
    "model.fit(X_train_poly,y_train.astype(float))\n",
    "\n",
    "y_pred = model.predict(X_test_poly)\n",
    "\n",
    "print(\"micro\", f1_score(y_pred, y_test.values.ravel(),average='micro'))\n",
    "print(\"macro\", f1_score(y_pred, y_test.values.ravel(),average='macro'))\n",
    "print(classification_report(y_pred.ravel(),y_test.values.ravel()))\n",
    "gather_results[\"rfr_expanded_poly\"] = {\"micro f1\":f1_score(y_pred,y_test,average='micro'), \"macro\":f1_score(y_pred,y_test,average='macro')}\n",
    "\n",
    "gather_data[\"rfr_expanded_poly\"] = {\"X_train\":X_train_poly,\"y_train\":y_train,\"X_test\":X_test_poly,\"y_test\":y_test,\"model\":model, \"y_pred\":y_pred}\n"
   ]
  },
  {
   "cell_type": "markdown",
   "id": "0a5f0447",
   "metadata": {},
   "source": [
    "# Finally we can perform feature selection"
   ]
  },
  {
   "cell_type": "markdown",
   "id": "f0785d5b",
   "metadata": {},
   "source": [
    "Using backward and forward elimination we can get the best subset of features that we can use. The thing is this procedure is extremely computationally expensive and i didn't manage the get the result of those functions."
   ]
  },
  {
   "cell_type": "code",
   "execution_count": 65,
   "id": "e7eab843",
   "metadata": {},
   "outputs": [],
   "source": [
    "def backward_elimination(X, y, model, metric):\n",
    "    best_features = list(X.columns)\n",
    "    best_score = 0\n",
    "    \n",
    "    for k in tqdm(range(1, len(X.columns) + 1)):\n",
    "        for subset in combinations(X.columns, k):\n",
    "            model.fit(X.loc[:, list(subset)], y)\n",
    "            y_pred = model.predict(X[list(subset)])\n",
    "            score = metric(y, y_pred.ravel(), average='macro')\n",
    "            \n",
    "            if score > best_score:\n",
    "                best_score = score\n",
    "                best_features = list(subset)\n",
    "                \n",
    "    return best_features\n",
    "\n",
    "def forward_selection(X, y, model, metric):\n",
    "    best_features = []\n",
    "    best_score = 0\n",
    "    \n",
    "    for k in tqdm(range(1, len(X.columns) + 1)):\n",
    "        if k == 1:\n",
    "            candidate_features = list(X.columns)\n",
    "        else:\n",
    "            candidate_features = [f for f in X.columns if f not in best_features]\n",
    "        \n",
    "        for feature in candidate_features:\n",
    "            model.fit(X[best_features + [feature]], y)\n",
    "            y_pred = model.predict(X[best_features + [feature]])\n",
    "            score = metric(y, y_pred.ravel(), average='macro')\n",
    "            \n",
    "            if score > best_score:\n",
    "                best_score = score\n",
    "                best_features.append(feature)\n",
    "                \n",
    "    return best_features"
   ]
  },
  {
   "cell_type": "markdown",
   "id": "209b2f57",
   "metadata": {},
   "source": [
    "### the product theory has been verified that the historical data been extremely useful on the next prediction."
   ]
  },
  {
   "cell_type": "code",
   "execution_count": 66,
   "id": "22124084",
   "metadata": {},
   "outputs": [],
   "source": [
    "# put example of non timeseries data here."
   ]
  },
  {
   "cell_type": "code",
   "execution_count": 67,
   "id": "386ed0a1",
   "metadata": {},
   "outputs": [
    {
     "data": {
      "text/plain": [
       "Index(['last_port', 'last_terminal', 'last_terminal_doc_timestamp',\n",
       "       'current_port', 'current_terminal', 'shipname', 'doc_timestamp', 'grt',\n",
       "       'teu', 'length', 'width', 'diff', 'ratio', 'foot_ratio', 'size',\n",
       "       'id_on_port'],\n",
       "      dtype='object')"
      ]
     },
     "execution_count": 67,
     "metadata": {},
     "output_type": "execute_result"
    }
   ],
   "source": [
    "raw_data.columns"
   ]
  },
  {
   "cell_type": "code",
   "execution_count": 68,
   "id": "7324203e",
   "metadata": {},
   "outputs": [
    {
     "data": {
      "text/html": [
       "<div>\n",
       "<style scoped>\n",
       "    .dataframe tbody tr th:only-of-type {\n",
       "        vertical-align: middle;\n",
       "    }\n",
       "\n",
       "    .dataframe tbody tr th {\n",
       "        vertical-align: top;\n",
       "    }\n",
       "\n",
       "    .dataframe thead th {\n",
       "        text-align: right;\n",
       "    }\n",
       "</style>\n",
       "<table border=\"1\" class=\"dataframe\">\n",
       "  <thead>\n",
       "    <tr style=\"text-align: right;\">\n",
       "      <th></th>\n",
       "      <th>last_port</th>\n",
       "      <th>last_terminal</th>\n",
       "      <th>last_terminal_doc_timestamp</th>\n",
       "      <th>current_port</th>\n",
       "      <th>current_terminal</th>\n",
       "      <th>shipname</th>\n",
       "      <th>doc_timestamp</th>\n",
       "      <th>grt</th>\n",
       "      <th>teu</th>\n",
       "      <th>length</th>\n",
       "      <th>width</th>\n",
       "      <th>diff</th>\n",
       "      <th>ratio</th>\n",
       "      <th>foot_ratio</th>\n",
       "      <th>size</th>\n",
       "      <th>id_on_port</th>\n",
       "    </tr>\n",
       "  </thead>\n",
       "  <tbody>\n",
       "    <tr>\n",
       "      <th>0</th>\n",
       "      <td>BREMERHAVEN</td>\n",
       "      <td>North Sea Terminal</td>\n",
       "      <td>2020-01-02 16:12:00</td>\n",
       "      <td>HAMBURG</td>\n",
       "      <td>Eurogate Container Terminal Hamburg</td>\n",
       "      <td>HEINRICH EHLER</td>\n",
       "      <td>2020-01-03 06:20:00</td>\n",
       "      <td>17488</td>\n",
       "      <td>1421</td>\n",
       "      <td>168.11</td>\n",
       "      <td>26.80</td>\n",
       "      <td>50880</td>\n",
       "      <td>3.881609</td>\n",
       "      <td>0.315403</td>\n",
       "      <td>4505.348</td>\n",
       "      <td>0</td>\n",
       "    </tr>\n",
       "    <tr>\n",
       "      <th>1</th>\n",
       "      <td>TILBURY</td>\n",
       "      <td>London Container Terminal</td>\n",
       "      <td>2020-01-01 21:56:00</td>\n",
       "      <td>HAMBURG</td>\n",
       "      <td>C. Steinweg Multipurpose Terminal</td>\n",
       "      <td>HENNEKE RAMBOW</td>\n",
       "      <td>2020-01-03 07:45:00</td>\n",
       "      <td>9981</td>\n",
       "      <td>868</td>\n",
       "      <td>134.40</td>\n",
       "      <td>22.74</td>\n",
       "      <td>35340</td>\n",
       "      <td>3.265760</td>\n",
       "      <td>0.284008</td>\n",
       "      <td>3056.256</td>\n",
       "      <td>1</td>\n",
       "    </tr>\n",
       "  </tbody>\n",
       "</table>\n",
       "</div>"
      ],
      "text/plain": [
       "     last_port              last_terminal last_terminal_doc_timestamp  \\\n",
       "0  BREMERHAVEN         North Sea Terminal         2020-01-02 16:12:00   \n",
       "1      TILBURY  London Container Terminal         2020-01-01 21:56:00   \n",
       "\n",
       "  current_port                     current_terminal        shipname  \\\n",
       "0      HAMBURG  Eurogate Container Terminal Hamburg  HEINRICH EHLER   \n",
       "1      HAMBURG    C. Steinweg Multipurpose Terminal  HENNEKE RAMBOW   \n",
       "\n",
       "        doc_timestamp    grt   teu  length  width   diff     ratio  \\\n",
       "0 2020-01-03 06:20:00  17488  1421  168.11  26.80  50880  3.881609   \n",
       "1 2020-01-03 07:45:00   9981   868  134.40  22.74  35340  3.265760   \n",
       "\n",
       "   foot_ratio      size  id_on_port  \n",
       "0    0.315403  4505.348           0  \n",
       "1    0.284008  3056.256           1  "
      ]
     },
     "execution_count": 68,
     "metadata": {},
     "output_type": "execute_result"
    }
   ],
   "source": [
    "raw_data.head(2)"
   ]
  },
  {
   "cell_type": "code",
   "execution_count": 69,
   "id": "449f1e42",
   "metadata": {},
   "outputs": [
    {
     "name": "stdout",
     "output_type": "stream",
     "text": [
      "micro f1 0.5897967648278722\n",
      "macro f1 0.47093253429270754\n"
     ]
    }
   ],
   "source": [
    "raw_data[\"concat\"] = raw_data[\"current_port\"] + raw_data[\"current_terminal\"]\n",
    "\n",
    "X = restructure.loc[:, [\"grt\",\"teu\",\"length\", \"width\", \"diff\", \"ratio\"]].copy()\n",
    "Y = restructure.loc[:, [\"concat\"]].copy()\n",
    "\n",
    "encoder = LabelEncoder()\n",
    "Y = encoder.fit_transform(Y)\n",
    "\n",
    "X_train, X_test, y_train, y_test = train_test_split(X, Y, test_size=0.2, random_state=42)\n",
    "\n",
    "model = RandomForestClassifier(random_state=42)\n",
    "model.fit(X_train,y_train)\n",
    "y_pred = model.predict(X_test)\n",
    "print(\"micro f1\",f1_score(y_test, y_pred, average=\"micro\"))\n",
    "print(\"macro f1\",f1_score(y_test, y_pred, average=\"macro\"))"
   ]
  },
  {
   "cell_type": "code",
   "execution_count": 70,
   "id": "0485c8c7",
   "metadata": {},
   "outputs": [],
   "source": [
    "# keep the indices and compare with previous baseline"
   ]
  },
  {
   "cell_type": "code",
   "execution_count": 71,
   "id": "e1a3fede",
   "metadata": {},
   "outputs": [
    {
     "name": "stdout",
     "output_type": "stream",
     "text": [
      "micro f1 0.6163417669017005\n",
      "macro f1 0.5372598718561064\n"
     ]
    }
   ],
   "source": [
    "restructure = restructure.loc[restructure.index.isin(X_test.index), :]\n",
    "print(\"micro f1\", f1_score(restructure[\"concat_s\"],restructure[\"concat\"],average='micro' ))\n",
    "print(\"macro f1\",f1_score(restructure[\"concat_s\"], restructure[\"concat\"],average='macro' ))\n"
   ]
  },
  {
   "cell_type": "code",
   "execution_count": 72,
   "id": "7258e852",
   "metadata": {},
   "outputs": [
    {
     "data": {
      "text/plain": [
       "((2411, 6), (2411, 18))"
      ]
     },
     "execution_count": 72,
     "metadata": {},
     "output_type": "execute_result"
    }
   ],
   "source": [
    "X_test.shape, restructure.shape"
   ]
  },
  {
   "cell_type": "code",
   "execution_count": 73,
   "id": "b9b35888",
   "metadata": {},
   "outputs": [
    {
     "name": "stdout",
     "output_type": "stream",
     "text": [
      "                precision    recall  f1-score   support\n",
      "\n",
      "    0__HAMBURG       0.62      0.71      0.67       466\n",
      "0__LOS ANGELES       0.73      0.92      0.81        72\n",
      "    1__HAMBURG       0.78      0.91      0.84        46\n",
      "1__LOS ANGELES       0.68      0.90      0.78        72\n",
      "    2__HAMBURG       0.52      0.56      0.54       420\n",
      "2__LOS ANGELES       0.71      0.97      0.82        31\n",
      "    3__HAMBURG       0.64      0.69      0.66       509\n",
      "3__LOS ANGELES       0.83      0.99      0.90        81\n",
      "    4__HAMBURG       0.87      0.90      0.89        30\n",
      "4__LOS ANGELES       0.64      0.94      0.76        36\n",
      "    5__HAMBURG       0.51      0.60      0.55       219\n",
      "5__LOS ANGELES       0.69      0.82      0.75        66\n",
      "    6__HAMBURG       0.00      0.00      0.00         6\n",
      "6__LOS ANGELES       0.60      0.81      0.69        43\n",
      "    7__HAMBURG       0.00      0.00      0.00        12\n",
      "    8__HAMBURG       0.00      0.00      0.00         2\n",
      "    9__HAMBURG       0.00      0.00      0.00         0\n",
      "    no history       0.00      0.00      0.00       300\n",
      "\n",
      "      accuracy                           0.62      2411\n",
      "     macro avg       0.49      0.60      0.54      2411\n",
      "  weighted avg       0.54      0.62      0.57      2411\n",
      "\n"
     ]
    }
   ],
   "source": [
    "print(classification_report(restructure[\"concat_s\"], restructure[\"concat\"]))"
   ]
  },
  {
   "cell_type": "markdown",
   "id": "15c4795d",
   "metadata": {},
   "source": [
    "# labels distribution (full dataset)"
   ]
  },
  {
   "cell_type": "markdown",
   "id": "b2a1b050",
   "metadata": {},
   "source": [
    "0. (1, '10HAMBURG')\n",
    "1. (1, '7LOS ANGELES')\n",
    "2. (1, '9HAMBURG')\n",
    "3. (9, '8HAMBURG')\n",
    "4. (28, '7HAMBURG')\n",
    "5. (40, '6HAMBURG')\n",
    "6. (157, '4HAMBURG')\n",
    "7. (225, '2LOS ANGELES')\n",
    "8. (266, '1HAMBURG')\n",
    "9. (271, '4LOS ANGELES')\n",
    "10. (323, '6LOS ANGELES')\n",
    "11. (355, '5LOS ANGELES')\n",
    "12. (469, '3LOS ANGELES')\n",
    "13. (485, '1LOS ANGELES')\n",
    "14. (514, '0LOS ANGELES')\n",
    "15. (1183, '5HAMBURG')\n",
    "16. (2313, '2HAMBURG')\n",
    "17. (2574, '0HAMBURG')\n",
    "18. (2839, '3HAMBURG')"
   ]
  },
  {
   "cell_type": "markdown",
   "id": "5b324358",
   "metadata": {},
   "source": [
    "### check with  19 labels on best performing models"
   ]
  },
  {
   "cell_type": "code",
   "execution_count": 74,
   "id": "6126c629",
   "metadata": {},
   "outputs": [
    {
     "name": "stdout",
     "output_type": "stream",
     "text": [
      "macro 0.609344035011276\n",
      "micro 0.7080049771878888\n",
      "              precision    recall  f1-score   support\n",
      "\n",
      "           0       0.72      0.67      0.70       481\n",
      "           1       0.84      0.72      0.78       119\n",
      "           2       0.00      0.00      0.00         0\n",
      "           3       0.88      0.88      0.88        42\n",
      "           4       0.82      0.92      0.87        90\n",
      "           5       0.62      0.56      0.59       514\n",
      "           6       0.86      0.91      0.89        35\n",
      "           7       0.74      0.74      0.74       602\n",
      "           8       0.95      0.98      0.96        83\n",
      "           9       0.89      0.97      0.93        32\n",
      "          10       0.81      0.86      0.84        51\n",
      "          11       0.52      0.64      0.58       234\n",
      "          12       0.85      0.83      0.84        70\n",
      "          13       0.00      0.00      0.00         0\n",
      "          14       0.76      0.78      0.77        58\n",
      "          15       0.00      0.00      0.00         0\n",
      "          17       0.00      0.00      0.00         0\n",
      "\n",
      "    accuracy                           0.71      2411\n",
      "   macro avg       0.60      0.62      0.61      2411\n",
      "weighted avg       0.72      0.71      0.71      2411\n",
      "\n"
     ]
    },
    {
     "data": {
      "image/png": "[encoded data removed]",
      "text/plain": [
       "<Figure size 640x480 with 2 Axes>"
      ]
     },
     "metadata": {},
     "output_type": "display_data"
    }
   ],
   "source": [
    "model = gather_data[\"svm_expanded\"][\"model\"]\n",
    "\n",
    "X_train = gather_data[\"svm_expanded\"][\"X_train\"]\n",
    "X_test = gather_data[\"svm_expanded\"][\"X_test\"]\n",
    "\n",
    "y_train = X_train_main.loc[:,\"parallel\"]\n",
    "y_test = X_test_main.loc[:,\"parallel\"]\n",
    "\n",
    "model.fit(X_train,y_train)\n",
    "\n",
    "y_pred = model.predict(X_test)\n",
    "\n",
    "print(\"macro\", f1_score(y_pred, y_test.values.ravel(),average='macro'))\n",
    "print(\"micro\", f1_score(y_pred, y_test.values.ravel(),average='micro'))\n",
    "\n",
    "gather_results[\"svm_19_labels\"] = {\"micro f1\":f1_score(y_pred,y_test,average='micro'), \"macro\":f1_score(y_pred,y_test,average='macro')}\n",
    "\n",
    "gather_data[\"svm_19_labels\"] = {\"X_train\":X_train,\"y_train\":y_train,\"X_test\":X_test,\"y_test\":y_test,\"model\":model, \"y_pred\":y_pred}\n",
    "\n",
    "\n",
    "print(classification_report(y_pred.ravel(),y_test.values.ravel()))\n",
    "\n",
    "heatmap(y_test, y_pred, 19)"
   ]
  },
  {
   "cell_type": "code",
   "execution_count": 75,
   "id": "0d80bdfc",
   "metadata": {},
   "outputs": [
    {
     "name": "stdout",
     "output_type": "stream",
     "text": [
      "11\n"
     ]
    },
    {
     "name": "stderr",
     "output_type": "stream",
     "text": [
      "100%|█████████████████████████████████████████████████████████████████████████████████| 11/11 [59:14<00:00, 323.17s/it]\n"
     ]
    },
    {
     "name": "stdout",
     "output_type": "stream",
     "text": [
      "Best features using backward elimination: ['no_trips', 'grt', 'diff']\n"
     ]
    },
    {
     "name": "stderr",
     "output_type": "stream",
     "text": [
      "100%|██████████████████████████████████████████████████████████████████████████████████| 11/11 [02:13<00:00, 12.14s/it]"
     ]
    },
    {
     "name": "stdout",
     "output_type": "stream",
     "text": [
      "Best features using forward selection: ['no_trips', 'current_port', 'grt', 'teu', 'length', 'width', 'diff']\n"
     ]
    },
    {
     "name": "stderr",
     "output_type": "stream",
     "text": [
      "\n"
     ]
    }
   ],
   "source": [
    "print(len(ft))\n",
    "sc = RobustScaler()\n",
    "X = X_train_main.loc[:, ft].copy().copy()\n",
    "X = sc.fit_transform(X)\n",
    "X = pd.DataFrame(X, columns=ft)\n",
    "X = X.loc[:, ft]\n",
    "y = X_train_main.loc[:, \"parallel\"].copy().copy()\n",
    "\n",
    "predictor = RandomForestClassifier(random_state=42)\n",
    "backward_best_features = backward_elimination(X, y, predictor, f1_score)\n",
    "print(\"Best features using backward elimination:\", backward_best_features)\n",
    "\n",
    "forward_best_features = forward_selection(X, y, predictor, f1_score)\n",
    "print(\"Best features using forward selection:\", forward_best_features)"
   ]
  },
  {
   "cell_type": "code",
   "execution_count": 76,
   "id": "33c7dc13",
   "metadata": {},
   "outputs": [
    {
     "name": "stdout",
     "output_type": "stream",
     "text": [
      "macro 0.5979208214124606\n",
      "micro 0.6843633347158855\n",
      "              precision    recall  f1-score   support\n",
      "\n",
      "           0       0.59      0.68      0.63       472\n",
      "           1       0.01      0.02      0.02       111\n",
      "           2       0.00      0.00      0.00         0\n",
      "           3       0.00      0.05      0.01        43\n",
      "           4       0.00      0.00      0.00        89\n",
      "           5       0.14      0.13      0.13       393\n",
      "           6       0.03      0.04      0.03        45\n",
      "           7       0.25      0.00      0.00       683\n",
      "           8       0.00      0.00      0.00        83\n",
      "           9       0.00      0.00      0.00        33\n",
      "          10       0.00      0.00      0.00        57\n",
      "          11       0.00      0.00      0.00       281\n",
      "          12       0.00      0.00      0.00        70\n",
      "          14       0.00      0.00      0.00        51\n",
      "\n",
      "    accuracy                           0.16      2411\n",
      "   macro avg       0.07      0.07      0.06      2411\n",
      "weighted avg       0.21      0.16      0.15      2411\n",
      "\n"
     ]
    },
    {
     "data": {
      "image/png": "[encoded data removed]",
      "text/plain": [
       "<Figure size 640x480 with 2 Axes>"
      ]
     },
     "metadata": {},
     "output_type": "display_data"
    }
   ],
   "source": [
    "model = gather_data[\"lr_expanded\"][\"model\"]\n",
    "\n",
    "X_train = gather_data[\"lr_expanded\"][\"X_train\"]\n",
    "X_test = gather_data[\"lr_expanded\"][\"X_test\"]\n",
    "\n",
    "y_train = X_train_main.loc[:,\"parallel\"]\n",
    "y_test = X_test_main.loc[:,\"parallel\"]\n",
    "\n",
    "model.fit(X_train,y_train)\n",
    "\n",
    "y_pred = model.predict(X_test)\n",
    "\n",
    "print(\"macro\", f1_score(y_pred, y_test.values.ravel(),average='macro'))\n",
    "print(\"micro\", f1_score(y_pred, y_test.values.ravel(),average='micro'))\n",
    "\n",
    "gather_results[\"lr_expanded_19_labels\"] = {\"micro f1\":f1_score(y_pred,y_test,average='micro'), \"macro\":f1_score(y_pred,y_test,average='macro')}\n",
    "\n",
    "print(classification_report(y_pred.ravel(),y_test_main.values.ravel()))\n",
    "\n",
    "\n",
    "gather_data[\"lr_expanded_19_labels\"] = {\"X_train\":X_train,\"y_train\":y_train,\"X_test\":X_test,\"y_test\":y_test,\"model\":model, \"y_pred\":y_pred}\n",
    "\n",
    "heatmap(y_test, y_pred, 19)"
   ]
  },
  {
   "cell_type": "code",
   "execution_count": 77,
   "id": "e0995495",
   "metadata": {},
   "outputs": [
    {
     "name": "stdout",
     "output_type": "stream",
     "text": [
      "macro 0.5515216259407129\n",
      "micro 0.6731646619659892\n",
      "              precision    recall  f1-score   support\n",
      "\n",
      "           0       0.54      0.66      0.60       452\n",
      "           1       0.01      0.02      0.02        96\n",
      "           2       0.00      0.00      0.00         0\n",
      "           3       0.00      0.06      0.01        47\n",
      "           4       0.00      0.00      0.00        92\n",
      "           5       0.21      0.13      0.16       575\n",
      "           6       0.03      0.05      0.04        37\n",
      "           7       0.25      0.00      0.00       616\n",
      "           8       0.00      0.00      0.00        86\n",
      "           9       0.00      0.00      0.00         5\n",
      "          10       0.00      0.00      0.00        59\n",
      "          11       0.00      0.00      0.00       208\n",
      "          12       0.00      0.00      0.00        77\n",
      "          13       0.00      0.00      0.00         1\n",
      "          14       0.00      0.00      0.00        59\n",
      "          15       0.00      0.00      0.00         1\n",
      "\n",
      "    accuracy                           0.16      2411\n",
      "   macro avg       0.07      0.06      0.05      2411\n",
      "weighted avg       0.22      0.16      0.15      2411\n",
      "\n"
     ]
    },
    {
     "data": {
      "image/png": "[encoded data removed]",
      "text/plain": [
       "<Figure size 640x480 with 2 Axes>"
      ]
     },
     "metadata": {},
     "output_type": "display_data"
    }
   ],
   "source": [
    "model = gather_data[\"rfr_poly_cluster_expanded\"][\"model\"]\n",
    "\n",
    "X_train = gather_data[\"rfr_poly_cluster_expanded\"][\"X_train\"]\n",
    "X_test = gather_data[\"rfr_poly_cluster_expanded\"][\"X_test\"]\n",
    "\n",
    "y_train = X_train_main.loc[:,\"parallel\"]\n",
    "y_test = X_test_main.loc[:,\"parallel\"]\n",
    "\n",
    "model.fit(X_train,y_train)\n",
    "\n",
    "y_pred = model.predict(X_test)\n",
    "\n",
    "print(\"macro\", f1_score(y_pred, y_test.values.ravel(),average='macro'))\n",
    "print(\"micro\", f1_score(y_pred, y_test.values.ravel(),average='micro'))\n",
    "\n",
    "gather_results[\"rfr_poly_cluster_expanded_19_labels\"] = {\"micro f1\":f1_score(y_pred,y_test,average='micro'), \"macro\":f1_score(y_pred,y_test,average='macro')}\n",
    "\n",
    "print(classification_report(y_pred.ravel(),y_test_main.values.ravel()))\n",
    "\n",
    "gather_data[\"rfr_poly_cluster_expanded_19_labels\"] = {\"X_train\":X_train,\"y_train\":y_train,\"X_test\":X_test,\"y_test\":y_test,\"model\":model, \"y_pred\":y_pred}\n",
    "\n",
    "heatmap(y_test, y_pred, 19)"
   ]
  },
  {
   "cell_type": "markdown",
   "id": "06639659",
   "metadata": {},
   "source": [
    "##### best model so far"
   ]
  },
  {
   "cell_type": "code",
   "execution_count": 78,
   "id": "ec109500",
   "metadata": {},
   "outputs": [],
   "source": [
    "best_model = pd.DataFrame.from_dict(gather_results).T.sort_values(by=\"macro\",ascending=False).index[0]"
   ]
  },
  {
   "cell_type": "code",
   "execution_count": 79,
   "id": "6832a11f",
   "metadata": {},
   "outputs": [
    {
     "name": "stdout",
     "output_type": "stream",
     "text": [
      "svm_19_labels is the best model so far\n"
     ]
    }
   ],
   "source": [
    "print(f\"{best_model} is the best model so far\")"
   ]
  },
  {
   "cell_type": "code",
   "execution_count": 80,
   "id": "8453e266",
   "metadata": {},
   "outputs": [
    {
     "name": "stdout",
     "output_type": "stream",
     "text": [
      "micro 0.7092492741600995\n",
      "macro 0.6096462780949949\n",
      "              precision    recall  f1-score   support\n",
      "\n",
      "           0       0.58      0.67      0.62       476\n",
      "           1       0.03      0.03      0.03       118\n",
      "           2       0.00      0.00      0.00         0\n",
      "           3       0.00      0.02      0.00        42\n",
      "           4       0.00      0.00      0.00        90\n",
      "           5       0.18      0.12      0.15       507\n",
      "           6       0.03      0.06      0.04        35\n",
      "           7       0.00      0.00      0.00       603\n",
      "           8       0.00      0.00      0.00        83\n",
      "           9       0.00      0.00      0.00        32\n",
      "          10       0.00      0.00      0.00        51\n",
      "          11       0.00      0.00      0.00       245\n",
      "          12       0.00      0.00      0.00        70\n",
      "          14       0.00      0.00      0.00        59\n",
      "\n",
      "    accuracy                           0.16      2411\n",
      "   macro avg       0.06      0.07      0.06      2411\n",
      "weighted avg       0.15      0.16      0.16      2411\n",
      "\n"
     ]
    }
   ],
   "source": [
    "model = gather_data[best_model][\"model\"]\n",
    "\n",
    "X_train = gather_data[best_model][\"X_train\"].loc[:, backward_best_features+expanded_cols]\n",
    "X_test = gather_data[best_model][\"X_test\"].loc[:, backward_best_features+expanded_cols]\n",
    "y_train = gather_data[best_model][\"y_train\"]\n",
    "y_test = gather_data[best_model][\"y_test\"]\n",
    "model.fit(X_train,y_train)\n",
    "\n",
    "y_pred = model.predict(X_test)\n",
    "\n",
    "print(\"micro\", f1_score(y_pred, y_test.values.ravel(),average='micro'))\n",
    "print(\"macro\", f1_score(y_pred, y_test.values.ravel(),average='macro'))\n",
    "print(classification_report(y_pred.ravel(),y_test_main.values.ravel()))"
   ]
  },
  {
   "cell_type": "code",
   "execution_count": 81,
   "id": "2521bcf1",
   "metadata": {},
   "outputs": [
    {
     "data": {
      "text/plain": [
       "((2411, 3), (2411, 56))"
      ]
     },
     "execution_count": 81,
     "metadata": {},
     "output_type": "execute_result"
    }
   ],
   "source": [
    "tmp2.shape, gather_data[best_model][\"X_test\"].loc[:, forward_best_features+expanded_cols].shape"
   ]
  },
  {
   "cell_type": "markdown",
   "id": "509e9c4c",
   "metadata": {},
   "source": [
    "best model with expanded cols (one hot vectors)"
   ]
  },
  {
   "cell_type": "code",
   "execution_count": 82,
   "id": "8cb2c4a6",
   "metadata": {},
   "outputs": [
    {
     "name": "stdout",
     "output_type": "stream",
     "text": [
      "micro 0.7109083367897138\n",
      "macro 0.6101265862596348\n",
      "              precision    recall  f1-score   support\n",
      "\n",
      "           0       0.71      0.68      0.69       475\n",
      "           1       0.80      0.79      0.80       104\n",
      "           2       0.00      0.00      0.00         0\n",
      "           3       0.88      0.88      0.88        42\n",
      "           4       0.81      0.92      0.86        89\n",
      "           5       0.62      0.58      0.60       502\n",
      "           6       0.86      0.86      0.86        37\n",
      "           7       0.74      0.74      0.74       602\n",
      "           8       0.95      0.99      0.97        82\n",
      "           9       0.89      0.97      0.93        32\n",
      "          10       0.81      0.86      0.84        51\n",
      "          11       0.55      0.62      0.58       252\n",
      "          12       0.85      0.83      0.84        70\n",
      "          13       0.00      0.00      0.00         0\n",
      "          14       0.86      0.70      0.77        73\n",
      "          15       0.00      0.00      0.00         0\n",
      "          17       0.00      0.00      0.00         0\n",
      "\n",
      "    accuracy                           0.71      2411\n",
      "   macro avg       0.61      0.61      0.61      2411\n",
      "weighted avg       0.72      0.71      0.71      2411\n",
      "\n"
     ]
    }
   ],
   "source": [
    "model = gather_data[best_model][\"model\"]\n",
    "\n",
    "X_train = gather_data[best_model][\"X_train\"].loc[:, forward_best_features+expanded_cols]\n",
    "X_train = pd.concat([X_train, tmp1],axis=1)\n",
    "X_test = gather_data[best_model][\"X_test\"].loc[:, forward_best_features+expanded_cols]\n",
    "X_test = pd.concat([X_test.reset_index(drop=True), tmp2.reset_index(drop=True)],axis=1)\n",
    "y_train = gather_data[best_model][\"y_train\"]\n",
    "y_test = gather_data[best_model][\"y_test\"]\n",
    "model.fit(X_train,y_train)\n",
    "\n",
    "y_pred = model.predict(X_test)\n",
    "\n",
    "print(\"micro\", f1_score(y_pred, y_test.values.ravel(),average='micro'))\n",
    "print(\"macro\", f1_score(y_pred, y_test.values.ravel(),average='macro'))\n",
    "print(classification_report(y_pred.ravel(),y_test.values.ravel()))"
   ]
  },
  {
   "cell_type": "markdown",
   "id": "07eb4bd3",
   "metadata": {},
   "source": [
    "best model + clusters"
   ]
  },
  {
   "cell_type": "code",
   "execution_count": 83,
   "id": "1cc57252",
   "metadata": {},
   "outputs": [
    {
     "name": "stdout",
     "output_type": "stream",
     "text": [
      "micro 0.7096640398175031\n",
      "macro 0.6106284712266918\n",
      "              precision    recall  f1-score   support\n",
      "\n",
      "           0       0.71      0.68      0.69       474\n",
      "           1       0.80      0.80      0.80       103\n",
      "           2       0.00      0.00      0.00         0\n",
      "           3       0.88      0.88      0.88        42\n",
      "           4       0.81      0.93      0.87        88\n",
      "           5       0.62      0.57      0.60       503\n",
      "           6       0.86      0.89      0.88        36\n",
      "           7       0.74      0.74      0.74       603\n",
      "           8       0.95      0.99      0.97        82\n",
      "           9       0.89      0.97      0.93        32\n",
      "          10       0.81      0.86      0.84        51\n",
      "          11       0.55      0.62      0.58       251\n",
      "          12       0.85      0.83      0.84        70\n",
      "          13       0.00      0.00      0.00         0\n",
      "          14       0.88      0.68      0.77        76\n",
      "          15       0.00      0.00      0.00         0\n",
      "          17       0.00      0.00      0.00         0\n",
      "\n",
      "    accuracy                           0.71      2411\n",
      "   macro avg       0.61      0.61      0.61      2411\n",
      "weighted avg       0.72      0.71      0.71      2411\n",
      "\n"
     ]
    }
   ],
   "source": [
    "model = gather_data[best_model][\"model\"]\n",
    "\n",
    "X_train = gather_data[best_model][\"X_train\"].loc[:, backward_best_features+expanded_cols]\n",
    "X_train = pd.concat([X_train, tmp1],axis=1)\n",
    "X_test = gather_data[best_model][\"X_test\"].loc[:, backward_best_features+expanded_cols]\n",
    "X_test = pd.concat([X_test.reset_index(drop=True), tmp2.reset_index(drop=True)],axis=1)\n",
    "y_train = gather_data[best_model][\"y_train\"]\n",
    "y_test = gather_data[best_model][\"y_test\"]\n",
    "model.fit(X_train,y_train)\n",
    "\n",
    "y_pred = model.predict(X_test)\n",
    "\n",
    "print(\"micro\", f1_score(y_pred, y_test.values.ravel(),average='micro'))\n",
    "print(\"macro\", f1_score(y_pred, y_test.values.ravel(),average='macro'))\n",
    "print(classification_report(y_pred.ravel(),y_test.values.ravel()))"
   ]
  },
  {
   "cell_type": "code",
   "execution_count": 84,
   "id": "0f1108cd",
   "metadata": {},
   "outputs": [
    {
     "name": "stdout",
     "output_type": "stream",
     "text": [
      "700 were missclassified but it wasn't due to the final number of categories max(port_HAM,port_LA)\n"
     ]
    }
   ],
   "source": [
    "to_compare = pd.DataFrame()\n",
    "to_compare['id_on_port'] = pd.DataFrame(y_test)\n",
    "to_compare[\"predictions\"] = y_pred.tolist()\n",
    "wrong_preds = to_compare.loc[to_compare[\"id_on_port\"]!=to_compare[\"predictions\"],:].index\n",
    "to_compare[\"current_port\"] = X_test_main.loc[X_test_main.index.isin(wrong_preds),[\"current_port\"]]\n",
    "to_compare[\"current_terminal\"] = X_test_main.loc[X_test_main.index.isin(wrong_preds),[\"concat\"]]\n",
    "\n",
    "to_compare = to_compare.dropna()\n",
    "print(f\"{to_compare.shape[0]} were missclassified but it wasn't due to the final number of categories max(port_HAM,port_LA)\")"
   ]
  },
  {
   "cell_type": "markdown",
   "id": "d74dc763",
   "metadata": {},
   "source": [
    "Hamburg is 0 LA is 1"
   ]
  },
  {
   "cell_type": "code",
   "execution_count": 85,
   "id": "14e8b383",
   "metadata": {},
   "outputs": [
    {
     "data": {
      "text/html": [
       "<div>\n",
       "<style scoped>\n",
       "    .dataframe tbody tr th:only-of-type {\n",
       "        vertical-align: middle;\n",
       "    }\n",
       "\n",
       "    .dataframe tbody tr th {\n",
       "        vertical-align: top;\n",
       "    }\n",
       "\n",
       "    .dataframe thead th {\n",
       "        text-align: right;\n",
       "    }\n",
       "</style>\n",
       "<table border=\"1\" class=\"dataframe\">\n",
       "  <thead>\n",
       "    <tr style=\"text-align: right;\">\n",
       "      <th></th>\n",
       "      <th>id_on_port</th>\n",
       "      <th>predictions</th>\n",
       "      <th>current_port</th>\n",
       "      <th>current_terminal</th>\n",
       "    </tr>\n",
       "  </thead>\n",
       "  <tbody>\n",
       "    <tr>\n",
       "      <th>9646</th>\n",
       "      <td>0</td>\n",
       "      <td>5</td>\n",
       "      <td>0.0</td>\n",
       "      <td>0__HAMBURG</td>\n",
       "    </tr>\n",
       "    <tr>\n",
       "      <th>9648</th>\n",
       "      <td>7</td>\n",
       "      <td>0</td>\n",
       "      <td>0.0</td>\n",
       "      <td>3__HAMBURG</td>\n",
       "    </tr>\n",
       "    <tr>\n",
       "      <th>9650</th>\n",
       "      <td>9</td>\n",
       "      <td>0</td>\n",
       "      <td>0.0</td>\n",
       "      <td>4__HAMBURG</td>\n",
       "    </tr>\n",
       "    <tr>\n",
       "      <th>9652</th>\n",
       "      <td>0</td>\n",
       "      <td>7</td>\n",
       "      <td>0.0</td>\n",
       "      <td>0__HAMBURG</td>\n",
       "    </tr>\n",
       "    <tr>\n",
       "      <th>9653</th>\n",
       "      <td>11</td>\n",
       "      <td>5</td>\n",
       "      <td>0.0</td>\n",
       "      <td>5__HAMBURG</td>\n",
       "    </tr>\n",
       "    <tr>\n",
       "      <th>...</th>\n",
       "      <td>...</td>\n",
       "      <td>...</td>\n",
       "      <td>...</td>\n",
       "      <td>...</td>\n",
       "    </tr>\n",
       "    <tr>\n",
       "      <th>12033</th>\n",
       "      <td>0</td>\n",
       "      <td>5</td>\n",
       "      <td>0.0</td>\n",
       "      <td>0__HAMBURG</td>\n",
       "    </tr>\n",
       "    <tr>\n",
       "      <th>12039</th>\n",
       "      <td>5</td>\n",
       "      <td>11</td>\n",
       "      <td>0.0</td>\n",
       "      <td>2__HAMBURG</td>\n",
       "    </tr>\n",
       "    <tr>\n",
       "      <th>12046</th>\n",
       "      <td>5</td>\n",
       "      <td>11</td>\n",
       "      <td>0.0</td>\n",
       "      <td>2__HAMBURG</td>\n",
       "    </tr>\n",
       "    <tr>\n",
       "      <th>12052</th>\n",
       "      <td>0</td>\n",
       "      <td>5</td>\n",
       "      <td>0.0</td>\n",
       "      <td>0__HAMBURG</td>\n",
       "    </tr>\n",
       "    <tr>\n",
       "      <th>12053</th>\n",
       "      <td>5</td>\n",
       "      <td>0</td>\n",
       "      <td>0.0</td>\n",
       "      <td>2__HAMBURG</td>\n",
       "    </tr>\n",
       "  </tbody>\n",
       "</table>\n",
       "<p>625 rows × 4 columns</p>\n",
       "</div>"
      ],
      "text/plain": [
       "       id_on_port  predictions  current_port current_terminal\n",
       "9646            0            5           0.0       0__HAMBURG\n",
       "9648            7            0           0.0       3__HAMBURG\n",
       "9650            9            0           0.0       4__HAMBURG\n",
       "9652            0            7           0.0       0__HAMBURG\n",
       "9653           11            5           0.0       5__HAMBURG\n",
       "...           ...          ...           ...              ...\n",
       "12033           0            5           0.0       0__HAMBURG\n",
       "12039           5           11           0.0       2__HAMBURG\n",
       "12046           5           11           0.0       2__HAMBURG\n",
       "12052           0            5           0.0       0__HAMBURG\n",
       "12053           5            0           0.0       2__HAMBURG\n",
       "\n",
       "[625 rows x 4 columns]"
      ]
     },
     "execution_count": 85,
     "metadata": {},
     "output_type": "execute_result"
    }
   ],
   "source": [
    "to_compare.loc[to_compare[\"current_port\"]==0,:]"
   ]
  },
  {
   "cell_type": "code",
   "execution_count": 86,
   "id": "5db9b217",
   "metadata": {},
   "outputs": [
    {
     "data": {
      "text/plain": [
       "array([ 5,  0,  7, 11,  3,  9], dtype=int64)"
      ]
     },
     "execution_count": 86,
     "metadata": {},
     "output_type": "execute_result"
    }
   ],
   "source": [
    "to_compare.loc[to_compare[\"current_port\"]==0,\"predictions\"].unique()"
   ]
  },
  {
   "cell_type": "code",
   "execution_count": 87,
   "id": "d9c2604d",
   "metadata": {},
   "outputs": [
    {
     "data": {
      "text/html": [
       "<div>\n",
       "<style scoped>\n",
       "    .dataframe tbody tr th:only-of-type {\n",
       "        vertical-align: middle;\n",
       "    }\n",
       "\n",
       "    .dataframe tbody tr th {\n",
       "        vertical-align: top;\n",
       "    }\n",
       "\n",
       "    .dataframe thead th {\n",
       "        text-align: right;\n",
       "    }\n",
       "</style>\n",
       "<table border=\"1\" class=\"dataframe\">\n",
       "  <thead>\n",
       "    <tr style=\"text-align: right;\">\n",
       "      <th></th>\n",
       "      <th>id_on_port</th>\n",
       "      <th>predictions</th>\n",
       "      <th>current_port</th>\n",
       "      <th>current_terminal</th>\n",
       "    </tr>\n",
       "  </thead>\n",
       "  <tbody>\n",
       "    <tr>\n",
       "      <th>9680</th>\n",
       "      <td>1</td>\n",
       "      <td>14</td>\n",
       "      <td>1.0</td>\n",
       "      <td>0__LOS ANGELES</td>\n",
       "    </tr>\n",
       "    <tr>\n",
       "      <th>9692</th>\n",
       "      <td>4</td>\n",
       "      <td>12</td>\n",
       "      <td>1.0</td>\n",
       "      <td>1__LOS ANGELES</td>\n",
       "    </tr>\n",
       "    <tr>\n",
       "      <th>9693</th>\n",
       "      <td>12</td>\n",
       "      <td>4</td>\n",
       "      <td>1.0</td>\n",
       "      <td>5__LOS ANGELES</td>\n",
       "    </tr>\n",
       "    <tr>\n",
       "      <th>9694</th>\n",
       "      <td>6</td>\n",
       "      <td>14</td>\n",
       "      <td>1.0</td>\n",
       "      <td>2__LOS ANGELES</td>\n",
       "    </tr>\n",
       "    <tr>\n",
       "      <th>9712</th>\n",
       "      <td>1</td>\n",
       "      <td>14</td>\n",
       "      <td>1.0</td>\n",
       "      <td>0__LOS ANGELES</td>\n",
       "    </tr>\n",
       "    <tr>\n",
       "      <th>...</th>\n",
       "      <td>...</td>\n",
       "      <td>...</td>\n",
       "      <td>...</td>\n",
       "      <td>...</td>\n",
       "    </tr>\n",
       "    <tr>\n",
       "      <th>11878</th>\n",
       "      <td>1</td>\n",
       "      <td>10</td>\n",
       "      <td>1.0</td>\n",
       "      <td>0__LOS ANGELES</td>\n",
       "    </tr>\n",
       "    <tr>\n",
       "      <th>11912</th>\n",
       "      <td>14</td>\n",
       "      <td>6</td>\n",
       "      <td>1.0</td>\n",
       "      <td>6__LOS ANGELES</td>\n",
       "    </tr>\n",
       "    <tr>\n",
       "      <th>11919</th>\n",
       "      <td>12</td>\n",
       "      <td>4</td>\n",
       "      <td>1.0</td>\n",
       "      <td>5__LOS ANGELES</td>\n",
       "    </tr>\n",
       "    <tr>\n",
       "      <th>12025</th>\n",
       "      <td>4</td>\n",
       "      <td>6</td>\n",
       "      <td>1.0</td>\n",
       "      <td>1__LOS ANGELES</td>\n",
       "    </tr>\n",
       "    <tr>\n",
       "      <th>12036</th>\n",
       "      <td>12</td>\n",
       "      <td>1</td>\n",
       "      <td>1.0</td>\n",
       "      <td>5__LOS ANGELES</td>\n",
       "    </tr>\n",
       "  </tbody>\n",
       "</table>\n",
       "<p>75 rows × 4 columns</p>\n",
       "</div>"
      ],
      "text/plain": [
       "       id_on_port  predictions  current_port current_terminal\n",
       "9680            1           14           1.0   0__LOS ANGELES\n",
       "9692            4           12           1.0   1__LOS ANGELES\n",
       "9693           12            4           1.0   5__LOS ANGELES\n",
       "9694            6           14           1.0   2__LOS ANGELES\n",
       "9712            1           14           1.0   0__LOS ANGELES\n",
       "...           ...          ...           ...              ...\n",
       "11878           1           10           1.0   0__LOS ANGELES\n",
       "11912          14            6           1.0   6__LOS ANGELES\n",
       "11919          12            4           1.0   5__LOS ANGELES\n",
       "12025           4            6           1.0   1__LOS ANGELES\n",
       "12036          12            1           1.0   5__LOS ANGELES\n",
       "\n",
       "[75 rows x 4 columns]"
      ]
     },
     "execution_count": 87,
     "metadata": {},
     "output_type": "execute_result"
    }
   ],
   "source": [
    "to_compare.loc[to_compare[\"current_port\"]==1,:]"
   ]
  },
  {
   "cell_type": "code",
   "execution_count": 88,
   "id": "65b631bb",
   "metadata": {},
   "outputs": [
    {
     "data": {
      "text/html": [
       "<div>\n",
       "<style scoped>\n",
       "    .dataframe tbody tr th:only-of-type {\n",
       "        vertical-align: middle;\n",
       "    }\n",
       "\n",
       "    .dataframe tbody tr th {\n",
       "        vertical-align: top;\n",
       "    }\n",
       "\n",
       "    .dataframe thead th {\n",
       "        text-align: right;\n",
       "    }\n",
       "</style>\n",
       "<table border=\"1\" class=\"dataframe\">\n",
       "  <thead>\n",
       "    <tr style=\"text-align: right;\">\n",
       "      <th></th>\n",
       "      <th>id_on_port</th>\n",
       "      <th>predictions</th>\n",
       "      <th>current_port</th>\n",
       "      <th>current_terminal</th>\n",
       "    </tr>\n",
       "  </thead>\n",
       "  <tbody>\n",
       "    <tr>\n",
       "      <th>9646</th>\n",
       "      <td>0</td>\n",
       "      <td>5</td>\n",
       "      <td>0.0</td>\n",
       "      <td>0__HAMBURG</td>\n",
       "    </tr>\n",
       "    <tr>\n",
       "      <th>9648</th>\n",
       "      <td>7</td>\n",
       "      <td>0</td>\n",
       "      <td>0.0</td>\n",
       "      <td>3__HAMBURG</td>\n",
       "    </tr>\n",
       "    <tr>\n",
       "      <th>9650</th>\n",
       "      <td>9</td>\n",
       "      <td>0</td>\n",
       "      <td>0.0</td>\n",
       "      <td>4__HAMBURG</td>\n",
       "    </tr>\n",
       "    <tr>\n",
       "      <th>9652</th>\n",
       "      <td>0</td>\n",
       "      <td>7</td>\n",
       "      <td>0.0</td>\n",
       "      <td>0__HAMBURG</td>\n",
       "    </tr>\n",
       "    <tr>\n",
       "      <th>9653</th>\n",
       "      <td>11</td>\n",
       "      <td>5</td>\n",
       "      <td>0.0</td>\n",
       "      <td>5__HAMBURG</td>\n",
       "    </tr>\n",
       "    <tr>\n",
       "      <th>...</th>\n",
       "      <td>...</td>\n",
       "      <td>...</td>\n",
       "      <td>...</td>\n",
       "      <td>...</td>\n",
       "    </tr>\n",
       "    <tr>\n",
       "      <th>12033</th>\n",
       "      <td>0</td>\n",
       "      <td>5</td>\n",
       "      <td>0.0</td>\n",
       "      <td>0__HAMBURG</td>\n",
       "    </tr>\n",
       "    <tr>\n",
       "      <th>12039</th>\n",
       "      <td>5</td>\n",
       "      <td>11</td>\n",
       "      <td>0.0</td>\n",
       "      <td>2__HAMBURG</td>\n",
       "    </tr>\n",
       "    <tr>\n",
       "      <th>12046</th>\n",
       "      <td>5</td>\n",
       "      <td>11</td>\n",
       "      <td>0.0</td>\n",
       "      <td>2__HAMBURG</td>\n",
       "    </tr>\n",
       "    <tr>\n",
       "      <th>12052</th>\n",
       "      <td>0</td>\n",
       "      <td>5</td>\n",
       "      <td>0.0</td>\n",
       "      <td>0__HAMBURG</td>\n",
       "    </tr>\n",
       "    <tr>\n",
       "      <th>12053</th>\n",
       "      <td>5</td>\n",
       "      <td>0</td>\n",
       "      <td>0.0</td>\n",
       "      <td>2__HAMBURG</td>\n",
       "    </tr>\n",
       "  </tbody>\n",
       "</table>\n",
       "<p>625 rows × 4 columns</p>\n",
       "</div>"
      ],
      "text/plain": [
       "       id_on_port  predictions  current_port current_terminal\n",
       "9646            0            5           0.0       0__HAMBURG\n",
       "9648            7            0           0.0       3__HAMBURG\n",
       "9650            9            0           0.0       4__HAMBURG\n",
       "9652            0            7           0.0       0__HAMBURG\n",
       "9653           11            5           0.0       5__HAMBURG\n",
       "...           ...          ...           ...              ...\n",
       "12033           0            5           0.0       0__HAMBURG\n",
       "12039           5           11           0.0       2__HAMBURG\n",
       "12046           5           11           0.0       2__HAMBURG\n",
       "12052           0            5           0.0       0__HAMBURG\n",
       "12053           5            0           0.0       2__HAMBURG\n",
       "\n",
       "[625 rows x 4 columns]"
      ]
     },
     "execution_count": 88,
     "metadata": {},
     "output_type": "execute_result"
    }
   ],
   "source": [
    "to_compare.loc[(to_compare[\"current_port\"]==0),:]"
   ]
  },
  {
   "cell_type": "code",
   "execution_count": 89,
   "id": "2f0d8c1a",
   "metadata": {},
   "outputs": [],
   "source": [
    "mis_HA = to_compare.loc[to_compare[\"current_port\"]==0,\"predictions\"].unique()"
   ]
  },
  {
   "cell_type": "code",
   "execution_count": 90,
   "id": "a9474325",
   "metadata": {},
   "outputs": [],
   "source": [
    "mis_LA = to_compare.loc[to_compare[\"current_port\"]==1,\"predictions\"].unique()"
   ]
  },
  {
   "cell_type": "code",
   "execution_count": 91,
   "id": "ad3904fa",
   "metadata": {},
   "outputs": [
    {
     "data": {
      "text/plain": [
       "Counter({'0__LOS ANGELES': 20,\n",
       "         '1__LOS ANGELES': 19,\n",
       "         '5__LOS ANGELES': 10,\n",
       "         '2__LOS ANGELES': 5,\n",
       "         '6__LOS ANGELES': 7,\n",
       "         '4__LOS ANGELES': 10,\n",
       "         '3__LOS ANGELES': 4})"
      ]
     },
     "execution_count": 91,
     "metadata": {},
     "output_type": "execute_result"
    }
   ],
   "source": [
    "Counter(to_compare.loc[to_compare[\"id_on_port\"].isin(mis_LA),\"current_terminal\"].to_list())"
   ]
  },
  {
   "cell_type": "code",
   "execution_count": 92,
   "id": "31429757",
   "metadata": {},
   "outputs": [
    {
     "data": {
      "text/plain": [
       "Counter({'0__HAMBURG': 130,\n",
       "         '3__HAMBURG': 156,\n",
       "         '4__HAMBURG': 4,\n",
       "         '5__HAMBURG': 130,\n",
       "         '2__HAMBURG': 178,\n",
       "         '1__HAMBURG': 5})"
      ]
     },
     "execution_count": 92,
     "metadata": {},
     "output_type": "execute_result"
    }
   ],
   "source": [
    "Counter(to_compare.loc[to_compare[\"id_on_port\"].isin(mis_HA),\"current_terminal\"].to_list())"
   ]
  },
  {
   "cell_type": "markdown",
   "id": "3483ed01",
   "metadata": {},
   "source": [
    "#### this is the distribution on the train."
   ]
  },
  {
   "cell_type": "code",
   "execution_count": 93,
   "id": "3174628b",
   "metadata": {},
   "outputs": [
    {
     "data": {
      "text/plain": [
       "Counter({'0__HAMBURG': 2124,\n",
       "         '1__HAMBURG': 224,\n",
       "         '2__HAMBURG': 1846,\n",
       "         '3__HAMBURG': 2236,\n",
       "         '0__LOS ANGELES': 412,\n",
       "         '4__HAMBURG': 122,\n",
       "         '5__HAMBURG': 897,\n",
       "         '1__LOS ANGELES': 384,\n",
       "         '2__LOS ANGELES': 188,\n",
       "         '3__LOS ANGELES': 384,\n",
       "         '4__LOS ANGELES': 217,\n",
       "         '5__LOS ANGELES': 287,\n",
       "         '6__LOS ANGELES': 264,\n",
       "         '6__HAMBURG': 26,\n",
       "         '7__HAMBURG': 24,\n",
       "         '8__HAMBURG': 6,\n",
       "         '9__HAMBURG': 1,\n",
       "         '7__LOS ANGELES': 1})"
      ]
     },
     "execution_count": 93,
     "metadata": {},
     "output_type": "execute_result"
    }
   ],
   "source": [
    "Counter(X_train_main.loc[:,\"concat\"].to_list())"
   ]
  },
  {
   "cell_type": "markdown",
   "id": "427138c0",
   "metadata": {},
   "source": [
    "Something that completely makes sense since the examples for the terminal 7 and above for each port have extremely low occurence.\n",
    "\n",
    "Essentially that plays a role on the misbehaviors of the best performing model so far."
   ]
  },
  {
   "cell_type": "markdown",
   "id": "82d753ad",
   "metadata": {},
   "source": [
    "# Conclusions"
   ]
  },
  {
   "cell_type": "markdown",
   "id": "5c3e8f55",
   "metadata": {},
   "source": [
    "1 & 2. The features finally selected are coming from the backwards and the forward eliminations. \n",
    "Correlation of the features did give an insight along with logistic regression coefficients and random forests' feature importances, but essentially *correlation does not imply causation* so the safest way to decide was FE and BE.\n",
    "\n",
    "3. My findings agree with the product team since there was a better result by using the actual historical data of each ship to predict the next destination. Before build the model you must check the relationship between the variables as well as their relationship with their target (independent variable).\n",
    "\n",
    "4. It is evident that this is a pure classification problem since we're called to predict essentially a categorical variable.\n",
    "\n",
    "5. Overall my model has a better accuracy than the baseline (thus proving there was room for improvement) but it had worse results from the baseline on getting better results *across all of the terminals*\n",
    "\n",
    "6. The reasons that the algorithm has failed in several occasions is that there were categories with extremely low pupulation i.e. some terminals had up to 10 occurences of data whereas the biggest occurences were found on terminals with over 2000 visits.\n",
    "Also i had 1 model for both LA and HAMBURG so there were bound to be some missclassifications i.e. over the 9nth terminal in LA. Especially since there were significantly less examples in the LA port. Of course post processing here\n",
    "helps the results. One other way that i could have tackled this issue is to actually have 2 models but i believe the one model actually found correlations between some of the terminals for each port.\n",
    "\n",
    "7. The most naive approach i could find here is to actually use the previous visit on the current port as the prediction. Something which proved to be an excellent baseline."
   ]
  },
  {
   "cell_type": "markdown",
   "id": "084476d1",
   "metadata": {},
   "source": [
    "## Possible future work"
   ]
  },
  {
   "cell_type": "markdown",
   "id": "779dbbf9",
   "metadata": {},
   "source": [
    "1. We could try ship embeddings.\n",
    "2. Find a way to see if there is a cap on the occupation of each terminal so we can significantly reduce the search space of our predictions in production.\n",
    "3. Even though i used the \"diff\" feature in the training, it would also be important to get the actual km distance from beggining to the end port.\n",
    "4. We could try binning the \"volume\" of the ships that comes from a histogram as an extra feature.\n",
    "5. Use extensive tuning on non linear ml algorithms but not DNNs since the dataset is quite small.\n",
    "6. Post process by either performing clustering on the terminals (i.e. in case of invalid classification correct it with the closest valid terminal in the same cluster)"
   ]
  },
  {
   "cell_type": "markdown",
   "id": "22c8cda1",
   "metadata": {},
   "source": [
    "A bonus point for discussion:\n",
    "\n",
    "Given the accuracy of your model, what would be the next steps in terms of deploying a solution such\n",
    "that the model’s value to the business is maximised?\n",
    "\n",
    "\n",
    "The first steps i would consider to maximize the business eficiency are:\n",
    "\n",
    "1. Identify how to integrate the model into our workflow and actually set a shadow deployment for it.\n",
    "2. Make sure that we use the proper tools for scaling it for larger datasets (and requests).\n",
    "3. Evaluate the model in the inference by setting up an evaluation platform (this cannot be done manually for a long time).\n",
    "4. Get feedback from the product on any tweaks that it might need to satisfy our customers.\n",
    "5. Set up a plan to make sure it is futureproof and maintainable.\n"
   ]
  }
 ],
 "metadata": {
  "kernelspec": {
   "display_name": "Python 3 (ipykernel)",
   "language": "python",
   "name": "python3"
  },
  "language_info": {
   "codemirror_mode": {
    "name": "ipython",
    "version": 3
   },
   "file_extension": ".py",
   "mimetype": "text/x-python",
   "name": "python",
   "nbconvert_exporter": "python",
   "pygments_lexer": "ipython3",
   "version": "3.9.13"
  }
 },
 "nbformat": 4,
 "nbformat_minor": 5
}
